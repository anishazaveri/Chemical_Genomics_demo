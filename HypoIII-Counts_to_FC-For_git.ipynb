{
 "cells": [
  {
   "cell_type": "markdown",
   "metadata": {},
   "source": [
    "## Merge ODs"
   ]
  },
  {
   "cell_type": "markdown",
   "metadata": {},
   "source": [
    "Given \n",
    "\n",
    "1) A raw OD file containing bacterial growth measurements\n",
    "\n",
    "2) A drugs dispensed file with which drug was dispensed in which well\n",
    "\n",
    "Combine the two, remove unnecessary columns and ensure backwards compatibility"
   ]
  },
  {
   "cell_type": "code",
   "execution_count": 6,
   "metadata": {
    "ExecuteTime": {
     "end_time": "2020-02-25T01:56:13.812834Z",
     "start_time": "2020-02-25T01:56:13.717834Z"
    }
   },
   "outputs": [],
   "source": [
    "%reset -f"
   ]
  },
  {
   "cell_type": "code",
   "execution_count": 7,
   "metadata": {
    "ExecuteTime": {
     "end_time": "2020-02-25T01:56:13.844832Z",
     "start_time": "2020-02-25T01:56:13.818835Z"
    }
   },
   "outputs": [],
   "source": [
    "import pandas as pd\n",
    "import os\n",
    "import pathlib\n",
    "%matplotlib inline"
   ]
  },
  {
   "cell_type": "code",
   "execution_count": 8,
   "metadata": {
    "ExecuteTime": {
     "end_time": "2020-02-25T01:56:21.685837Z",
     "start_time": "2020-02-25T01:56:13.851835Z"
    },
    "scrolled": true
   },
   "outputs": [
    {
     "data": {
      "text/html": [
       "<div>\n",
       "<style scoped>\n",
       "    .dataframe tbody tr th:only-of-type {\n",
       "        vertical-align: middle;\n",
       "    }\n",
       "\n",
       "    .dataframe tbody tr th {\n",
       "        vertical-align: top;\n",
       "    }\n",
       "\n",
       "    .dataframe thead th {\n",
       "        text-align: right;\n",
       "    }\n",
       "</style>\n",
       "<table border=\"1\" class=\"dataframe\">\n",
       "  <thead>\n",
       "    <tr style=\"text-align: right;\">\n",
       "      <th></th>\n",
       "      <th>Name</th>\n",
       "      <th>InstrumentInfo</th>\n",
       "      <th>ReadTime</th>\n",
       "      <th>Barcode</th>\n",
       "      <th>ReadMode</th>\n",
       "      <th>ReadType</th>\n",
       "      <th>PlateType</th>\n",
       "      <th>Shake</th>\n",
       "      <th>Calibrate</th>\n",
       "      <th>CarriageSpeed</th>\n",
       "      <th>...</th>\n",
       "      <th>Row</th>\n",
       "      <th>Col</th>\n",
       "      <th>RawData</th>\n",
       "      <th>TemperatureData</th>\n",
       "      <th>WellID3</th>\n",
       "      <th>Name4</th>\n",
       "      <th>reducedVal</th>\n",
       "      <th>Rows</th>\n",
       "      <th>Columns</th>\n",
       "      <th>AdditionalExports</th>\n",
       "    </tr>\n",
       "  </thead>\n",
       "  <tbody>\n",
       "    <tr>\n",
       "      <td>0</td>\n",
       "      <td>drug_0</td>\n",
       "      <td>SpectraMax M2e\\nROM v3.0.22 16Feb11</td>\n",
       "      <td>9:52 AM 11/20/2018</td>\n",
       "      <td>NaN</td>\n",
       "      <td>Absorbance</td>\n",
       "      <td>Endpoint</td>\n",
       "      <td>96 Well Standard clrbtm</td>\n",
       "      <td>Off</td>\n",
       "      <td>On</td>\n",
       "      <td>Normal</td>\n",
       "      <td>...</td>\n",
       "      <td>1.0</td>\n",
       "      <td>1.0</td>\n",
       "      <td>0.8393</td>\n",
       "      <td>36.6</td>\n",
       "      <td>NaN</td>\n",
       "      <td>NaN</td>\n",
       "      <td>NaN</td>\n",
       "      <td>8</td>\n",
       "      <td>12</td>\n",
       "      <td>NaN</td>\n",
       "    </tr>\n",
       "    <tr>\n",
       "      <td>1</td>\n",
       "      <td>drug_0</td>\n",
       "      <td>SpectraMax M2e\\nROM v3.0.22 16Feb11</td>\n",
       "      <td>9:52 AM 11/20/2018</td>\n",
       "      <td>NaN</td>\n",
       "      <td>Absorbance</td>\n",
       "      <td>Endpoint</td>\n",
       "      <td>96 Well Standard clrbtm</td>\n",
       "      <td>Off</td>\n",
       "      <td>On</td>\n",
       "      <td>Normal</td>\n",
       "      <td>...</td>\n",
       "      <td>1.0</td>\n",
       "      <td>2.0</td>\n",
       "      <td>0.8193</td>\n",
       "      <td>36.6</td>\n",
       "      <td>NaN</td>\n",
       "      <td>NaN</td>\n",
       "      <td>NaN</td>\n",
       "      <td>8</td>\n",
       "      <td>12</td>\n",
       "      <td>NaN</td>\n",
       "    </tr>\n",
       "    <tr>\n",
       "      <td>2</td>\n",
       "      <td>drug_0</td>\n",
       "      <td>SpectraMax M2e\\nROM v3.0.22 16Feb11</td>\n",
       "      <td>9:52 AM 11/20/2018</td>\n",
       "      <td>NaN</td>\n",
       "      <td>Absorbance</td>\n",
       "      <td>Endpoint</td>\n",
       "      <td>96 Well Standard clrbtm</td>\n",
       "      <td>Off</td>\n",
       "      <td>On</td>\n",
       "      <td>Normal</td>\n",
       "      <td>...</td>\n",
       "      <td>1.0</td>\n",
       "      <td>3.0</td>\n",
       "      <td>0.8171</td>\n",
       "      <td>36.6</td>\n",
       "      <td>NaN</td>\n",
       "      <td>NaN</td>\n",
       "      <td>NaN</td>\n",
       "      <td>8</td>\n",
       "      <td>12</td>\n",
       "      <td>NaN</td>\n",
       "    </tr>\n",
       "    <tr>\n",
       "      <td>3</td>\n",
       "      <td>drug_0</td>\n",
       "      <td>SpectraMax M2e\\nROM v3.0.22 16Feb11</td>\n",
       "      <td>9:52 AM 11/20/2018</td>\n",
       "      <td>NaN</td>\n",
       "      <td>Absorbance</td>\n",
       "      <td>Endpoint</td>\n",
       "      <td>96 Well Standard clrbtm</td>\n",
       "      <td>Off</td>\n",
       "      <td>On</td>\n",
       "      <td>Normal</td>\n",
       "      <td>...</td>\n",
       "      <td>1.0</td>\n",
       "      <td>4.0</td>\n",
       "      <td>0.8081</td>\n",
       "      <td>36.6</td>\n",
       "      <td>NaN</td>\n",
       "      <td>NaN</td>\n",
       "      <td>NaN</td>\n",
       "      <td>8</td>\n",
       "      <td>12</td>\n",
       "      <td>NaN</td>\n",
       "    </tr>\n",
       "    <tr>\n",
       "      <td>4</td>\n",
       "      <td>drug_0</td>\n",
       "      <td>SpectraMax M2e\\nROM v3.0.22 16Feb11</td>\n",
       "      <td>9:52 AM 11/20/2018</td>\n",
       "      <td>NaN</td>\n",
       "      <td>Absorbance</td>\n",
       "      <td>Endpoint</td>\n",
       "      <td>96 Well Standard clrbtm</td>\n",
       "      <td>Off</td>\n",
       "      <td>On</td>\n",
       "      <td>Normal</td>\n",
       "      <td>...</td>\n",
       "      <td>1.0</td>\n",
       "      <td>5.0</td>\n",
       "      <td>0.8001</td>\n",
       "      <td>36.6</td>\n",
       "      <td>NaN</td>\n",
       "      <td>NaN</td>\n",
       "      <td>NaN</td>\n",
       "      <td>8</td>\n",
       "      <td>12</td>\n",
       "      <td>NaN</td>\n",
       "    </tr>\n",
       "  </tbody>\n",
       "</table>\n",
       "<p>5 rows × 27 columns</p>\n",
       "</div>"
      ],
      "text/plain": [
       "     Name                       InstrumentInfo            ReadTime  Barcode  \\\n",
       "0  drug_0  SpectraMax M2e\\nROM v3.0.22 16Feb11  9:52 AM 11/20/2018      NaN   \n",
       "1  drug_0  SpectraMax M2e\\nROM v3.0.22 16Feb11  9:52 AM 11/20/2018      NaN   \n",
       "2  drug_0  SpectraMax M2e\\nROM v3.0.22 16Feb11  9:52 AM 11/20/2018      NaN   \n",
       "3  drug_0  SpectraMax M2e\\nROM v3.0.22 16Feb11  9:52 AM 11/20/2018      NaN   \n",
       "4  drug_0  SpectraMax M2e\\nROM v3.0.22 16Feb11  9:52 AM 11/20/2018      NaN   \n",
       "\n",
       "     ReadMode  ReadType                PlateType Shake Calibrate  \\\n",
       "0  Absorbance  Endpoint  96 Well Standard clrbtm   Off        On   \n",
       "1  Absorbance  Endpoint  96 Well Standard clrbtm   Off        On   \n",
       "2  Absorbance  Endpoint  96 Well Standard clrbtm   Off        On   \n",
       "3  Absorbance  Endpoint  96 Well Standard clrbtm   Off        On   \n",
       "4  Absorbance  Endpoint  96 Well Standard clrbtm   Off        On   \n",
       "\n",
       "  CarriageSpeed  ...  Row  Col  RawData  TemperatureData  WellID3  Name4  \\\n",
       "0        Normal  ...  1.0  1.0   0.8393             36.6      NaN    NaN   \n",
       "1        Normal  ...  1.0  2.0   0.8193             36.6      NaN    NaN   \n",
       "2        Normal  ...  1.0  3.0   0.8171             36.6      NaN    NaN   \n",
       "3        Normal  ...  1.0  4.0   0.8081             36.6      NaN    NaN   \n",
       "4        Normal  ...  1.0  5.0   0.8001             36.6      NaN    NaN   \n",
       "\n",
       "  reducedVal  Rows  Columns  AdditionalExports  \n",
       "0        NaN     8       12                NaN  \n",
       "1        NaN     8       12                NaN  \n",
       "2        NaN     8       12                NaN  \n",
       "3        NaN     8       12                NaN  \n",
       "4        NaN     8       12                NaN  \n",
       "\n",
       "[5 rows x 27 columns]"
      ]
     },
     "execution_count": 8,
     "metadata": {},
     "output_type": "execute_result"
    }
   ],
   "source": [
    "ods = pd.read_excel(pathlib.Path.cwd().joinpath('Raw_data', \"181120_HypoIII_Ods_encoded.xlsx\"))\n",
    "ods.head()"
   ]
  },
  {
   "cell_type": "code",
   "execution_count": 9,
   "metadata": {
    "ExecuteTime": {
     "end_time": "2020-02-25T01:56:21.748835Z",
     "start_time": "2020-02-25T01:56:21.692834Z"
    }
   },
   "outputs": [
    {
     "data": {
      "text/html": [
       "<div>\n",
       "<style scoped>\n",
       "    .dataframe tbody tr th:only-of-type {\n",
       "        vertical-align: middle;\n",
       "    }\n",
       "\n",
       "    .dataframe tbody tr th {\n",
       "        vertical-align: top;\n",
       "    }\n",
       "\n",
       "    .dataframe thead th {\n",
       "        text-align: right;\n",
       "    }\n",
       "</style>\n",
       "<table border=\"1\" class=\"dataframe\">\n",
       "  <thead>\n",
       "    <tr style=\"text-align: right;\">\n",
       "      <th></th>\n",
       "      <th>Name</th>\n",
       "      <th>Row</th>\n",
       "      <th>Col</th>\n",
       "      <th>OD</th>\n",
       "    </tr>\n",
       "  </thead>\n",
       "  <tbody>\n",
       "    <tr>\n",
       "      <td>14</td>\n",
       "      <td>drug_0</td>\n",
       "      <td>2</td>\n",
       "      <td>3</td>\n",
       "      <td>0.8929</td>\n",
       "    </tr>\n",
       "    <tr>\n",
       "      <td>15</td>\n",
       "      <td>drug_0</td>\n",
       "      <td>2</td>\n",
       "      <td>4</td>\n",
       "      <td>0.2876</td>\n",
       "    </tr>\n",
       "    <tr>\n",
       "      <td>16</td>\n",
       "      <td>drug_0</td>\n",
       "      <td>2</td>\n",
       "      <td>5</td>\n",
       "      <td>0.6768</td>\n",
       "    </tr>\n",
       "    <tr>\n",
       "      <td>17</td>\n",
       "      <td>drug_0</td>\n",
       "      <td>2</td>\n",
       "      <td>6</td>\n",
       "      <td>0.2796</td>\n",
       "    </tr>\n",
       "    <tr>\n",
       "      <td>18</td>\n",
       "      <td>drug_0</td>\n",
       "      <td>2</td>\n",
       "      <td>7</td>\n",
       "      <td>0.7699</td>\n",
       "    </tr>\n",
       "  </tbody>\n",
       "</table>\n",
       "</div>"
      ],
      "text/plain": [
       "      Name  Row  Col      OD\n",
       "14  drug_0    2    3  0.8929\n",
       "15  drug_0    2    4  0.2876\n",
       "16  drug_0    2    5  0.6768\n",
       "17  drug_0    2    6  0.2796\n",
       "18  drug_0    2    7  0.7699"
      ]
     },
     "execution_count": 9,
     "metadata": {},
     "output_type": "execute_result"
    }
   ],
   "source": [
    "#delete useless columns\n",
    "ods = ods.loc[:,['Name', 'Row', 'Col', 'RawData']]\n",
    "#remove empty wells. Note that plate configuration is central 48 wells within a 96 well plate\n",
    "ods.dropna(subset = ['Row', 'Col'], how='any', inplace=True)\n",
    "ods[['Row', 'Col']]=ods[['Row', 'Col']].astype(int)\n",
    "ods = ods[(ods['Row']>1) & (ods['Row']<8) & (ods['Col']>2) & (ods['Col']<11)]\n",
    "ods.rename(columns={'RawData': 'OD'}, inplace=True)\n",
    "ods.head()"
   ]
  },
  {
   "cell_type": "code",
   "execution_count": 10,
   "metadata": {
    "ExecuteTime": {
     "end_time": "2020-02-25T01:56:21.796834Z",
     "start_time": "2020-02-25T01:56:21.752834Z"
    }
   },
   "outputs": [
    {
     "data": {
      "text/html": [
       "<div>\n",
       "<style scoped>\n",
       "    .dataframe tbody tr th:only-of-type {\n",
       "        vertical-align: middle;\n",
       "    }\n",
       "\n",
       "    .dataframe tbody tr th {\n",
       "        vertical-align: top;\n",
       "    }\n",
       "\n",
       "    .dataframe thead th {\n",
       "        text-align: right;\n",
       "    }\n",
       "</style>\n",
       "<table border=\"1\" class=\"dataframe\">\n",
       "  <thead>\n",
       "    <tr style=\"text-align: right;\">\n",
       "      <th></th>\n",
       "      <th>Plate</th>\n",
       "      <th>Dispensedwell</th>\n",
       "      <th>Dispensedrow</th>\n",
       "      <th>Dispensedcol</th>\n",
       "      <th>Nonrandomwell</th>\n",
       "      <th>Nonrandomrow</th>\n",
       "      <th>Nonrandomcol</th>\n",
       "      <th>xMIC</th>\n",
       "      <th>Replicate</th>\n",
       "      <th>Short</th>\n",
       "    </tr>\n",
       "  </thead>\n",
       "  <tbody>\n",
       "    <tr>\n",
       "      <td>0</td>\n",
       "      <td>29</td>\n",
       "      <td>B03</td>\n",
       "      <td>2</td>\n",
       "      <td>3</td>\n",
       "      <td>B09</td>\n",
       "      <td>2</td>\n",
       "      <td>9</td>\n",
       "      <td>0.125xMIC</td>\n",
       "      <td>1</td>\n",
       "      <td>drug_0</td>\n",
       "    </tr>\n",
       "    <tr>\n",
       "      <td>1</td>\n",
       "      <td>29</td>\n",
       "      <td>B04</td>\n",
       "      <td>2</td>\n",
       "      <td>4</td>\n",
       "      <td>B03</td>\n",
       "      <td>2</td>\n",
       "      <td>3</td>\n",
       "      <td>8xMIC</td>\n",
       "      <td>1</td>\n",
       "      <td>drug_0</td>\n",
       "    </tr>\n",
       "    <tr>\n",
       "      <td>2</td>\n",
       "      <td>29</td>\n",
       "      <td>B05</td>\n",
       "      <td>2</td>\n",
       "      <td>5</td>\n",
       "      <td>E06</td>\n",
       "      <td>5</td>\n",
       "      <td>6</td>\n",
       "      <td>1xMIC</td>\n",
       "      <td>1</td>\n",
       "      <td>drug_0</td>\n",
       "    </tr>\n",
       "    <tr>\n",
       "      <td>3</td>\n",
       "      <td>29</td>\n",
       "      <td>B06</td>\n",
       "      <td>2</td>\n",
       "      <td>6</td>\n",
       "      <td>F04</td>\n",
       "      <td>6</td>\n",
       "      <td>4</td>\n",
       "      <td>4xMIC</td>\n",
       "      <td>1</td>\n",
       "      <td>drug_0</td>\n",
       "    </tr>\n",
       "    <tr>\n",
       "      <td>4</td>\n",
       "      <td>29</td>\n",
       "      <td>B07</td>\n",
       "      <td>2</td>\n",
       "      <td>7</td>\n",
       "      <td>G09</td>\n",
       "      <td>7</td>\n",
       "      <td>9</td>\n",
       "      <td>0.125xMIC</td>\n",
       "      <td>2</td>\n",
       "      <td>drug_0</td>\n",
       "    </tr>\n",
       "  </tbody>\n",
       "</table>\n",
       "</div>"
      ],
      "text/plain": [
       "   Plate Dispensedwell  Dispensedrow  Dispensedcol Nonrandomwell  \\\n",
       "0     29           B03             2             3           B09   \n",
       "1     29           B04             2             4           B03   \n",
       "2     29           B05             2             5           E06   \n",
       "3     29           B06             2             6           F04   \n",
       "4     29           B07             2             7           G09   \n",
       "\n",
       "   Nonrandomrow  Nonrandomcol       xMIC  Replicate   Short  \n",
       "0             2             9  0.125xMIC          1  drug_0  \n",
       "1             2             3      8xMIC          1  drug_0  \n",
       "2             5             6      1xMIC          1  drug_0  \n",
       "3             6             4      4xMIC          1  drug_0  \n",
       "4             7             9  0.125xMIC          2  drug_0  "
      ]
     },
     "execution_count": 10,
     "metadata": {},
     "output_type": "execute_result"
    }
   ],
   "source": [
    "all_drugs_dispensed = pd.read_csv(pathlib.Path.cwd().joinpath('Raw_data', 'HypoIII_all_drugs_encoded.csv'))\n",
    "all_drugs_dispensed.head()\n"
   ]
  },
  {
   "cell_type": "code",
   "execution_count": 11,
   "metadata": {
    "ExecuteTime": {
     "end_time": "2020-02-25T01:56:21.890830Z",
     "start_time": "2020-02-25T01:56:21.801835Z"
    }
   },
   "outputs": [
    {
     "data": {
      "text/html": [
       "<div>\n",
       "<style scoped>\n",
       "    .dataframe tbody tr th:only-of-type {\n",
       "        vertical-align: middle;\n",
       "    }\n",
       "\n",
       "    .dataframe tbody tr th {\n",
       "        vertical-align: top;\n",
       "    }\n",
       "\n",
       "    .dataframe thead th {\n",
       "        text-align: right;\n",
       "    }\n",
       "</style>\n",
       "<table border=\"1\" class=\"dataframe\">\n",
       "  <thead>\n",
       "    <tr style=\"text-align: right;\">\n",
       "      <th></th>\n",
       "      <th>Name</th>\n",
       "      <th>Row</th>\n",
       "      <th>Col</th>\n",
       "      <th>OD</th>\n",
       "      <th>Plate</th>\n",
       "      <th>Dispensedwell</th>\n",
       "      <th>Dispensedrow</th>\n",
       "      <th>Dispensedcol</th>\n",
       "      <th>Nonrandomwell</th>\n",
       "      <th>Nonrandomrow</th>\n",
       "      <th>Nonrandomcol</th>\n",
       "      <th>xMIC</th>\n",
       "      <th>Replicate</th>\n",
       "      <th>Short</th>\n",
       "    </tr>\n",
       "  </thead>\n",
       "  <tbody>\n",
       "    <tr>\n",
       "      <td>0</td>\n",
       "      <td>drug_0</td>\n",
       "      <td>2</td>\n",
       "      <td>3</td>\n",
       "      <td>0.8929</td>\n",
       "      <td>29</td>\n",
       "      <td>B03</td>\n",
       "      <td>2</td>\n",
       "      <td>3</td>\n",
       "      <td>B09</td>\n",
       "      <td>2</td>\n",
       "      <td>9</td>\n",
       "      <td>0.125xMIC</td>\n",
       "      <td>1</td>\n",
       "      <td>drug_0</td>\n",
       "    </tr>\n",
       "    <tr>\n",
       "      <td>1</td>\n",
       "      <td>drug_0</td>\n",
       "      <td>2</td>\n",
       "      <td>4</td>\n",
       "      <td>0.2876</td>\n",
       "      <td>29</td>\n",
       "      <td>B04</td>\n",
       "      <td>2</td>\n",
       "      <td>4</td>\n",
       "      <td>B03</td>\n",
       "      <td>2</td>\n",
       "      <td>3</td>\n",
       "      <td>8xMIC</td>\n",
       "      <td>1</td>\n",
       "      <td>drug_0</td>\n",
       "    </tr>\n",
       "    <tr>\n",
       "      <td>2</td>\n",
       "      <td>drug_0</td>\n",
       "      <td>2</td>\n",
       "      <td>5</td>\n",
       "      <td>0.6768</td>\n",
       "      <td>29</td>\n",
       "      <td>B05</td>\n",
       "      <td>2</td>\n",
       "      <td>5</td>\n",
       "      <td>E06</td>\n",
       "      <td>5</td>\n",
       "      <td>6</td>\n",
       "      <td>1xMIC</td>\n",
       "      <td>1</td>\n",
       "      <td>drug_0</td>\n",
       "    </tr>\n",
       "    <tr>\n",
       "      <td>3</td>\n",
       "      <td>drug_0</td>\n",
       "      <td>2</td>\n",
       "      <td>6</td>\n",
       "      <td>0.2796</td>\n",
       "      <td>29</td>\n",
       "      <td>B06</td>\n",
       "      <td>2</td>\n",
       "      <td>6</td>\n",
       "      <td>F04</td>\n",
       "      <td>6</td>\n",
       "      <td>4</td>\n",
       "      <td>4xMIC</td>\n",
       "      <td>1</td>\n",
       "      <td>drug_0</td>\n",
       "    </tr>\n",
       "    <tr>\n",
       "      <td>4</td>\n",
       "      <td>drug_0</td>\n",
       "      <td>2</td>\n",
       "      <td>7</td>\n",
       "      <td>0.7699</td>\n",
       "      <td>29</td>\n",
       "      <td>B07</td>\n",
       "      <td>2</td>\n",
       "      <td>7</td>\n",
       "      <td>G09</td>\n",
       "      <td>7</td>\n",
       "      <td>9</td>\n",
       "      <td>0.125xMIC</td>\n",
       "      <td>2</td>\n",
       "      <td>drug_0</td>\n",
       "    </tr>\n",
       "  </tbody>\n",
       "</table>\n",
       "</div>"
      ],
      "text/plain": [
       "     Name  Row  Col      OD  Plate Dispensedwell  Dispensedrow  Dispensedcol  \\\n",
       "0  drug_0    2    3  0.8929     29           B03             2             3   \n",
       "1  drug_0    2    4  0.2876     29           B04             2             4   \n",
       "2  drug_0    2    5  0.6768     29           B05             2             5   \n",
       "3  drug_0    2    6  0.2796     29           B06             2             6   \n",
       "4  drug_0    2    7  0.7699     29           B07             2             7   \n",
       "\n",
       "  Nonrandomwell  Nonrandomrow  Nonrandomcol       xMIC  Replicate   Short  \n",
       "0           B09             2             9  0.125xMIC          1  drug_0  \n",
       "1           B03             2             3      8xMIC          1  drug_0  \n",
       "2           E06             5             6      1xMIC          1  drug_0  \n",
       "3           F04             6             4      4xMIC          1  drug_0  \n",
       "4           G09             7             9  0.125xMIC          2  drug_0  "
      ]
     },
     "execution_count": 11,
     "metadata": {},
     "output_type": "execute_result"
    }
   ],
   "source": [
    "ods_drugs = pd.merge(ods, all_drugs_dispensed, how='left', left_on=['Name', 'Row', 'Col'], right_on=['Short', 'Dispensedrow', 'Dispensedcol'])\n",
    "ods_drugs.head()"
   ]
  },
  {
   "cell_type": "code",
   "execution_count": 12,
   "metadata": {
    "ExecuteTime": {
     "end_time": "2020-02-25T01:56:21.906834Z",
     "start_time": "2020-02-25T01:56:21.894836Z"
    }
   },
   "outputs": [],
   "source": [
    "#confirm merge worked without errors\n",
    "assert(ods_drugs.Name == ods_drugs.Short).all()\n",
    "assert ods.shape[0] == all_drugs_dispensed.shape[0] == ods_drugs.shape[0]"
   ]
  },
  {
   "cell_type": "markdown",
   "metadata": {},
   "source": [
    "CHANGE EXPT NAME!"
   ]
  },
  {
   "cell_type": "code",
   "execution_count": 13,
   "metadata": {
    "ExecuteTime": {
     "end_time": "2020-02-25T01:56:21.954835Z",
     "start_time": "2020-02-25T01:56:21.912832Z"
    }
   },
   "outputs": [
    {
     "data": {
      "text/html": [
       "<div>\n",
       "<style scoped>\n",
       "    .dataframe tbody tr th:only-of-type {\n",
       "        vertical-align: middle;\n",
       "    }\n",
       "\n",
       "    .dataframe tbody tr th {\n",
       "        vertical-align: top;\n",
       "    }\n",
       "\n",
       "    .dataframe thead th {\n",
       "        text-align: right;\n",
       "    }\n",
       "</style>\n",
       "<table border=\"1\" class=\"dataframe\">\n",
       "  <thead>\n",
       "    <tr style=\"text-align: right;\">\n",
       "      <th></th>\n",
       "      <th>Exp</th>\n",
       "      <th>Short</th>\n",
       "      <th>xMIC</th>\n",
       "      <th>Replicate</th>\n",
       "      <th>OD</th>\n",
       "    </tr>\n",
       "  </thead>\n",
       "  <tbody>\n",
       "    <tr>\n",
       "      <td>0</td>\n",
       "      <td>HypoIII</td>\n",
       "      <td>drug_0</td>\n",
       "      <td>0.125xMIC</td>\n",
       "      <td>1</td>\n",
       "      <td>0.8929</td>\n",
       "    </tr>\n",
       "    <tr>\n",
       "      <td>1</td>\n",
       "      <td>HypoIII</td>\n",
       "      <td>drug_0</td>\n",
       "      <td>8xMIC</td>\n",
       "      <td>1</td>\n",
       "      <td>0.2876</td>\n",
       "    </tr>\n",
       "    <tr>\n",
       "      <td>2</td>\n",
       "      <td>HypoIII</td>\n",
       "      <td>drug_0</td>\n",
       "      <td>1xMIC</td>\n",
       "      <td>1</td>\n",
       "      <td>0.6768</td>\n",
       "    </tr>\n",
       "    <tr>\n",
       "      <td>3</td>\n",
       "      <td>HypoIII</td>\n",
       "      <td>drug_0</td>\n",
       "      <td>4xMIC</td>\n",
       "      <td>1</td>\n",
       "      <td>0.2796</td>\n",
       "    </tr>\n",
       "    <tr>\n",
       "      <td>4</td>\n",
       "      <td>HypoIII</td>\n",
       "      <td>drug_0</td>\n",
       "      <td>0.125xMIC</td>\n",
       "      <td>2</td>\n",
       "      <td>0.7699</td>\n",
       "    </tr>\n",
       "  </tbody>\n",
       "</table>\n",
       "</div>"
      ],
      "text/plain": [
       "       Exp   Short       xMIC  Replicate      OD\n",
       "0  HypoIII  drug_0  0.125xMIC          1  0.8929\n",
       "1  HypoIII  drug_0      8xMIC          1  0.2876\n",
       "2  HypoIII  drug_0      1xMIC          1  0.6768\n",
       "3  HypoIII  drug_0      4xMIC          1  0.2796\n",
       "4  HypoIII  drug_0  0.125xMIC          2  0.7699"
      ]
     },
     "execution_count": 13,
     "metadata": {},
     "output_type": "execute_result"
    }
   ],
   "source": [
    "#insert new columns and delete unnecessary ones\n",
    "ods_drugs['Exp'] = 'HypoIII'\n",
    "ods_drugs = ods_drugs[['Exp','Short', 'xMIC', 'Replicate', 'OD']]\n",
    "ods_drugs.head()"
   ]
  },
  {
   "cell_type": "code",
   "execution_count": 14,
   "metadata": {
    "ExecuteTime": {
     "end_time": "2020-02-25T01:56:22.066833Z",
     "start_time": "2020-02-25T01:56:21.961837Z"
    }
   },
   "outputs": [
    {
     "data": {
      "text/html": [
       "<div>\n",
       "<style scoped>\n",
       "    .dataframe tbody tr th:only-of-type {\n",
       "        vertical-align: middle;\n",
       "    }\n",
       "\n",
       "    .dataframe tbody tr th {\n",
       "        vertical-align: top;\n",
       "    }\n",
       "\n",
       "    .dataframe thead th {\n",
       "        text-align: right;\n",
       "    }\n",
       "</style>\n",
       "<table border=\"1\" class=\"dataframe\">\n",
       "  <thead>\n",
       "    <tr style=\"text-align: right;\">\n",
       "      <th></th>\n",
       "      <th>Exp</th>\n",
       "      <th>Short</th>\n",
       "      <th>xMIC</th>\n",
       "      <th>1</th>\n",
       "      <th>2</th>\n",
       "      <th>3</th>\n",
       "      <th>4</th>\n",
       "      <th>5</th>\n",
       "      <th>6</th>\n",
       "    </tr>\n",
       "  </thead>\n",
       "  <tbody>\n",
       "    <tr>\n",
       "      <td>0</td>\n",
       "      <td>HypoIII</td>\n",
       "      <td>drug_0</td>\n",
       "      <td>0.000xMIC</td>\n",
       "      <td>0.8485</td>\n",
       "      <td>0.8836</td>\n",
       "      <td>1.0600</td>\n",
       "      <td>0.9194</td>\n",
       "      <td>0.9105</td>\n",
       "      <td>1.0767</td>\n",
       "    </tr>\n",
       "    <tr>\n",
       "      <td>1</td>\n",
       "      <td>HypoIII</td>\n",
       "      <td>drug_0</td>\n",
       "      <td>0.125xMIC</td>\n",
       "      <td>0.8929</td>\n",
       "      <td>0.7699</td>\n",
       "      <td>0.8256</td>\n",
       "      <td>0.9274</td>\n",
       "      <td>0.9139</td>\n",
       "      <td>0.9250</td>\n",
       "    </tr>\n",
       "    <tr>\n",
       "      <td>2</td>\n",
       "      <td>HypoIII</td>\n",
       "      <td>drug_0</td>\n",
       "      <td>0.25xMIC</td>\n",
       "      <td>0.8841</td>\n",
       "      <td>0.9352</td>\n",
       "      <td>0.9917</td>\n",
       "      <td>0.9324</td>\n",
       "      <td>1.0334</td>\n",
       "      <td>0.9380</td>\n",
       "    </tr>\n",
       "    <tr>\n",
       "      <td>3</td>\n",
       "      <td>HypoIII</td>\n",
       "      <td>drug_0</td>\n",
       "      <td>0.5xMIC</td>\n",
       "      <td>0.8940</td>\n",
       "      <td>0.9431</td>\n",
       "      <td>0.8165</td>\n",
       "      <td>0.9041</td>\n",
       "      <td>0.9121</td>\n",
       "      <td>0.8799</td>\n",
       "    </tr>\n",
       "    <tr>\n",
       "      <td>4</td>\n",
       "      <td>HypoIII</td>\n",
       "      <td>drug_0</td>\n",
       "      <td>1xMIC</td>\n",
       "      <td>0.6768</td>\n",
       "      <td>0.8807</td>\n",
       "      <td>0.8459</td>\n",
       "      <td>0.9099</td>\n",
       "      <td>0.8927</td>\n",
       "      <td>0.8619</td>\n",
       "    </tr>\n",
       "  </tbody>\n",
       "</table>\n",
       "</div>"
      ],
      "text/plain": [
       "       Exp   Short       xMIC       1       2       3       4       5       6\n",
       "0  HypoIII  drug_0  0.000xMIC  0.8485  0.8836  1.0600  0.9194  0.9105  1.0767\n",
       "1  HypoIII  drug_0  0.125xMIC  0.8929  0.7699  0.8256  0.9274  0.9139  0.9250\n",
       "2  HypoIII  drug_0   0.25xMIC  0.8841  0.9352  0.9917  0.9324  1.0334  0.9380\n",
       "3  HypoIII  drug_0    0.5xMIC  0.8940  0.9431  0.8165  0.9041  0.9121  0.8799\n",
       "4  HypoIII  drug_0      1xMIC  0.6768  0.8807  0.8459  0.9099  0.8927  0.8619"
      ]
     },
     "execution_count": 14,
     "metadata": {},
     "output_type": "execute_result"
    }
   ],
   "source": [
    "#Pivot. Since making pivot table, ensure no duplicates to prevent aggregation function from kicking in\n",
    "assert ods_drugs.duplicated(subset=['Exp', 'Short', 'xMIC', 'Replicate']).any()==False\n",
    "ods_drugs_pivoted = ods_drugs.pivot_table(index=['Exp', 'Short', 'xMIC'], columns='Replicate', values='OD').reset_index().rename_axis(None, axis=1)\n",
    "ods_drugs_pivoted.head()"
   ]
  },
  {
   "cell_type": "code",
   "execution_count": 15,
   "metadata": {
    "ExecuteTime": {
     "end_time": "2020-02-25T01:56:22.194838Z",
     "start_time": "2020-02-25T01:56:22.073851Z"
    }
   },
   "outputs": [
    {
     "data": {
      "text/html": [
       "<div>\n",
       "<style scoped>\n",
       "    .dataframe tbody tr th:only-of-type {\n",
       "        vertical-align: middle;\n",
       "    }\n",
       "\n",
       "    .dataframe tbody tr th {\n",
       "        vertical-align: top;\n",
       "    }\n",
       "\n",
       "    .dataframe thead th {\n",
       "        text-align: right;\n",
       "    }\n",
       "</style>\n",
       "<table border=\"1\" class=\"dataframe\">\n",
       "  <thead>\n",
       "    <tr style=\"text-align: right;\">\n",
       "      <th></th>\n",
       "      <th>Exp</th>\n",
       "      <th>Drug</th>\n",
       "      <th>Conc</th>\n",
       "      <th>R1</th>\n",
       "      <th>R2</th>\n",
       "      <th>R3</th>\n",
       "      <th>R4</th>\n",
       "      <th>R5</th>\n",
       "      <th>R6</th>\n",
       "    </tr>\n",
       "  </thead>\n",
       "  <tbody>\n",
       "    <tr>\n",
       "      <td>7</td>\n",
       "      <td>HypoIII</td>\n",
       "      <td>drug_0</td>\n",
       "      <td>8xMIC</td>\n",
       "      <td>0.2876</td>\n",
       "      <td>0.5530</td>\n",
       "      <td>0.7734</td>\n",
       "      <td>0.5185</td>\n",
       "      <td>0.5649</td>\n",
       "      <td>0.6715</td>\n",
       "    </tr>\n",
       "    <tr>\n",
       "      <td>6</td>\n",
       "      <td>HypoIII</td>\n",
       "      <td>drug_0</td>\n",
       "      <td>4xMIC</td>\n",
       "      <td>0.2796</td>\n",
       "      <td>0.6334</td>\n",
       "      <td>0.4026</td>\n",
       "      <td>0.5253</td>\n",
       "      <td>0.6317</td>\n",
       "      <td>0.6409</td>\n",
       "    </tr>\n",
       "    <tr>\n",
       "      <td>5</td>\n",
       "      <td>HypoIII</td>\n",
       "      <td>drug_0</td>\n",
       "      <td>2xMIC</td>\n",
       "      <td>0.6709</td>\n",
       "      <td>0.7067</td>\n",
       "      <td>0.7536</td>\n",
       "      <td>0.7634</td>\n",
       "      <td>0.7847</td>\n",
       "      <td>0.7717</td>\n",
       "    </tr>\n",
       "    <tr>\n",
       "      <td>4</td>\n",
       "      <td>HypoIII</td>\n",
       "      <td>drug_0</td>\n",
       "      <td>1xMIC</td>\n",
       "      <td>0.6768</td>\n",
       "      <td>0.8807</td>\n",
       "      <td>0.8459</td>\n",
       "      <td>0.9099</td>\n",
       "      <td>0.8927</td>\n",
       "      <td>0.8619</td>\n",
       "    </tr>\n",
       "    <tr>\n",
       "      <td>3</td>\n",
       "      <td>HypoIII</td>\n",
       "      <td>drug_0</td>\n",
       "      <td>0.5xMIC</td>\n",
       "      <td>0.8940</td>\n",
       "      <td>0.9431</td>\n",
       "      <td>0.8165</td>\n",
       "      <td>0.9041</td>\n",
       "      <td>0.9121</td>\n",
       "      <td>0.8799</td>\n",
       "    </tr>\n",
       "  </tbody>\n",
       "</table>\n",
       "</div>"
      ],
      "text/plain": [
       "       Exp    Drug     Conc      R1      R2      R3      R4      R5      R6\n",
       "7  HypoIII  drug_0    8xMIC  0.2876  0.5530  0.7734  0.5185  0.5649  0.6715\n",
       "6  HypoIII  drug_0    4xMIC  0.2796  0.6334  0.4026  0.5253  0.6317  0.6409\n",
       "5  HypoIII  drug_0    2xMIC  0.6709  0.7067  0.7536  0.7634  0.7847  0.7717\n",
       "4  HypoIII  drug_0    1xMIC  0.6768  0.8807  0.8459  0.9099  0.8927  0.8619\n",
       "3  HypoIII  drug_0  0.5xMIC  0.8940  0.9431  0.8165  0.9041  0.9121  0.8799"
      ]
     },
     "execution_count": 15,
     "metadata": {},
     "output_type": "execute_result"
    }
   ],
   "source": [
    "#For backwards compatibililty, rename columns and sort\n",
    "ods_drugs_pivoted.rename(columns={'Short': 'Drug', 'xMIC':'Conc'}, inplace=True)\n",
    "#rename columns as R1,R2... etc\n",
    "number_cols=ods_drugs_pivoted.filter(regex='\\d').columns\n",
    "ods_drugs_pivoted.rename(columns={x:str('R')+str(x) for x in number_cols},inplace=True)\n",
    "ods_drugs_pivoted.sort_values(by=['Drug', 'Conc'], ascending=[True, False], inplace=True)\n",
    "ods_drugs_pivoted.head()"
   ]
  },
  {
   "cell_type": "code",
   "execution_count": 16,
   "metadata": {
    "ExecuteTime": {
     "end_time": "2020-02-25T01:56:22.224834Z",
     "start_time": "2020-02-25T01:56:22.199838Z"
    }
   },
   "outputs": [],
   "source": [
    "try:\n",
    "    pathlib.Path.cwd().joinpath('Analysis','1-Merge_ODs').mkdir(parents=True, exist_ok=False)\n",
    "except FileExistsError:\n",
    "    pass"
   ]
  },
  {
   "cell_type": "code",
   "execution_count": 17,
   "metadata": {
    "ExecuteTime": {
     "end_time": "2020-02-25T01:56:22.334832Z",
     "start_time": "2020-02-25T01:56:22.230835Z"
    }
   },
   "outputs": [],
   "source": [
    "ods_drugs_pivoted.to_csv(pathlib.Path.cwd().joinpath('Analysis','1-Merge_ODs', 'ODs_drugs.csv'), index=False)"
   ]
  },
  {
   "cell_type": "markdown",
   "metadata": {
    "ExecuteTime": {
     "end_time": "2018-11-13T20:59:40.551477Z",
     "start_time": "2018-11-13T20:59:40.535820Z"
    }
   },
   "source": [
    "## OD plots"
   ]
  },
  {
   "cell_type": "markdown",
   "metadata": {},
   "source": [
    "Make plots of ODs versus drugs"
   ]
  },
  {
   "cell_type": "code",
   "execution_count": 18,
   "metadata": {
    "ExecuteTime": {
     "end_time": "2020-02-25T01:56:22.494834Z",
     "start_time": "2020-02-25T01:56:22.340834Z"
    }
   },
   "outputs": [],
   "source": [
    "%reset -f"
   ]
  },
  {
   "cell_type": "code",
   "execution_count": 19,
   "metadata": {
    "ExecuteTime": {
     "end_time": "2020-02-25T01:56:26.064833Z",
     "start_time": "2020-02-25T01:56:22.504835Z"
    }
   },
   "outputs": [],
   "source": [
    "import pandas as pd\n",
    "import seaborn as sns\n",
    "import matplotlib.pyplot as plt\n",
    "import os\n",
    "import pathlib\n",
    "%matplotlib inline"
   ]
  },
  {
   "cell_type": "markdown",
   "metadata": {
    "ExecuteTime": {
     "end_time": "2018-12-17T19:50:32.158573Z",
     "start_time": "2018-12-17T19:50:32.155565Z"
    }
   },
   "source": [
    "Check if OD names match"
   ]
  },
  {
   "cell_type": "code",
   "execution_count": 20,
   "metadata": {
    "ExecuteTime": {
     "end_time": "2020-02-25T01:56:26.127835Z",
     "start_time": "2020-02-25T01:56:26.073835Z"
    }
   },
   "outputs": [
    {
     "data": {
      "text/html": [
       "<div>\n",
       "<style scoped>\n",
       "    .dataframe tbody tr th:only-of-type {\n",
       "        vertical-align: middle;\n",
       "    }\n",
       "\n",
       "    .dataframe tbody tr th {\n",
       "        vertical-align: top;\n",
       "    }\n",
       "\n",
       "    .dataframe thead th {\n",
       "        text-align: right;\n",
       "    }\n",
       "</style>\n",
       "<table border=\"1\" class=\"dataframe\">\n",
       "  <thead>\n",
       "    <tr style=\"text-align: right;\">\n",
       "      <th></th>\n",
       "      <th>Short</th>\n",
       "      <th>Drug</th>\n",
       "    </tr>\n",
       "  </thead>\n",
       "  <tbody>\n",
       "    <tr>\n",
       "      <td>0</td>\n",
       "      <td>drug_0</td>\n",
       "      <td>drug_0</td>\n",
       "    </tr>\n",
       "    <tr>\n",
       "      <td>1</td>\n",
       "      <td>drug_1</td>\n",
       "      <td>drug_1</td>\n",
       "    </tr>\n",
       "    <tr>\n",
       "      <td>2</td>\n",
       "      <td>drug_2</td>\n",
       "      <td>drug_2</td>\n",
       "    </tr>\n",
       "    <tr>\n",
       "      <td>3</td>\n",
       "      <td>drug_3</td>\n",
       "      <td>drug_3</td>\n",
       "    </tr>\n",
       "    <tr>\n",
       "      <td>4</td>\n",
       "      <td>drug_4</td>\n",
       "      <td>drug_4</td>\n",
       "    </tr>\n",
       "  </tbody>\n",
       "</table>\n",
       "</div>"
      ],
      "text/plain": [
       "    Short    Drug\n",
       "0  drug_0  drug_0\n",
       "1  drug_1  drug_1\n",
       "2  drug_2  drug_2\n",
       "3  drug_3  drug_3\n",
       "4  drug_4  drug_4"
      ]
     },
     "execution_count": 20,
     "metadata": {},
     "output_type": "execute_result"
    }
   ],
   "source": [
    "# Check if OD names match. This ensures that the OD names manually typed into spectrophotometer are standard across experiments\n",
    "drug_names_correct = pd.read_excel(pathlib.Path.cwd().joinpath('Raw_data','Drug_names_encoded.xlsx'))\n",
    "drug_names_correct.head()\n",
    "drug_names_correct = drug_names_correct.astype('str')\n",
    "drug_names_correct.head()"
   ]
  },
  {
   "cell_type": "code",
   "execution_count": 21,
   "metadata": {
    "ExecuteTime": {
     "end_time": "2020-02-25T01:56:26.206849Z",
     "start_time": "2020-02-25T01:56:26.133834Z"
    }
   },
   "outputs": [
    {
     "data": {
      "text/html": [
       "<div>\n",
       "<style scoped>\n",
       "    .dataframe tbody tr th:only-of-type {\n",
       "        vertical-align: middle;\n",
       "    }\n",
       "\n",
       "    .dataframe tbody tr th {\n",
       "        vertical-align: top;\n",
       "    }\n",
       "\n",
       "    .dataframe thead th {\n",
       "        text-align: right;\n",
       "    }\n",
       "</style>\n",
       "<table border=\"1\" class=\"dataframe\">\n",
       "  <thead>\n",
       "    <tr style=\"text-align: right;\">\n",
       "      <th></th>\n",
       "      <th>Exp</th>\n",
       "      <th>Drug</th>\n",
       "      <th>Conc</th>\n",
       "      <th>R1</th>\n",
       "      <th>R2</th>\n",
       "      <th>R3</th>\n",
       "      <th>R4</th>\n",
       "      <th>R5</th>\n",
       "      <th>R6</th>\n",
       "    </tr>\n",
       "  </thead>\n",
       "  <tbody>\n",
       "    <tr>\n",
       "      <td>0</td>\n",
       "      <td>HypoIII</td>\n",
       "      <td>drug_0</td>\n",
       "      <td>8xMIC</td>\n",
       "      <td>0.2876</td>\n",
       "      <td>0.5530</td>\n",
       "      <td>0.7734</td>\n",
       "      <td>0.5185</td>\n",
       "      <td>0.5649</td>\n",
       "      <td>0.6715</td>\n",
       "    </tr>\n",
       "    <tr>\n",
       "      <td>1</td>\n",
       "      <td>HypoIII</td>\n",
       "      <td>drug_0</td>\n",
       "      <td>4xMIC</td>\n",
       "      <td>0.2796</td>\n",
       "      <td>0.6334</td>\n",
       "      <td>0.4026</td>\n",
       "      <td>0.5253</td>\n",
       "      <td>0.6317</td>\n",
       "      <td>0.6409</td>\n",
       "    </tr>\n",
       "    <tr>\n",
       "      <td>2</td>\n",
       "      <td>HypoIII</td>\n",
       "      <td>drug_0</td>\n",
       "      <td>2xMIC</td>\n",
       "      <td>0.6709</td>\n",
       "      <td>0.7067</td>\n",
       "      <td>0.7536</td>\n",
       "      <td>0.7634</td>\n",
       "      <td>0.7847</td>\n",
       "      <td>0.7717</td>\n",
       "    </tr>\n",
       "    <tr>\n",
       "      <td>3</td>\n",
       "      <td>HypoIII</td>\n",
       "      <td>drug_0</td>\n",
       "      <td>1xMIC</td>\n",
       "      <td>0.6768</td>\n",
       "      <td>0.8807</td>\n",
       "      <td>0.8459</td>\n",
       "      <td>0.9099</td>\n",
       "      <td>0.8927</td>\n",
       "      <td>0.8619</td>\n",
       "    </tr>\n",
       "    <tr>\n",
       "      <td>4</td>\n",
       "      <td>HypoIII</td>\n",
       "      <td>drug_0</td>\n",
       "      <td>0.5xMIC</td>\n",
       "      <td>0.8940</td>\n",
       "      <td>0.9431</td>\n",
       "      <td>0.8165</td>\n",
       "      <td>0.9041</td>\n",
       "      <td>0.9121</td>\n",
       "      <td>0.8799</td>\n",
       "    </tr>\n",
       "  </tbody>\n",
       "</table>\n",
       "</div>"
      ],
      "text/plain": [
       "       Exp    Drug     Conc      R1      R2      R3      R4      R5      R6\n",
       "0  HypoIII  drug_0    8xMIC  0.2876  0.5530  0.7734  0.5185  0.5649  0.6715\n",
       "1  HypoIII  drug_0    4xMIC  0.2796  0.6334  0.4026  0.5253  0.6317  0.6409\n",
       "2  HypoIII  drug_0    2xMIC  0.6709  0.7067  0.7536  0.7634  0.7847  0.7717\n",
       "3  HypoIII  drug_0    1xMIC  0.6768  0.8807  0.8459  0.9099  0.8927  0.8619\n",
       "4  HypoIII  drug_0  0.5xMIC  0.8940  0.9431  0.8165  0.9041  0.9121  0.8799"
      ]
     },
     "execution_count": 21,
     "metadata": {},
     "output_type": "execute_result"
    }
   ],
   "source": [
    "ods_drugs = pd.read_csv(pathlib.Path.cwd().joinpath('Analysis','1-Merge_ODs', 'ODs_drugs.csv'))\n",
    "ods_drugs.head()"
   ]
  },
  {
   "cell_type": "code",
   "execution_count": 22,
   "metadata": {
    "ExecuteTime": {
     "end_time": "2020-02-25T01:56:26.223835Z",
     "start_time": "2020-02-25T01:56:26.212837Z"
    }
   },
   "outputs": [],
   "source": [
    "assert set(ods_drugs.Drug).difference(set(drug_names_correct.Short))==set()"
   ]
  },
  {
   "cell_type": "markdown",
   "metadata": {
    "ExecuteTime": {
     "end_time": "2018-12-17T16:19:10.133320Z",
     "start_time": "2018-12-17T16:19:10.130310Z"
    }
   },
   "source": [
    "Go ahead with making plots"
   ]
  },
  {
   "cell_type": "code",
   "execution_count": 23,
   "metadata": {
    "ExecuteTime": {
     "end_time": "2020-02-25T01:56:26.286831Z",
     "start_time": "2020-02-25T01:56:26.228836Z"
    }
   },
   "outputs": [
    {
     "data": {
      "text/html": [
       "<div>\n",
       "<style scoped>\n",
       "    .dataframe tbody tr th:only-of-type {\n",
       "        vertical-align: middle;\n",
       "    }\n",
       "\n",
       "    .dataframe tbody tr th {\n",
       "        vertical-align: top;\n",
       "    }\n",
       "\n",
       "    .dataframe thead th {\n",
       "        text-align: right;\n",
       "    }\n",
       "</style>\n",
       "<table border=\"1\" class=\"dataframe\">\n",
       "  <thead>\n",
       "    <tr style=\"text-align: right;\">\n",
       "      <th></th>\n",
       "      <th>Exp</th>\n",
       "      <th>Drug</th>\n",
       "      <th>Conc</th>\n",
       "      <th>Replicate</th>\n",
       "      <th>OD</th>\n",
       "    </tr>\n",
       "  </thead>\n",
       "  <tbody>\n",
       "    <tr>\n",
       "      <td>0</td>\n",
       "      <td>HypoIII</td>\n",
       "      <td>drug_0</td>\n",
       "      <td>8xMIC</td>\n",
       "      <td>R1</td>\n",
       "      <td>0.2876</td>\n",
       "    </tr>\n",
       "    <tr>\n",
       "      <td>1</td>\n",
       "      <td>HypoIII</td>\n",
       "      <td>drug_0</td>\n",
       "      <td>4xMIC</td>\n",
       "      <td>R1</td>\n",
       "      <td>0.2796</td>\n",
       "    </tr>\n",
       "    <tr>\n",
       "      <td>2</td>\n",
       "      <td>HypoIII</td>\n",
       "      <td>drug_0</td>\n",
       "      <td>2xMIC</td>\n",
       "      <td>R1</td>\n",
       "      <td>0.6709</td>\n",
       "    </tr>\n",
       "    <tr>\n",
       "      <td>3</td>\n",
       "      <td>HypoIII</td>\n",
       "      <td>drug_0</td>\n",
       "      <td>1xMIC</td>\n",
       "      <td>R1</td>\n",
       "      <td>0.6768</td>\n",
       "    </tr>\n",
       "    <tr>\n",
       "      <td>4</td>\n",
       "      <td>HypoIII</td>\n",
       "      <td>drug_0</td>\n",
       "      <td>0.5xMIC</td>\n",
       "      <td>R1</td>\n",
       "      <td>0.8940</td>\n",
       "    </tr>\n",
       "  </tbody>\n",
       "</table>\n",
       "</div>"
      ],
      "text/plain": [
       "       Exp    Drug     Conc Replicate      OD\n",
       "0  HypoIII  drug_0    8xMIC        R1  0.2876\n",
       "1  HypoIII  drug_0    4xMIC        R1  0.2796\n",
       "2  HypoIII  drug_0    2xMIC        R1  0.6709\n",
       "3  HypoIII  drug_0    1xMIC        R1  0.6768\n",
       "4  HypoIII  drug_0  0.5xMIC        R1  0.8940"
      ]
     },
     "execution_count": 23,
     "metadata": {},
     "output_type": "execute_result"
    }
   ],
   "source": [
    "ods_drugs_m = pd.melt(ods_drugs, id_vars=['Exp', 'Drug', 'Conc'], var_name='Replicate', value_name='OD')\n",
    "ods_drugs_m.head()"
   ]
  },
  {
   "cell_type": "code",
   "execution_count": 24,
   "metadata": {
    "ExecuteTime": {
     "end_time": "2020-02-25T01:56:26.414833Z",
     "start_time": "2020-02-25T01:56:26.291835Z"
    }
   },
   "outputs": [
    {
     "data": {
      "text/html": [
       "<div>\n",
       "<style scoped>\n",
       "    .dataframe tbody tr th:only-of-type {\n",
       "        vertical-align: middle;\n",
       "    }\n",
       "\n",
       "    .dataframe tbody tr th {\n",
       "        vertical-align: top;\n",
       "    }\n",
       "\n",
       "    .dataframe thead th {\n",
       "        text-align: right;\n",
       "    }\n",
       "</style>\n",
       "<table border=\"1\" class=\"dataframe\">\n",
       "  <thead>\n",
       "    <tr style=\"text-align: right;\">\n",
       "      <th></th>\n",
       "      <th>Exp</th>\n",
       "      <th>Drug</th>\n",
       "      <th>Conc</th>\n",
       "      <th>Replicate</th>\n",
       "      <th>OD</th>\n",
       "      <th>Names</th>\n",
       "    </tr>\n",
       "  </thead>\n",
       "  <tbody>\n",
       "    <tr>\n",
       "      <td>7</td>\n",
       "      <td>HypoIII</td>\n",
       "      <td>drug_0</td>\n",
       "      <td>0.000xMIC</td>\n",
       "      <td>R1</td>\n",
       "      <td>0.8485</td>\n",
       "      <td>HypoIII_drug_0</td>\n",
       "    </tr>\n",
       "    <tr>\n",
       "      <td>703</td>\n",
       "      <td>HypoIII</td>\n",
       "      <td>drug_0</td>\n",
       "      <td>0.000xMIC</td>\n",
       "      <td>R2</td>\n",
       "      <td>0.8836</td>\n",
       "      <td>HypoIII_drug_0</td>\n",
       "    </tr>\n",
       "    <tr>\n",
       "      <td>1399</td>\n",
       "      <td>HypoIII</td>\n",
       "      <td>drug_0</td>\n",
       "      <td>0.000xMIC</td>\n",
       "      <td>R3</td>\n",
       "      <td>1.0600</td>\n",
       "      <td>HypoIII_drug_0</td>\n",
       "    </tr>\n",
       "    <tr>\n",
       "      <td>2095</td>\n",
       "      <td>HypoIII</td>\n",
       "      <td>drug_0</td>\n",
       "      <td>0.000xMIC</td>\n",
       "      <td>R4</td>\n",
       "      <td>0.9194</td>\n",
       "      <td>HypoIII_drug_0</td>\n",
       "    </tr>\n",
       "    <tr>\n",
       "      <td>2791</td>\n",
       "      <td>HypoIII</td>\n",
       "      <td>drug_0</td>\n",
       "      <td>0.000xMIC</td>\n",
       "      <td>R5</td>\n",
       "      <td>0.9105</td>\n",
       "      <td>HypoIII_drug_0</td>\n",
       "    </tr>\n",
       "  </tbody>\n",
       "</table>\n",
       "</div>"
      ],
      "text/plain": [
       "          Exp    Drug       Conc Replicate      OD           Names\n",
       "7     HypoIII  drug_0  0.000xMIC        R1  0.8485  HypoIII_drug_0\n",
       "703   HypoIII  drug_0  0.000xMIC        R2  0.8836  HypoIII_drug_0\n",
       "1399  HypoIII  drug_0  0.000xMIC        R3  1.0600  HypoIII_drug_0\n",
       "2095  HypoIII  drug_0  0.000xMIC        R4  0.9194  HypoIII_drug_0\n",
       "2791  HypoIII  drug_0  0.000xMIC        R5  0.9105  HypoIII_drug_0"
      ]
     },
     "execution_count": 24,
     "metadata": {},
     "output_type": "execute_result"
    }
   ],
   "source": [
    "#create plot names\n",
    "ods_drugs_m['Names'] = ods_drugs_m['Exp']+'_'+ods_drugs_m['Drug']\n",
    "ods_drugs_m = ods_drugs_m.sort_values(by=['Names', 'Conc'])\n",
    "ods_drugs_m.head()"
   ]
  },
  {
   "cell_type": "code",
   "execution_count": 25,
   "metadata": {
    "ExecuteTime": {
     "end_time": "2020-02-25T01:56:26.446835Z",
     "start_time": "2020-02-25T01:56:26.419840Z"
    }
   },
   "outputs": [],
   "source": [
    "def plot_ODs(group):\n",
    "    name = group['Names'].values[0]\n",
    "    p = sns.boxplot(x=\"Conc\", y=\"OD\", data=group, palette='Blues')\n",
    "    p.set_title(name)\n",
    "    p.set_xticklabels(p.get_xticklabels(), rotation=20)\n",
    "    p.set(ylim=(0, 1.5))\n",
    "    fig = p.get_figure()\n",
    "    fig.savefig(pathlib.Path.cwd().joinpath('Analysis','2-OD_plots', name+'.png'))\n",
    "    plt.close() "
   ]
  },
  {
   "cell_type": "code",
   "execution_count": 26,
   "metadata": {
    "ExecuteTime": {
     "end_time": "2020-02-25T01:56:26.478834Z",
     "start_time": "2020-02-25T01:56:26.452837Z"
    }
   },
   "outputs": [],
   "source": [
    "#Create directories for results\n",
    "try:\n",
    "    pathlib.Path.cwd().joinpath('Analysis','2-OD_plots').mkdir(parents=True, exist_ok=False)\n",
    "except FileExistsError:\n",
    "    pass"
   ]
  },
  {
   "cell_type": "code",
   "execution_count": 27,
   "metadata": {
    "ExecuteTime": {
     "end_time": "2020-02-25T01:56:49.597320Z",
     "start_time": "2020-02-25T01:56:26.484836Z"
    }
   },
   "outputs": [
    {
     "data": {
      "text/html": [
       "<div>\n",
       "<style scoped>\n",
       "    .dataframe tbody tr th:only-of-type {\n",
       "        vertical-align: middle;\n",
       "    }\n",
       "\n",
       "    .dataframe tbody tr th {\n",
       "        vertical-align: top;\n",
       "    }\n",
       "\n",
       "    .dataframe thead th {\n",
       "        text-align: right;\n",
       "    }\n",
       "</style>\n",
       "<table border=\"1\" class=\"dataframe\">\n",
       "  <thead>\n",
       "    <tr style=\"text-align: right;\">\n",
       "      <th></th>\n",
       "    </tr>\n",
       "  </thead>\n",
       "  <tbody>\n",
       "  </tbody>\n",
       "</table>\n",
       "</div>"
      ],
      "text/plain": [
       "Empty DataFrame\n",
       "Columns: []\n",
       "Index: []"
      ]
     },
     "execution_count": 27,
     "metadata": {},
     "output_type": "execute_result"
    }
   ],
   "source": [
    "ods_drugs_m.groupby('Names').apply(plot_ODs)"
   ]
  },
  {
   "cell_type": "code",
   "execution_count": null,
   "metadata": {},
   "outputs": [],
   "source": []
  },
  {
   "cell_type": "markdown",
   "metadata": {
    "ExecuteTime": {
     "end_time": "2018-11-13T21:15:11.079338Z",
     "start_time": "2018-11-13T21:15:11.063782Z"
    }
   },
   "source": [
    "## Merge Count Files"
   ]
  },
  {
   "cell_type": "markdown",
   "metadata": {},
   "source": [
    "Merge read count files into one by summing up the reads across the same p5-p7 primers.\n",
    "\n",
    "Caution:This section has backward compatibility issues. Specifically, check the naming of the strains, if they are separated by slash or not. Also check the column titles. The column Name may be called Drug in an earlier experiment"
   ]
  },
  {
   "cell_type": "code",
   "execution_count": 28,
   "metadata": {
    "ExecuteTime": {
     "end_time": "2020-02-25T01:56:50.231317Z",
     "start_time": "2020-02-25T01:56:49.610319Z"
    }
   },
   "outputs": [],
   "source": [
    "%reset -f"
   ]
  },
  {
   "cell_type": "code",
   "execution_count": 29,
   "metadata": {
    "ExecuteTime": {
     "end_time": "2020-02-25T01:56:50.247319Z",
     "start_time": "2020-02-25T01:56:50.240320Z"
    }
   },
   "outputs": [],
   "source": [
    "import pandas as pd\n",
    "import os\n",
    "import pathlib"
   ]
  },
  {
   "cell_type": "code",
   "execution_count": 30,
   "metadata": {
    "ExecuteTime": {
     "end_time": "2020-02-25T01:56:50.310320Z",
     "start_time": "2020-02-25T01:56:50.252321Z"
    }
   },
   "outputs": [],
   "source": [
    "def merge_RC(counts_file_path):\n",
    "    \"\"\"For a single counts file sum counts for the same p5 and p7. Also rename and remove columns for consistency\"\"\"\n",
    "    counts_file = pd.read_table(counts_file_path, sep='\\t', header=0)\n",
    "    #isolate columns with strains\n",
    "    strain_cols = list(counts_file.filter(regex='/').columns)\n",
    "    counts_file = counts_file[['Lane', 'Name', 'xMIC', 'Replicate', 'p5', 'p7'] + strain_cols]\n",
    "    counts_file_melted = pd.melt(counts_file, id_vars=['Lane', 'Name', 'xMIC', 'Replicate', 'p5', 'p7'], var_name='Strain', value_name='RC')\n",
    "    \n",
    "    #for backwards compatibility\n",
    "    counts_file_melted = counts_file_melted.rename(columns={'Name': 'Drug', 'xMIC':'Conc'})\n",
    "    #summing\n",
    "    counts_file_combined = counts_file_melted.groupby(['Drug', 'Conc', 'Replicate', 'Strain', 'p5', 'p7'], as_index=False).sum()\n",
    "    #replace / with .\n",
    "    counts_file_combined['Strain'] = counts_file_combined['Strain'].str.replace('/', '.')\n",
    "    \n",
    "    return counts_file_combined"
   ]
  },
  {
   "cell_type": "code",
   "execution_count": 31,
   "metadata": {
    "ExecuteTime": {
     "end_time": "2020-02-25T01:57:12.337427Z",
     "start_time": "2020-02-25T01:56:50.316320Z"
    }
   },
   "outputs": [],
   "source": [
    "dir = pathlib.Path.cwd().joinpath('Raw_data', \"Counts_files_encoded\")\n",
    "merged_counts = [merge_RC(x) for x in dir.glob('*.txt')]\n"
   ]
  },
  {
   "cell_type": "code",
   "execution_count": 32,
   "metadata": {
    "ExecuteTime": {
     "end_time": "2020-02-25T01:57:17.987315Z",
     "start_time": "2020-02-25T01:57:12.340317Z"
    }
   },
   "outputs": [],
   "source": [
    "#Combine multiple counts files together\n",
    "combined_counts = pd.concat(x for x in merged_counts)\n",
    "combined_counts = combined_counts.groupby(['Drug', 'Conc', 'Replicate', 'Strain', 'p5', 'p7'], as_index=False).sum()"
   ]
  },
  {
   "cell_type": "code",
   "execution_count": 33,
   "metadata": {
    "ExecuteTime": {
     "end_time": "2020-02-25T01:57:18.019319Z",
     "start_time": "2020-02-25T01:57:17.991319Z"
    }
   },
   "outputs": [
    {
     "data": {
      "text/html": [
       "<div>\n",
       "<style scoped>\n",
       "    .dataframe tbody tr th:only-of-type {\n",
       "        vertical-align: middle;\n",
       "    }\n",
       "\n",
       "    .dataframe tbody tr th {\n",
       "        vertical-align: top;\n",
       "    }\n",
       "\n",
       "    .dataframe thead th {\n",
       "        text-align: right;\n",
       "    }\n",
       "</style>\n",
       "<table border=\"1\" class=\"dataframe\">\n",
       "  <thead>\n",
       "    <tr style=\"text-align: right;\">\n",
       "      <th></th>\n",
       "      <th>Drug</th>\n",
       "      <th>Conc</th>\n",
       "      <th>Replicate</th>\n",
       "      <th>Strain</th>\n",
       "      <th>p5</th>\n",
       "      <th>p7</th>\n",
       "      <th>RC</th>\n",
       "    </tr>\n",
       "  </thead>\n",
       "  <tbody>\n",
       "    <tr>\n",
       "      <td>0</td>\n",
       "      <td>Input</td>\n",
       "      <td>XXX</td>\n",
       "      <td>1</td>\n",
       "      <td>strain.0</td>\n",
       "      <td>96</td>\n",
       "      <td>1</td>\n",
       "      <td>0</td>\n",
       "    </tr>\n",
       "    <tr>\n",
       "      <td>1</td>\n",
       "      <td>Input</td>\n",
       "      <td>XXX</td>\n",
       "      <td>1</td>\n",
       "      <td>strain.1</td>\n",
       "      <td>96</td>\n",
       "      <td>1</td>\n",
       "      <td>0</td>\n",
       "    </tr>\n",
       "    <tr>\n",
       "      <td>2</td>\n",
       "      <td>Input</td>\n",
       "      <td>XXX</td>\n",
       "      <td>1</td>\n",
       "      <td>strain.10</td>\n",
       "      <td>96</td>\n",
       "      <td>1</td>\n",
       "      <td>0</td>\n",
       "    </tr>\n",
       "    <tr>\n",
       "      <td>3</td>\n",
       "      <td>Input</td>\n",
       "      <td>XXX</td>\n",
       "      <td>1</td>\n",
       "      <td>strain.100</td>\n",
       "      <td>96</td>\n",
       "      <td>1</td>\n",
       "      <td>0</td>\n",
       "    </tr>\n",
       "    <tr>\n",
       "      <td>4</td>\n",
       "      <td>Input</td>\n",
       "      <td>XXX</td>\n",
       "      <td>1</td>\n",
       "      <td>strain.101</td>\n",
       "      <td>96</td>\n",
       "      <td>1</td>\n",
       "      <td>0</td>\n",
       "    </tr>\n",
       "  </tbody>\n",
       "</table>\n",
       "</div>"
      ],
      "text/plain": [
       "    Drug Conc  Replicate      Strain  p5  p7  RC\n",
       "0  Input  XXX          1    strain.0  96   1   0\n",
       "1  Input  XXX          1    strain.1  96   1   0\n",
       "2  Input  XXX          1   strain.10  96   1   0\n",
       "3  Input  XXX          1  strain.100  96   1   0\n",
       "4  Input  XXX          1  strain.101  96   1   0"
      ]
     },
     "execution_count": 33,
     "metadata": {},
     "output_type": "execute_result"
    }
   ],
   "source": [
    "combined_counts.head()"
   ]
  },
  {
   "cell_type": "code",
   "execution_count": 34,
   "metadata": {
    "ExecuteTime": {
     "end_time": "2020-02-25T01:57:18.050320Z",
     "start_time": "2020-02-25T01:57:18.026319Z"
    }
   },
   "outputs": [],
   "source": [
    "try:\n",
    "    pathlib.Path.cwd().joinpath('Analysis','3-Merge_counts').mkdir(parents=True, exist_ok=False)\n",
    "except FileExistsError:\n",
    "    pass"
   ]
  },
  {
   "cell_type": "code",
   "execution_count": 35,
   "metadata": {
    "ExecuteTime": {
     "end_time": "2020-02-25T01:57:44.967840Z",
     "start_time": "2020-02-25T01:57:18.057321Z"
    }
   },
   "outputs": [],
   "source": [
    "combined_counts.to_csv(pathlib.Path.cwd().joinpath('Analysis','3-Merge_counts', 'Counts_merged.csv'), index=False)\n",
    "                                                              "
   ]
  },
  {
   "cell_type": "markdown",
   "metadata": {
    "ExecuteTime": {
     "end_time": "2018-11-15T20:04:01.327902Z",
     "start_time": "2018-11-15T20:04:01.312264Z"
    }
   },
   "source": [
    "## Select Conditions"
   ]
  },
  {
   "cell_type": "markdown",
   "metadata": {},
   "source": [
    "Based on the OD graphs select relevant datapoints for analysis. Note that highest drug concentrations may be often uninformative since all bacteria will die. Ideally, we want to analyse drug concentratons where the pool is partially growth inhibited. This section selects the three highest xMIC for each drug over the OD cutoff of 0.3"
   ]
  },
  {
   "cell_type": "code",
   "execution_count": 36,
   "metadata": {
    "ExecuteTime": {
     "end_time": "2020-02-25T01:57:45.570835Z",
     "start_time": "2020-02-25T01:57:44.977839Z"
    }
   },
   "outputs": [],
   "source": [
    "%reset -f"
   ]
  },
  {
   "cell_type": "code",
   "execution_count": 37,
   "metadata": {
    "ExecuteTime": {
     "end_time": "2020-02-25T01:57:45.586841Z",
     "start_time": "2020-02-25T01:57:45.575838Z"
    }
   },
   "outputs": [],
   "source": [
    "import pandas as pd\n",
    "import os\n",
    "import pathlib"
   ]
  },
  {
   "cell_type": "code",
   "execution_count": 38,
   "metadata": {
    "ExecuteTime": {
     "end_time": "2020-02-25T01:57:45.682838Z",
     "start_time": "2020-02-25T01:57:45.593841Z"
    }
   },
   "outputs": [
    {
     "data": {
      "text/html": [
       "<div>\n",
       "<style scoped>\n",
       "    .dataframe tbody tr th:only-of-type {\n",
       "        vertical-align: middle;\n",
       "    }\n",
       "\n",
       "    .dataframe tbody tr th {\n",
       "        vertical-align: top;\n",
       "    }\n",
       "\n",
       "    .dataframe thead th {\n",
       "        text-align: right;\n",
       "    }\n",
       "</style>\n",
       "<table border=\"1\" class=\"dataframe\">\n",
       "  <thead>\n",
       "    <tr style=\"text-align: right;\">\n",
       "      <th></th>\n",
       "      <th>Exp</th>\n",
       "      <th>Drug</th>\n",
       "      <th>Conc</th>\n",
       "      <th>R1</th>\n",
       "      <th>R2</th>\n",
       "      <th>R3</th>\n",
       "      <th>R4</th>\n",
       "      <th>R5</th>\n",
       "      <th>R6</th>\n",
       "    </tr>\n",
       "  </thead>\n",
       "  <tbody>\n",
       "    <tr>\n",
       "      <td>0</td>\n",
       "      <td>HypoIII</td>\n",
       "      <td>drug_0</td>\n",
       "      <td>8xMIC</td>\n",
       "      <td>0.2876</td>\n",
       "      <td>0.5530</td>\n",
       "      <td>0.7734</td>\n",
       "      <td>0.5185</td>\n",
       "      <td>0.5649</td>\n",
       "      <td>0.6715</td>\n",
       "    </tr>\n",
       "    <tr>\n",
       "      <td>1</td>\n",
       "      <td>HypoIII</td>\n",
       "      <td>drug_0</td>\n",
       "      <td>4xMIC</td>\n",
       "      <td>0.2796</td>\n",
       "      <td>0.6334</td>\n",
       "      <td>0.4026</td>\n",
       "      <td>0.5253</td>\n",
       "      <td>0.6317</td>\n",
       "      <td>0.6409</td>\n",
       "    </tr>\n",
       "    <tr>\n",
       "      <td>2</td>\n",
       "      <td>HypoIII</td>\n",
       "      <td>drug_0</td>\n",
       "      <td>2xMIC</td>\n",
       "      <td>0.6709</td>\n",
       "      <td>0.7067</td>\n",
       "      <td>0.7536</td>\n",
       "      <td>0.7634</td>\n",
       "      <td>0.7847</td>\n",
       "      <td>0.7717</td>\n",
       "    </tr>\n",
       "    <tr>\n",
       "      <td>3</td>\n",
       "      <td>HypoIII</td>\n",
       "      <td>drug_0</td>\n",
       "      <td>1xMIC</td>\n",
       "      <td>0.6768</td>\n",
       "      <td>0.8807</td>\n",
       "      <td>0.8459</td>\n",
       "      <td>0.9099</td>\n",
       "      <td>0.8927</td>\n",
       "      <td>0.8619</td>\n",
       "    </tr>\n",
       "    <tr>\n",
       "      <td>4</td>\n",
       "      <td>HypoIII</td>\n",
       "      <td>drug_0</td>\n",
       "      <td>0.5xMIC</td>\n",
       "      <td>0.8940</td>\n",
       "      <td>0.9431</td>\n",
       "      <td>0.8165</td>\n",
       "      <td>0.9041</td>\n",
       "      <td>0.9121</td>\n",
       "      <td>0.8799</td>\n",
       "    </tr>\n",
       "  </tbody>\n",
       "</table>\n",
       "</div>"
      ],
      "text/plain": [
       "       Exp    Drug     Conc      R1      R2      R3      R4      R5      R6\n",
       "0  HypoIII  drug_0    8xMIC  0.2876  0.5530  0.7734  0.5185  0.5649  0.6715\n",
       "1  HypoIII  drug_0    4xMIC  0.2796  0.6334  0.4026  0.5253  0.6317  0.6409\n",
       "2  HypoIII  drug_0    2xMIC  0.6709  0.7067  0.7536  0.7634  0.7847  0.7717\n",
       "3  HypoIII  drug_0    1xMIC  0.6768  0.8807  0.8459  0.9099  0.8927  0.8619\n",
       "4  HypoIII  drug_0  0.5xMIC  0.8940  0.9431  0.8165  0.9041  0.9121  0.8799"
      ]
     },
     "execution_count": 38,
     "metadata": {},
     "output_type": "execute_result"
    }
   ],
   "source": [
    "ods = pd.read_csv(pathlib.Path.cwd().joinpath('Analysis','1-Merge_ODs', 'ODs_drugs.csv'))\n",
    "ods.head()"
   ]
  },
  {
   "cell_type": "code",
   "execution_count": 39,
   "metadata": {
    "ExecuteTime": {
     "end_time": "2020-02-25T01:57:47.632837Z",
     "start_time": "2020-02-25T01:57:45.690839Z"
    }
   },
   "outputs": [
    {
     "data": {
      "text/html": [
       "<div>\n",
       "<style scoped>\n",
       "    .dataframe tbody tr th:only-of-type {\n",
       "        vertical-align: middle;\n",
       "    }\n",
       "\n",
       "    .dataframe tbody tr th {\n",
       "        vertical-align: top;\n",
       "    }\n",
       "\n",
       "    .dataframe thead th {\n",
       "        text-align: right;\n",
       "    }\n",
       "</style>\n",
       "<table border=\"1\" class=\"dataframe\">\n",
       "  <thead>\n",
       "    <tr style=\"text-align: right;\">\n",
       "      <th></th>\n",
       "      <th>Drug</th>\n",
       "      <th>Conc</th>\n",
       "      <th>Replicate</th>\n",
       "      <th>Strain</th>\n",
       "      <th>p5</th>\n",
       "      <th>p7</th>\n",
       "      <th>RC</th>\n",
       "    </tr>\n",
       "  </thead>\n",
       "  <tbody>\n",
       "    <tr>\n",
       "      <td>0</td>\n",
       "      <td>Input</td>\n",
       "      <td>XXX</td>\n",
       "      <td>1</td>\n",
       "      <td>strain.0</td>\n",
       "      <td>96</td>\n",
       "      <td>1</td>\n",
       "      <td>0</td>\n",
       "    </tr>\n",
       "    <tr>\n",
       "      <td>1</td>\n",
       "      <td>Input</td>\n",
       "      <td>XXX</td>\n",
       "      <td>1</td>\n",
       "      <td>strain.1</td>\n",
       "      <td>96</td>\n",
       "      <td>1</td>\n",
       "      <td>0</td>\n",
       "    </tr>\n",
       "    <tr>\n",
       "      <td>2</td>\n",
       "      <td>Input</td>\n",
       "      <td>XXX</td>\n",
       "      <td>1</td>\n",
       "      <td>strain.10</td>\n",
       "      <td>96</td>\n",
       "      <td>1</td>\n",
       "      <td>0</td>\n",
       "    </tr>\n",
       "    <tr>\n",
       "      <td>3</td>\n",
       "      <td>Input</td>\n",
       "      <td>XXX</td>\n",
       "      <td>1</td>\n",
       "      <td>strain.100</td>\n",
       "      <td>96</td>\n",
       "      <td>1</td>\n",
       "      <td>0</td>\n",
       "    </tr>\n",
       "    <tr>\n",
       "      <td>4</td>\n",
       "      <td>Input</td>\n",
       "      <td>XXX</td>\n",
       "      <td>1</td>\n",
       "      <td>strain.101</td>\n",
       "      <td>96</td>\n",
       "      <td>1</td>\n",
       "      <td>0</td>\n",
       "    </tr>\n",
       "  </tbody>\n",
       "</table>\n",
       "</div>"
      ],
      "text/plain": [
       "    Drug Conc  Replicate      Strain  p5  p7  RC\n",
       "0  Input  XXX          1    strain.0  96   1   0\n",
       "1  Input  XXX          1    strain.1  96   1   0\n",
       "2  Input  XXX          1   strain.10  96   1   0\n",
       "3  Input  XXX          1  strain.100  96   1   0\n",
       "4  Input  XXX          1  strain.101  96   1   0"
      ]
     },
     "execution_count": 39,
     "metadata": {},
     "output_type": "execute_result"
    }
   ],
   "source": [
    "counts = pd.read_csv(pathlib.Path.cwd().joinpath('Analysis','3-Merge_counts', 'Counts_merged.csv'))\n",
    "counts.head()"
   ]
  },
  {
   "cell_type": "code",
   "execution_count": 40,
   "metadata": {
    "ExecuteTime": {
     "end_time": "2020-02-25T01:57:48.092840Z",
     "start_time": "2020-02-25T01:57:47.651839Z"
    }
   },
   "outputs": [],
   "source": [
    "#remove input\n",
    "inp = counts[counts['Drug']=='Input']"
   ]
  },
  {
   "cell_type": "code",
   "execution_count": 41,
   "metadata": {
    "ExecuteTime": {
     "end_time": "2020-02-25T01:57:48.153729Z",
     "start_time": "2020-02-25T01:57:48.103841Z"
    }
   },
   "outputs": [],
   "source": [
    "try:\n",
    "    pathlib.Path.cwd().joinpath('Analysis','4-Select_conditions').mkdir(parents=True, exist_ok=False)\n",
    "except FileExistsError:\n",
    "    pass"
   ]
  },
  {
   "cell_type": "code",
   "execution_count": 42,
   "metadata": {
    "ExecuteTime": {
     "end_time": "2020-02-25T01:57:48.312733Z",
     "start_time": "2020-02-25T01:57:48.159729Z"
    }
   },
   "outputs": [],
   "source": [
    "inp.to_csv(pathlib.Path.cwd().joinpath('Analysis','4-Select_conditions', 'input_counts.csv'), index=False)"
   ]
  },
  {
   "cell_type": "code",
   "execution_count": 43,
   "metadata": {
    "ExecuteTime": {
     "end_time": "2020-02-25T01:57:49.035207Z",
     "start_time": "2020-02-25T01:57:48.318729Z"
    }
   },
   "outputs": [],
   "source": [
    "counts = counts[counts['Drug']!='Input']"
   ]
  },
  {
   "cell_type": "code",
   "execution_count": 44,
   "metadata": {
    "ExecuteTime": {
     "end_time": "2020-02-25T01:57:49.619207Z",
     "start_time": "2020-02-25T01:57:49.043206Z"
    }
   },
   "outputs": [],
   "source": [
    "#Check if all counts have corresponding ODs\n",
    "assert set(counts.Drug).issubset(ods.Drug)"
   ]
  },
  {
   "cell_type": "code",
   "execution_count": 45,
   "metadata": {
    "ExecuteTime": {
     "end_time": "2020-02-25T01:57:49.667208Z",
     "start_time": "2020-02-25T01:57:49.625212Z"
    }
   },
   "outputs": [],
   "source": [
    "#remove zero drug\n",
    "ods = ods.drop(columns='Exp')\n",
    "ods['mean'] = ods.filter(regex=('^R\\d$')).mean(axis=1)\n",
    "no_drug_ods = ods[ods.Conc=='0.000xMIC']\n",
    "drug_ods = ods[ods.Conc!='0.000xMIC']"
   ]
  },
  {
   "cell_type": "code",
   "execution_count": 46,
   "metadata": {
    "ExecuteTime": {
     "end_time": "2020-02-25T01:57:49.731208Z",
     "start_time": "2020-02-25T01:57:49.673207Z"
    }
   },
   "outputs": [
    {
     "data": {
      "text/html": [
       "<div>\n",
       "<style scoped>\n",
       "    .dataframe tbody tr th:only-of-type {\n",
       "        vertical-align: middle;\n",
       "    }\n",
       "\n",
       "    .dataframe tbody tr th {\n",
       "        vertical-align: top;\n",
       "    }\n",
       "\n",
       "    .dataframe thead th {\n",
       "        text-align: right;\n",
       "    }\n",
       "</style>\n",
       "<table border=\"1\" class=\"dataframe\">\n",
       "  <thead>\n",
       "    <tr style=\"text-align: right;\">\n",
       "      <th></th>\n",
       "      <th>Drug</th>\n",
       "      <th>Conc</th>\n",
       "      <th>R1</th>\n",
       "      <th>R2</th>\n",
       "      <th>R3</th>\n",
       "      <th>R4</th>\n",
       "      <th>R5</th>\n",
       "      <th>R6</th>\n",
       "      <th>mean</th>\n",
       "    </tr>\n",
       "  </thead>\n",
       "  <tbody>\n",
       "    <tr>\n",
       "      <td>0</td>\n",
       "      <td>drug_0</td>\n",
       "      <td>8xMIC</td>\n",
       "      <td>0.2876</td>\n",
       "      <td>0.5530</td>\n",
       "      <td>0.7734</td>\n",
       "      <td>0.5185</td>\n",
       "      <td>0.5649</td>\n",
       "      <td>0.6715</td>\n",
       "      <td>0.561483</td>\n",
       "    </tr>\n",
       "    <tr>\n",
       "      <td>1</td>\n",
       "      <td>drug_0</td>\n",
       "      <td>4xMIC</td>\n",
       "      <td>0.2796</td>\n",
       "      <td>0.6334</td>\n",
       "      <td>0.4026</td>\n",
       "      <td>0.5253</td>\n",
       "      <td>0.6317</td>\n",
       "      <td>0.6409</td>\n",
       "      <td>0.518917</td>\n",
       "    </tr>\n",
       "    <tr>\n",
       "      <td>2</td>\n",
       "      <td>drug_0</td>\n",
       "      <td>2xMIC</td>\n",
       "      <td>0.6709</td>\n",
       "      <td>0.7067</td>\n",
       "      <td>0.7536</td>\n",
       "      <td>0.7634</td>\n",
       "      <td>0.7847</td>\n",
       "      <td>0.7717</td>\n",
       "      <td>0.741833</td>\n",
       "    </tr>\n",
       "    <tr>\n",
       "      <td>3</td>\n",
       "      <td>drug_0</td>\n",
       "      <td>1xMIC</td>\n",
       "      <td>0.6768</td>\n",
       "      <td>0.8807</td>\n",
       "      <td>0.8459</td>\n",
       "      <td>0.9099</td>\n",
       "      <td>0.8927</td>\n",
       "      <td>0.8619</td>\n",
       "      <td>0.844650</td>\n",
       "    </tr>\n",
       "    <tr>\n",
       "      <td>4</td>\n",
       "      <td>drug_0</td>\n",
       "      <td>0.5xMIC</td>\n",
       "      <td>0.8940</td>\n",
       "      <td>0.9431</td>\n",
       "      <td>0.8165</td>\n",
       "      <td>0.9041</td>\n",
       "      <td>0.9121</td>\n",
       "      <td>0.8799</td>\n",
       "      <td>0.891617</td>\n",
       "    </tr>\n",
       "  </tbody>\n",
       "</table>\n",
       "</div>"
      ],
      "text/plain": [
       "     Drug     Conc      R1      R2      R3      R4      R5      R6      mean\n",
       "0  drug_0    8xMIC  0.2876  0.5530  0.7734  0.5185  0.5649  0.6715  0.561483\n",
       "1  drug_0    4xMIC  0.2796  0.6334  0.4026  0.5253  0.6317  0.6409  0.518917\n",
       "2  drug_0    2xMIC  0.6709  0.7067  0.7536  0.7634  0.7847  0.7717  0.741833\n",
       "3  drug_0    1xMIC  0.6768  0.8807  0.8459  0.9099  0.8927  0.8619  0.844650\n",
       "4  drug_0  0.5xMIC  0.8940  0.9431  0.8165  0.9041  0.9121  0.8799  0.891617"
      ]
     },
     "execution_count": 46,
     "metadata": {},
     "output_type": "execute_result"
    }
   ],
   "source": [
    "#restrict to an OD above which cells all cells have not died\n",
    "sel_ods = drug_ods[drug_ods['mean']>0.3]\n",
    "sel_ods.head()"
   ]
  },
  {
   "cell_type": "code",
   "execution_count": 47,
   "metadata": {
    "ExecuteTime": {
     "end_time": "2020-02-25T01:57:49.842207Z",
     "start_time": "2020-02-25T01:57:49.737206Z"
    }
   },
   "outputs": [
    {
     "name": "stderr",
     "output_type": "stream",
     "text": [
      "C:\\Users\\light\\Anaconda3\\lib\\site-packages\\ipykernel_launcher.py:3: SettingWithCopyWarning: \n",
      "A value is trying to be set on a copy of a slice from a DataFrame.\n",
      "Try using .loc[row_indexer,col_indexer] = value instead\n",
      "\n",
      "See the caveats in the documentation: http://pandas.pydata.org/pandas-docs/stable/user_guide/indexing.html#returning-a-view-versus-a-copy\n",
      "  This is separate from the ipykernel package so we can avoid doing imports until\n",
      "C:\\Users\\light\\Anaconda3\\lib\\site-packages\\ipykernel_launcher.py:4: SettingWithCopyWarning: \n",
      "A value is trying to be set on a copy of a slice from a DataFrame.\n",
      "Try using .loc[row_indexer,col_indexer] = value instead\n",
      "\n",
      "See the caveats in the documentation: http://pandas.pydata.org/pandas-docs/stable/user_guide/indexing.html#returning-a-view-versus-a-copy\n",
      "  after removing the cwd from sys.path.\n"
     ]
    },
    {
     "data": {
      "text/html": [
       "<div>\n",
       "<style scoped>\n",
       "    .dataframe tbody tr th:only-of-type {\n",
       "        vertical-align: middle;\n",
       "    }\n",
       "\n",
       "    .dataframe tbody tr th {\n",
       "        vertical-align: top;\n",
       "    }\n",
       "\n",
       "    .dataframe thead th {\n",
       "        text-align: right;\n",
       "    }\n",
       "</style>\n",
       "<table border=\"1\" class=\"dataframe\">\n",
       "  <thead>\n",
       "    <tr style=\"text-align: right;\">\n",
       "      <th></th>\n",
       "      <th>Drug</th>\n",
       "      <th>Conc</th>\n",
       "      <th>R1</th>\n",
       "      <th>R2</th>\n",
       "      <th>R3</th>\n",
       "      <th>R4</th>\n",
       "      <th>R5</th>\n",
       "      <th>R6</th>\n",
       "      <th>mean</th>\n",
       "      <th>num_conc</th>\n",
       "      <th>Conc_rank</th>\n",
       "    </tr>\n",
       "  </thead>\n",
       "  <tbody>\n",
       "    <tr>\n",
       "      <td>0</td>\n",
       "      <td>drug_0</td>\n",
       "      <td>8xMIC</td>\n",
       "      <td>0.2876</td>\n",
       "      <td>0.5530</td>\n",
       "      <td>0.7734</td>\n",
       "      <td>0.5185</td>\n",
       "      <td>0.5649</td>\n",
       "      <td>0.6715</td>\n",
       "      <td>0.561483</td>\n",
       "      <td>8.000</td>\n",
       "      <td>7.0</td>\n",
       "    </tr>\n",
       "    <tr>\n",
       "      <td>1</td>\n",
       "      <td>drug_0</td>\n",
       "      <td>4xMIC</td>\n",
       "      <td>0.2796</td>\n",
       "      <td>0.6334</td>\n",
       "      <td>0.4026</td>\n",
       "      <td>0.5253</td>\n",
       "      <td>0.6317</td>\n",
       "      <td>0.6409</td>\n",
       "      <td>0.518917</td>\n",
       "      <td>4.000</td>\n",
       "      <td>6.0</td>\n",
       "    </tr>\n",
       "    <tr>\n",
       "      <td>2</td>\n",
       "      <td>drug_0</td>\n",
       "      <td>2xMIC</td>\n",
       "      <td>0.6709</td>\n",
       "      <td>0.7067</td>\n",
       "      <td>0.7536</td>\n",
       "      <td>0.7634</td>\n",
       "      <td>0.7847</td>\n",
       "      <td>0.7717</td>\n",
       "      <td>0.741833</td>\n",
       "      <td>2.000</td>\n",
       "      <td>5.0</td>\n",
       "    </tr>\n",
       "    <tr>\n",
       "      <td>3</td>\n",
       "      <td>drug_0</td>\n",
       "      <td>1xMIC</td>\n",
       "      <td>0.6768</td>\n",
       "      <td>0.8807</td>\n",
       "      <td>0.8459</td>\n",
       "      <td>0.9099</td>\n",
       "      <td>0.8927</td>\n",
       "      <td>0.8619</td>\n",
       "      <td>0.844650</td>\n",
       "      <td>1.000</td>\n",
       "      <td>4.0</td>\n",
       "    </tr>\n",
       "    <tr>\n",
       "      <td>4</td>\n",
       "      <td>drug_0</td>\n",
       "      <td>0.5xMIC</td>\n",
       "      <td>0.8940</td>\n",
       "      <td>0.9431</td>\n",
       "      <td>0.8165</td>\n",
       "      <td>0.9041</td>\n",
       "      <td>0.9121</td>\n",
       "      <td>0.8799</td>\n",
       "      <td>0.891617</td>\n",
       "      <td>0.500</td>\n",
       "      <td>3.0</td>\n",
       "    </tr>\n",
       "    <tr>\n",
       "      <td>5</td>\n",
       "      <td>drug_0</td>\n",
       "      <td>0.25xMIC</td>\n",
       "      <td>0.8841</td>\n",
       "      <td>0.9352</td>\n",
       "      <td>0.9917</td>\n",
       "      <td>0.9324</td>\n",
       "      <td>1.0334</td>\n",
       "      <td>0.9380</td>\n",
       "      <td>0.952467</td>\n",
       "      <td>0.250</td>\n",
       "      <td>2.0</td>\n",
       "    </tr>\n",
       "    <tr>\n",
       "      <td>6</td>\n",
       "      <td>drug_0</td>\n",
       "      <td>0.125xMIC</td>\n",
       "      <td>0.8929</td>\n",
       "      <td>0.7699</td>\n",
       "      <td>0.8256</td>\n",
       "      <td>0.9274</td>\n",
       "      <td>0.9139</td>\n",
       "      <td>0.9250</td>\n",
       "      <td>0.875783</td>\n",
       "      <td>0.125</td>\n",
       "      <td>1.0</td>\n",
       "    </tr>\n",
       "    <tr>\n",
       "      <td>11</td>\n",
       "      <td>drug_1</td>\n",
       "      <td>1xMIC</td>\n",
       "      <td>0.2185</td>\n",
       "      <td>0.3727</td>\n",
       "      <td>0.4214</td>\n",
       "      <td>0.4352</td>\n",
       "      <td>0.4461</td>\n",
       "      <td>0.3722</td>\n",
       "      <td>0.377683</td>\n",
       "      <td>1.000</td>\n",
       "      <td>4.0</td>\n",
       "    </tr>\n",
       "    <tr>\n",
       "      <td>12</td>\n",
       "      <td>drug_1</td>\n",
       "      <td>0.5xMIC</td>\n",
       "      <td>0.6010</td>\n",
       "      <td>0.6248</td>\n",
       "      <td>0.6415</td>\n",
       "      <td>0.5439</td>\n",
       "      <td>0.5873</td>\n",
       "      <td>0.6548</td>\n",
       "      <td>0.608883</td>\n",
       "      <td>0.500</td>\n",
       "      <td>3.0</td>\n",
       "    </tr>\n",
       "    <tr>\n",
       "      <td>13</td>\n",
       "      <td>drug_1</td>\n",
       "      <td>0.25xMIC</td>\n",
       "      <td>0.5250</td>\n",
       "      <td>0.6004</td>\n",
       "      <td>0.7599</td>\n",
       "      <td>0.7117</td>\n",
       "      <td>0.7348</td>\n",
       "      <td>0.6967</td>\n",
       "      <td>0.671417</td>\n",
       "      <td>0.250</td>\n",
       "      <td>2.0</td>\n",
       "    </tr>\n",
       "  </tbody>\n",
       "</table>\n",
       "</div>"
      ],
      "text/plain": [
       "      Drug       Conc      R1      R2      R3      R4      R5      R6  \\\n",
       "0   drug_0      8xMIC  0.2876  0.5530  0.7734  0.5185  0.5649  0.6715   \n",
       "1   drug_0      4xMIC  0.2796  0.6334  0.4026  0.5253  0.6317  0.6409   \n",
       "2   drug_0      2xMIC  0.6709  0.7067  0.7536  0.7634  0.7847  0.7717   \n",
       "3   drug_0      1xMIC  0.6768  0.8807  0.8459  0.9099  0.8927  0.8619   \n",
       "4   drug_0    0.5xMIC  0.8940  0.9431  0.8165  0.9041  0.9121  0.8799   \n",
       "5   drug_0   0.25xMIC  0.8841  0.9352  0.9917  0.9324  1.0334  0.9380   \n",
       "6   drug_0  0.125xMIC  0.8929  0.7699  0.8256  0.9274  0.9139  0.9250   \n",
       "11  drug_1      1xMIC  0.2185  0.3727  0.4214  0.4352  0.4461  0.3722   \n",
       "12  drug_1    0.5xMIC  0.6010  0.6248  0.6415  0.5439  0.5873  0.6548   \n",
       "13  drug_1   0.25xMIC  0.5250  0.6004  0.7599  0.7117  0.7348  0.6967   \n",
       "\n",
       "        mean  num_conc  Conc_rank  \n",
       "0   0.561483     8.000        7.0  \n",
       "1   0.518917     4.000        6.0  \n",
       "2   0.741833     2.000        5.0  \n",
       "3   0.844650     1.000        4.0  \n",
       "4   0.891617     0.500        3.0  \n",
       "5   0.952467     0.250        2.0  \n",
       "6   0.875783     0.125        1.0  \n",
       "11  0.377683     1.000        4.0  \n",
       "12  0.608883     0.500        3.0  \n",
       "13  0.671417     0.250        2.0  "
      ]
     },
     "execution_count": 47,
     "metadata": {},
     "output_type": "execute_result"
    }
   ],
   "source": [
    "#Get concentration ranks. \n",
    "#This allows us to choose the top three concentrations that have mean OD above the desired cutoff of 0.3\n",
    "sel_ods['num_conc'] = sel_ods['Conc'].str.replace(\"xMIC\", \"\").astype('float')\n",
    "sel_ods['Conc_rank'] = sel_ods.groupby('Drug')['num_conc'].rank()\n",
    "sel_ods.head(10)"
   ]
  },
  {
   "cell_type": "code",
   "execution_count": 48,
   "metadata": {
    "ExecuteTime": {
     "end_time": "2020-02-25T01:57:50.017206Z",
     "start_time": "2020-02-25T01:57:49.847209Z"
    }
   },
   "outputs": [
    {
     "name": "stdout",
     "output_type": "stream",
     "text": [
      "(256, 1)\n"
     ]
    },
    {
     "data": {
      "text/html": [
       "<div>\n",
       "<style scoped>\n",
       "    .dataframe tbody tr th:only-of-type {\n",
       "        vertical-align: middle;\n",
       "    }\n",
       "\n",
       "    .dataframe tbody tr th {\n",
       "        vertical-align: top;\n",
       "    }\n",
       "\n",
       "    .dataframe thead th {\n",
       "        text-align: right;\n",
       "    }\n",
       "</style>\n",
       "<table border=\"1\" class=\"dataframe\">\n",
       "  <thead>\n",
       "    <tr style=\"text-align: right;\">\n",
       "      <th></th>\n",
       "      <th>Conc_rank</th>\n",
       "    </tr>\n",
       "  </thead>\n",
       "  <tbody>\n",
       "    <tr>\n",
       "      <td>683</td>\n",
       "      <td>4.0</td>\n",
       "    </tr>\n",
       "    <tr>\n",
       "      <td>684</td>\n",
       "      <td>3.0</td>\n",
       "    </tr>\n",
       "    <tr>\n",
       "      <td>689</td>\n",
       "      <td>6.0</td>\n",
       "    </tr>\n",
       "    <tr>\n",
       "      <td>690</td>\n",
       "      <td>5.0</td>\n",
       "    </tr>\n",
       "    <tr>\n",
       "      <td>691</td>\n",
       "      <td>4.0</td>\n",
       "    </tr>\n",
       "  </tbody>\n",
       "</table>\n",
       "</div>"
      ],
      "text/plain": [
       "     Conc_rank\n",
       "683        4.0\n",
       "684        3.0\n",
       "689        6.0\n",
       "690        5.0\n",
       "691        4.0"
      ]
     },
     "execution_count": 48,
     "metadata": {},
     "output_type": "execute_result"
    }
   ],
   "source": [
    "#Get top three ranks\n",
    "top_ods = pd.DataFrame(sel_ods.groupby(by='Drug')['Conc_rank'].apply(lambda x: x.nlargest(3)))\n",
    "top_ods.reset_index(level=0, drop=True, inplace=True)\n",
    "print(top_ods.shape)\n",
    "top_ods.tail()"
   ]
  },
  {
   "cell_type": "code",
   "execution_count": 49,
   "metadata": {
    "ExecuteTime": {
     "end_time": "2020-02-25T01:57:50.049207Z",
     "start_time": "2020-02-25T01:57:50.022210Z"
    }
   },
   "outputs": [],
   "source": [
    "#filter top three ranks\n",
    "sel_ods_top = sel_ods.loc[top_ods.index,:]\n",
    "sel_ods_top.drop(columns=['num_conc', 'Conc_rank'], inplace=True)"
   ]
  },
  {
   "cell_type": "code",
   "execution_count": 50,
   "metadata": {
    "ExecuteTime": {
     "end_time": "2020-02-25T01:57:50.207205Z",
     "start_time": "2020-02-25T01:57:50.055207Z"
    }
   },
   "outputs": [
    {
     "data": {
      "text/html": [
       "<div>\n",
       "<style scoped>\n",
       "    .dataframe tbody tr th:only-of-type {\n",
       "        vertical-align: middle;\n",
       "    }\n",
       "\n",
       "    .dataframe tbody tr th {\n",
       "        vertical-align: top;\n",
       "    }\n",
       "\n",
       "    .dataframe thead th {\n",
       "        text-align: right;\n",
       "    }\n",
       "</style>\n",
       "<table border=\"1\" class=\"dataframe\">\n",
       "  <thead>\n",
       "    <tr style=\"text-align: right;\">\n",
       "      <th></th>\n",
       "      <th>Drug</th>\n",
       "      <th>Conc</th>\n",
       "      <th>R1</th>\n",
       "      <th>R2</th>\n",
       "      <th>R3</th>\n",
       "      <th>R4</th>\n",
       "      <th>R5</th>\n",
       "      <th>R6</th>\n",
       "      <th>mean</th>\n",
       "    </tr>\n",
       "  </thead>\n",
       "  <tbody>\n",
       "    <tr>\n",
       "      <td>7</td>\n",
       "      <td>drug_0</td>\n",
       "      <td>0.000xMIC</td>\n",
       "      <td>0.8485</td>\n",
       "      <td>0.8836</td>\n",
       "      <td>1.0600</td>\n",
       "      <td>0.9194</td>\n",
       "      <td>0.9105</td>\n",
       "      <td>1.0767</td>\n",
       "      <td>0.949783</td>\n",
       "    </tr>\n",
       "    <tr>\n",
       "      <td>2</td>\n",
       "      <td>drug_0</td>\n",
       "      <td>2xMIC</td>\n",
       "      <td>0.6709</td>\n",
       "      <td>0.7067</td>\n",
       "      <td>0.7536</td>\n",
       "      <td>0.7634</td>\n",
       "      <td>0.7847</td>\n",
       "      <td>0.7717</td>\n",
       "      <td>0.741833</td>\n",
       "    </tr>\n",
       "    <tr>\n",
       "      <td>1</td>\n",
       "      <td>drug_0</td>\n",
       "      <td>4xMIC</td>\n",
       "      <td>0.2796</td>\n",
       "      <td>0.6334</td>\n",
       "      <td>0.4026</td>\n",
       "      <td>0.5253</td>\n",
       "      <td>0.6317</td>\n",
       "      <td>0.6409</td>\n",
       "      <td>0.518917</td>\n",
       "    </tr>\n",
       "    <tr>\n",
       "      <td>0</td>\n",
       "      <td>drug_0</td>\n",
       "      <td>8xMIC</td>\n",
       "      <td>0.2876</td>\n",
       "      <td>0.5530</td>\n",
       "      <td>0.7734</td>\n",
       "      <td>0.5185</td>\n",
       "      <td>0.5649</td>\n",
       "      <td>0.6715</td>\n",
       "      <td>0.561483</td>\n",
       "    </tr>\n",
       "    <tr>\n",
       "      <td>15</td>\n",
       "      <td>drug_1</td>\n",
       "      <td>0.000xMIC</td>\n",
       "      <td>0.8779</td>\n",
       "      <td>0.8657</td>\n",
       "      <td>0.9229</td>\n",
       "      <td>1.0435</td>\n",
       "      <td>0.9088</td>\n",
       "      <td>0.9837</td>\n",
       "      <td>0.933750</td>\n",
       "    </tr>\n",
       "  </tbody>\n",
       "</table>\n",
       "</div>"
      ],
      "text/plain": [
       "      Drug       Conc      R1      R2      R3      R4      R5      R6  \\\n",
       "7   drug_0  0.000xMIC  0.8485  0.8836  1.0600  0.9194  0.9105  1.0767   \n",
       "2   drug_0      2xMIC  0.6709  0.7067  0.7536  0.7634  0.7847  0.7717   \n",
       "1   drug_0      4xMIC  0.2796  0.6334  0.4026  0.5253  0.6317  0.6409   \n",
       "0   drug_0      8xMIC  0.2876  0.5530  0.7734  0.5185  0.5649  0.6715   \n",
       "15  drug_1  0.000xMIC  0.8779  0.8657  0.9229  1.0435  0.9088  0.9837   \n",
       "\n",
       "        mean  \n",
       "7   0.949783  \n",
       "2   0.741833  \n",
       "1   0.518917  \n",
       "0   0.561483  \n",
       "15  0.933750  "
      ]
     },
     "execution_count": 50,
     "metadata": {},
     "output_type": "execute_result"
    }
   ],
   "source": [
    "#add no drug back\n",
    "sel_ods_top = sel_ods_top.append(no_drug_ods).sort_values(by=['Drug', 'Conc'])\n",
    "sel_ods_top.to_csv(pathlib.Path.cwd().joinpath('Analysis','4-Select_conditions', 'ODs_drugs_w_rank_selected.csv'), index=False)\n",
    "sel_ods_top.head()"
   ]
  },
  {
   "cell_type": "code",
   "execution_count": 51,
   "metadata": {
    "ExecuteTime": {
     "end_time": "2020-02-25T01:57:50.255208Z",
     "start_time": "2020-02-25T01:57:50.212207Z"
    }
   },
   "outputs": [
    {
     "data": {
      "text/html": [
       "<div>\n",
       "<style scoped>\n",
       "    .dataframe tbody tr th:only-of-type {\n",
       "        vertical-align: middle;\n",
       "    }\n",
       "\n",
       "    .dataframe tbody tr th {\n",
       "        vertical-align: top;\n",
       "    }\n",
       "\n",
       "    .dataframe thead th {\n",
       "        text-align: right;\n",
       "    }\n",
       "</style>\n",
       "<table border=\"1\" class=\"dataframe\">\n",
       "  <thead>\n",
       "    <tr style=\"text-align: right;\">\n",
       "      <th></th>\n",
       "      <th>Drug</th>\n",
       "      <th>Conc</th>\n",
       "      <th>mean</th>\n",
       "    </tr>\n",
       "  </thead>\n",
       "  <tbody>\n",
       "    <tr>\n",
       "      <td>7</td>\n",
       "      <td>drug_0</td>\n",
       "      <td>0.000xMIC</td>\n",
       "      <td>0.949783</td>\n",
       "    </tr>\n",
       "    <tr>\n",
       "      <td>2</td>\n",
       "      <td>drug_0</td>\n",
       "      <td>2xMIC</td>\n",
       "      <td>0.741833</td>\n",
       "    </tr>\n",
       "    <tr>\n",
       "      <td>1</td>\n",
       "      <td>drug_0</td>\n",
       "      <td>4xMIC</td>\n",
       "      <td>0.518917</td>\n",
       "    </tr>\n",
       "    <tr>\n",
       "      <td>0</td>\n",
       "      <td>drug_0</td>\n",
       "      <td>8xMIC</td>\n",
       "      <td>0.561483</td>\n",
       "    </tr>\n",
       "    <tr>\n",
       "      <td>15</td>\n",
       "      <td>drug_1</td>\n",
       "      <td>0.000xMIC</td>\n",
       "      <td>0.933750</td>\n",
       "    </tr>\n",
       "  </tbody>\n",
       "</table>\n",
       "</div>"
      ],
      "text/plain": [
       "      Drug       Conc      mean\n",
       "7   drug_0  0.000xMIC  0.949783\n",
       "2   drug_0      2xMIC  0.741833\n",
       "1   drug_0      4xMIC  0.518917\n",
       "0   drug_0      8xMIC  0.561483\n",
       "15  drug_1  0.000xMIC  0.933750"
      ]
     },
     "execution_count": 51,
     "metadata": {},
     "output_type": "execute_result"
    }
   ],
   "source": [
    "#Drop replicate columns\n",
    "sel_ods_top.drop(columns=list(sel_ods_top.filter(regex='^R\\d$').columns), inplace=True)\n",
    "sel_ods_top.head()"
   ]
  },
  {
   "cell_type": "code",
   "execution_count": 52,
   "metadata": {
    "ExecuteTime": {
     "end_time": "2020-02-25T01:57:50.303206Z",
     "start_time": "2020-02-25T01:57:50.260207Z"
    }
   },
   "outputs": [
    {
     "data": {
      "text/html": [
       "<div>\n",
       "<style scoped>\n",
       "    .dataframe tbody tr th:only-of-type {\n",
       "        vertical-align: middle;\n",
       "    }\n",
       "\n",
       "    .dataframe tbody tr th {\n",
       "        vertical-align: top;\n",
       "    }\n",
       "\n",
       "    .dataframe thead th {\n",
       "        text-align: right;\n",
       "    }\n",
       "</style>\n",
       "<table border=\"1\" class=\"dataframe\">\n",
       "  <thead>\n",
       "    <tr style=\"text-align: right;\">\n",
       "      <th></th>\n",
       "      <th>Drug</th>\n",
       "      <th>Conc</th>\n",
       "      <th>Replicate</th>\n",
       "      <th>Strain</th>\n",
       "      <th>p5</th>\n",
       "      <th>p7</th>\n",
       "      <th>RC</th>\n",
       "    </tr>\n",
       "  </thead>\n",
       "  <tbody>\n",
       "    <tr>\n",
       "      <td>2628</td>\n",
       "      <td>drug_0</td>\n",
       "      <td>0.000xMIC</td>\n",
       "      <td>1</td>\n",
       "      <td>strain.0</td>\n",
       "      <td>1</td>\n",
       "      <td>8</td>\n",
       "      <td>2415</td>\n",
       "    </tr>\n",
       "    <tr>\n",
       "      <td>2629</td>\n",
       "      <td>drug_0</td>\n",
       "      <td>0.000xMIC</td>\n",
       "      <td>1</td>\n",
       "      <td>strain.1</td>\n",
       "      <td>1</td>\n",
       "      <td>8</td>\n",
       "      <td>1314</td>\n",
       "    </tr>\n",
       "    <tr>\n",
       "      <td>2630</td>\n",
       "      <td>drug_0</td>\n",
       "      <td>0.000xMIC</td>\n",
       "      <td>1</td>\n",
       "      <td>strain.10</td>\n",
       "      <td>1</td>\n",
       "      <td>8</td>\n",
       "      <td>9686</td>\n",
       "    </tr>\n",
       "    <tr>\n",
       "      <td>2631</td>\n",
       "      <td>drug_0</td>\n",
       "      <td>0.000xMIC</td>\n",
       "      <td>1</td>\n",
       "      <td>strain.100</td>\n",
       "      <td>1</td>\n",
       "      <td>8</td>\n",
       "      <td>465</td>\n",
       "    </tr>\n",
       "    <tr>\n",
       "      <td>2632</td>\n",
       "      <td>drug_0</td>\n",
       "      <td>0.000xMIC</td>\n",
       "      <td>1</td>\n",
       "      <td>strain.101</td>\n",
       "      <td>1</td>\n",
       "      <td>8</td>\n",
       "      <td>414</td>\n",
       "    </tr>\n",
       "  </tbody>\n",
       "</table>\n",
       "</div>"
      ],
      "text/plain": [
       "        Drug       Conc  Replicate      Strain  p5  p7    RC\n",
       "2628  drug_0  0.000xMIC          1    strain.0   1   8  2415\n",
       "2629  drug_0  0.000xMIC          1    strain.1   1   8  1314\n",
       "2630  drug_0  0.000xMIC          1   strain.10   1   8  9686\n",
       "2631  drug_0  0.000xMIC          1  strain.100   1   8   465\n",
       "2632  drug_0  0.000xMIC          1  strain.101   1   8   414"
      ]
     },
     "execution_count": 52,
     "metadata": {},
     "output_type": "execute_result"
    }
   ],
   "source": [
    "counts.head()"
   ]
  },
  {
   "cell_type": "code",
   "execution_count": 53,
   "metadata": {
    "ExecuteTime": {
     "end_time": "2020-02-25T01:57:51.860507Z",
     "start_time": "2020-02-25T01:57:50.309208Z"
    }
   },
   "outputs": [],
   "source": [
    "drug_count_od = pd.merge(sel_ods_top,counts, how='left', on=['Drug', 'Conc'])\n",
    "drug_count_od.drop(columns='mean', inplace=True)\n",
    "\n",
    "#remove residual ods from merge, which come from drugs not sequenced. use only p5 and p7 to preserve nas in strain counts\n",
    "drug_count_od.dropna(subset=['p5', 'p7'], inplace=True)"
   ]
  },
  {
   "cell_type": "code",
   "execution_count": 54,
   "metadata": {
    "ExecuteTime": {
     "end_time": "2020-02-25T01:58:03.182227Z",
     "start_time": "2020-02-25T01:57:51.867209Z"
    }
   },
   "outputs": [],
   "source": [
    "drug_count_od.to_csv(pathlib.Path.cwd().joinpath('Analysis','4-Select_conditions', 'Sel_ODs_drugs_counts.csv'), index=False)"
   ]
  },
  {
   "cell_type": "markdown",
   "metadata": {
    "ExecuteTime": {
     "end_time": "2018-12-12T18:03:48.278899Z",
     "start_time": "2018-12-12T18:03:48.276894Z"
    }
   },
   "source": [
    "## QC"
   ]
  },
  {
   "cell_type": "markdown",
   "metadata": {},
   "source": [
    "Remove PCRs that didn't work. These are defined as those in which more than 80% of all strains have counts lower that the threshold of 150. Also, remove strains that showed a mean of <5 counts in the no drug controls"
   ]
  },
  {
   "cell_type": "code",
   "execution_count": 55,
   "metadata": {
    "ExecuteTime": {
     "end_time": "2020-02-25T01:58:03.470225Z",
     "start_time": "2020-02-25T01:58:03.188228Z"
    }
   },
   "outputs": [],
   "source": [
    "%reset -f"
   ]
  },
  {
   "cell_type": "code",
   "execution_count": 56,
   "metadata": {
    "ExecuteTime": {
     "end_time": "2020-02-25T01:58:03.487236Z",
     "start_time": "2020-02-25T01:58:03.475229Z"
    }
   },
   "outputs": [],
   "source": [
    "import pandas as pd\n",
    "import os\n",
    "import pathlib"
   ]
  },
  {
   "cell_type": "code",
   "execution_count": 57,
   "metadata": {
    "ExecuteTime": {
     "end_time": "2020-02-25T01:58:06.368225Z",
     "start_time": "2020-02-25T01:58:03.495230Z"
    }
   },
   "outputs": [
    {
     "data": {
      "text/html": [
       "<div>\n",
       "<style scoped>\n",
       "    .dataframe tbody tr th:only-of-type {\n",
       "        vertical-align: middle;\n",
       "    }\n",
       "\n",
       "    .dataframe tbody tr th {\n",
       "        vertical-align: top;\n",
       "    }\n",
       "\n",
       "    .dataframe thead th {\n",
       "        text-align: right;\n",
       "    }\n",
       "</style>\n",
       "<table border=\"1\" class=\"dataframe\">\n",
       "  <thead>\n",
       "    <tr style=\"text-align: right;\">\n",
       "      <th></th>\n",
       "      <th>Drug</th>\n",
       "      <th>Conc</th>\n",
       "      <th>Replicate</th>\n",
       "      <th>Strain</th>\n",
       "      <th>p5</th>\n",
       "      <th>p7</th>\n",
       "      <th>RC</th>\n",
       "    </tr>\n",
       "  </thead>\n",
       "  <tbody>\n",
       "    <tr>\n",
       "      <td>0</td>\n",
       "      <td>drug_0</td>\n",
       "      <td>0.000xMIC</td>\n",
       "      <td>1</td>\n",
       "      <td>strain.0</td>\n",
       "      <td>1</td>\n",
       "      <td>8</td>\n",
       "      <td>2415</td>\n",
       "    </tr>\n",
       "    <tr>\n",
       "      <td>1</td>\n",
       "      <td>drug_0</td>\n",
       "      <td>0.000xMIC</td>\n",
       "      <td>1</td>\n",
       "      <td>strain.1</td>\n",
       "      <td>1</td>\n",
       "      <td>8</td>\n",
       "      <td>1314</td>\n",
       "    </tr>\n",
       "    <tr>\n",
       "      <td>2</td>\n",
       "      <td>drug_0</td>\n",
       "      <td>0.000xMIC</td>\n",
       "      <td>1</td>\n",
       "      <td>strain.10</td>\n",
       "      <td>1</td>\n",
       "      <td>8</td>\n",
       "      <td>9686</td>\n",
       "    </tr>\n",
       "    <tr>\n",
       "      <td>3</td>\n",
       "      <td>drug_0</td>\n",
       "      <td>0.000xMIC</td>\n",
       "      <td>1</td>\n",
       "      <td>strain.100</td>\n",
       "      <td>1</td>\n",
       "      <td>8</td>\n",
       "      <td>465</td>\n",
       "    </tr>\n",
       "    <tr>\n",
       "      <td>4</td>\n",
       "      <td>drug_0</td>\n",
       "      <td>0.000xMIC</td>\n",
       "      <td>1</td>\n",
       "      <td>strain.101</td>\n",
       "      <td>1</td>\n",
       "      <td>8</td>\n",
       "      <td>414</td>\n",
       "    </tr>\n",
       "  </tbody>\n",
       "</table>\n",
       "</div>"
      ],
      "text/plain": [
       "     Drug       Conc  Replicate      Strain  p5  p7    RC\n",
       "0  drug_0  0.000xMIC          1    strain.0   1   8  2415\n",
       "1  drug_0  0.000xMIC          1    strain.1   1   8  1314\n",
       "2  drug_0  0.000xMIC          1   strain.10   1   8  9686\n",
       "3  drug_0  0.000xMIC          1  strain.100   1   8   465\n",
       "4  drug_0  0.000xMIC          1  strain.101   1   8   414"
      ]
     },
     "execution_count": 57,
     "metadata": {},
     "output_type": "execute_result"
    }
   ],
   "source": [
    "data = pd.read_csv(pathlib.Path.cwd().joinpath('Analysis','4-Select_conditions', 'Sel_ODs_drugs_counts.csv'))\n",
    "data_wo_sel = pd.read_csv(pathlib.Path.cwd().joinpath('Analysis','3-Merge_counts', 'Counts_merged.csv'))\n",
    "inp = pd.read_csv(pathlib.Path.cwd().joinpath('Analysis','4-Select_conditions', 'input_counts.csv'))\n",
    "data.head()"
   ]
  },
  {
   "cell_type": "code",
   "execution_count": 58,
   "metadata": {
    "ExecuteTime": {
     "end_time": "2020-02-25T01:58:06.400225Z",
     "start_time": "2020-02-25T01:58:06.373227Z"
    }
   },
   "outputs": [],
   "source": [
    "def pivot(df):\n",
    "    \"\"\"Pivots a dataframe to have strains as the columns\"\"\"\n",
    "    df = df.drop(columns=['p5', 'p7'])\n",
    "    # check for duplicates before pivoting to prevent agg\n",
    "    assert df.duplicated(subset=['Drug', 'Conc', 'Replicate', 'Strain']).any() == False\n",
    "    df = df.pivot_table(index=['Drug', 'Conc', 'Replicate'], columns='Strain', values='RC').reset_index().rename_axis(None, axis=1)\n",
    "    # print(df.shape)\n",
    "    return df"
   ]
  },
  {
   "cell_type": "code",
   "execution_count": 59,
   "metadata": {
    "ExecuteTime": {
     "end_time": "2020-02-25T01:58:06.432226Z",
     "start_time": "2020-02-25T01:58:06.406226Z"
    }
   },
   "outputs": [],
   "source": [
    "def drop_cols(df):\n",
    "    \"\"\"Remove strains which have a mean<5 in all no drug samples\"\"\"\n",
    "    df = df.dropna(axis=1, how='all')\n",
    "    # print(df.shape)\n",
    "    no_drug = df[df.Conc=='0.000xMIC']\n",
    "    poor_strains = (no_drug.filter(regex='\\.').mean()<5)\n",
    "    poor_strains = poor_strains[poor_strains==True].index.tolist()\n",
    "    print('Number of poor strains:', len(poor_strains), '-', poor_strains)\n",
    "    df.drop(columns=poor_strains, inplace=True)\n",
    "    # print(df.shape)\n",
    "    return df,poor_strains"
   ]
  },
  {
   "cell_type": "code",
   "execution_count": 60,
   "metadata": {
    "ExecuteTime": {
     "end_time": "2020-02-25T01:58:06.480226Z",
     "start_time": "2020-02-25T01:58:06.438230Z"
    }
   },
   "outputs": [],
   "source": [
    "def PCR_thresholding(df, threshold=150, frac=0.8, pseudo=5):\n",
    "    \"\"\"Add pseudocounts. Flag PCRs that in which more than 'frac' have less than threshold counts\"\"\"\n",
    "    metadata = df[['Drug', 'Conc', 'Replicate']]\n",
    "    strain_data = df.filter(regex='\\.')\n",
    "    strain_data = strain_data + pseudo\n",
    "    strain_data['below_threshold'] = strain_data.apply(lambda x:sum(x<threshold), axis=1)\n",
    "    strain_data['quality'] = strain_data['below_threshold']/strain_data.shape[1]<frac\n",
    "    print('Number of bad PCRs:', str(sum(strain_data['quality'] == False)))\n",
    "    print('Fraction of bad PCRs:', str(sum(strain_data['quality'] == False)/df.shape[0]))\n",
    "    # For backwords compatibility\n",
    "    strain_data['quality'] = strain_data['quality'].replace({True: 'good', False:'bad'})\n",
    "    return pd.merge(metadata, strain_data, left_index=True, right_index=True)\n",
    "    "
   ]
  },
  {
   "cell_type": "code",
   "execution_count": 61,
   "metadata": {
    "ExecuteTime": {
     "end_time": "2020-02-25T01:58:06.512227Z",
     "start_time": "2020-02-25T01:58:06.486228Z"
    }
   },
   "outputs": [],
   "source": [
    "def QC(df):\n",
    "    \"\"\"Calls relevant funtions to remove bad PCRs and strains\"\"\"\n",
    "    df_piv = pivot(df)\n",
    "    df_minus_strain,poor_strains = drop_cols(df_piv)\n",
    "    df_PCR_flagged = PCR_thresholding(df_minus_strain)\n",
    "    return df_PCR_flagged, poor_strains"
   ]
  },
  {
   "cell_type": "code",
   "execution_count": 62,
   "metadata": {
    "ExecuteTime": {
     "end_time": "2020-02-25T01:58:06.608229Z",
     "start_time": "2020-02-25T01:58:06.520228Z"
    }
   },
   "outputs": [],
   "source": [
    "def QC_input(inp, poor_strains):\n",
    "    \"\"\"Calls relevant funtions to remove bad PCRs and strains in input\"\"\"\n",
    "    inp_piv = pivot(inp)\n",
    "    inp_minus_strain = inp_piv.drop(poor_strains, axis=1)\n",
    "    inp_PCR_flagged = PCR_thresholding(inp_minus_strain)\n",
    "    return inp_PCR_flagged"
   ]
  },
  {
   "cell_type": "code",
   "execution_count": 63,
   "metadata": {
    "ExecuteTime": {
     "end_time": "2020-02-25T01:58:13.945227Z",
     "start_time": "2020-02-25T01:58:06.618230Z"
    }
   },
   "outputs": [
    {
     "name": "stdout",
     "output_type": "stream",
     "text": [
      "selected data:\n",
      "Number of poor strains: 13 - ['strain.26', 'strain.409', 'strain.410', 'strain.411', 'strain.412', 'strain.413', 'strain.417', 'strain.419', 'strain.421', 'strain.422', 'strain.429', 'strain.434', 'strain.435']\n",
      "Number of bad PCRs: 617\n",
      "Fraction of bad PCRs: 0.29980563654033043\n",
      "\n",
      " all data:\n",
      "Number of poor strains: 13 - ['strain.26', 'strain.409', 'strain.410', 'strain.411', 'strain.412', 'strain.413', 'strain.417', 'strain.419', 'strain.421', 'strain.422', 'strain.429', 'strain.434', 'strain.435']\n",
      "Number of bad PCRs: 1519\n",
      "Fraction of bad PCRs: 0.3632233381157341\n"
     ]
    }
   ],
   "source": [
    "print('selected data:')\n",
    "sel_PCR_flag, poor_strains = QC(data)\n",
    "print('\\n all data:')\n",
    "all_PCR_flag = QC(data_wo_sel)[0]\n"
   ]
  },
  {
   "cell_type": "code",
   "execution_count": 64,
   "metadata": {
    "ExecuteTime": {
     "end_time": "2020-02-25T01:58:14.293229Z",
     "start_time": "2020-02-25T01:58:13.950225Z"
    }
   },
   "outputs": [
    {
     "name": "stdout",
     "output_type": "stream",
     "text": [
      "Number of bad PCRs: 1\n",
      "Fraction of bad PCRs: 0.16666666666666666\n"
     ]
    }
   ],
   "source": [
    "inp_flag = QC_input(inp, poor_strains)"
   ]
  },
  {
   "cell_type": "code",
   "execution_count": 65,
   "metadata": {
    "ExecuteTime": {
     "end_time": "2020-02-25T01:58:14.309229Z",
     "start_time": "2020-02-25T01:58:14.301228Z"
    }
   },
   "outputs": [],
   "source": [
    "try:\n",
    "    pathlib.Path.cwd().joinpath('Analysis','5-QC').mkdir(parents=True, exist_ok=False)\n",
    "except FileExistsError:\n",
    "    pass"
   ]
  },
  {
   "cell_type": "code",
   "execution_count": 66,
   "metadata": {
    "ExecuteTime": {
     "end_time": "2020-02-25T01:58:19.041224Z",
     "start_time": "2020-02-25T01:58:14.316227Z"
    }
   },
   "outputs": [],
   "source": [
    "sel_PCR_flag.to_csv(pathlib.Path.cwd().joinpath('Analysis','5-QC', 'Sel_ODs_drugs_counts_QC_PCR_flagged.csv'), index=False)\n",
    "all_PCR_flag.to_csv(pathlib.Path.cwd().joinpath('Analysis','5-QC', 'Drug_counts_QC_PCR_flagged.csv'), index=False)\n",
    "inp_flag.to_csv(pathlib.Path.cwd().joinpath('Analysis','5-QC', 'Inp_PCR_flagged.csv'), index=False)"
   ]
  },
  {
   "cell_type": "code",
   "execution_count": 67,
   "metadata": {
    "ExecuteTime": {
     "end_time": "2020-02-25T01:58:19.164227Z",
     "start_time": "2020-02-25T01:58:19.045226Z"
    }
   },
   "outputs": [
    {
     "name": "stderr",
     "output_type": "stream",
     "text": [
      "C:\\Users\\light\\Anaconda3\\lib\\site-packages\\pandas\\core\\frame.py:4102: SettingWithCopyWarning: \n",
      "A value is trying to be set on a copy of a slice from a DataFrame\n",
      "\n",
      "See the caveats in the documentation: http://pandas.pydata.org/pandas-docs/stable/user_guide/indexing.html#returning-a-view-versus-a-copy\n",
      "  errors=errors,\n"
     ]
    }
   ],
   "source": [
    "#save dataframes without flags and with only good PCRs\n",
    "\n",
    "sel_PCR_good = sel_PCR_flag[sel_PCR_flag['quality']=='good']\n",
    "all_PCR_good = all_PCR_flag[all_PCR_flag['quality']=='good']\n",
    "inp_PCR_good = inp_flag[inp_flag['quality']=='good']\n",
    "\n",
    "sel_PCR_good.drop(columns=['quality', 'below_threshold'], inplace=True)\n",
    "all_PCR_good.drop(columns=['quality', 'below_threshold'], inplace=True)\n",
    "inp_PCR_good.drop(columns=['quality', 'below_threshold'], inplace=True)"
   ]
  },
  {
   "cell_type": "code",
   "execution_count": 68,
   "metadata": {
    "ExecuteTime": {
     "end_time": "2020-02-25T01:58:23.154743Z",
     "start_time": "2020-02-25T01:58:19.169226Z"
    }
   },
   "outputs": [],
   "source": [
    "sel_PCR_good.to_csv(pathlib.Path.cwd().joinpath('Analysis','5-QC', 'Sel_ODs_drugs_counts_QC.csv'), index=False)\n",
    "all_PCR_good.to_csv(pathlib.Path.cwd().joinpath('Analysis', '5-QC', 'Drug_counts_QC.csv'), index=False)\n",
    "inp_PCR_good.to_csv(pathlib.Path.cwd().joinpath('Analysis','5-QC', 'Inp_QC.csv'), index=False)"
   ]
  },
  {
   "cell_type": "markdown",
   "metadata": {
    "ExecuteTime": {
     "end_time": "2018-12-15T02:11:05.308116Z",
     "start_time": "2018-12-15T02:11:05.304588Z"
    }
   },
   "source": [
    "## Normalize to WT"
   ]
  },
  {
   "cell_type": "markdown",
   "metadata": {},
   "source": [
    "Since there may be differences in PCR efficiencies across samples, it is important to normalize all counts to WT. WT is strain.437"
   ]
  },
  {
   "cell_type": "code",
   "execution_count": 69,
   "metadata": {
    "ExecuteTime": {
     "end_time": "2020-02-25T01:58:23.426744Z",
     "start_time": "2020-02-25T01:58:23.158744Z"
    }
   },
   "outputs": [],
   "source": [
    "%reset -f"
   ]
  },
  {
   "cell_type": "code",
   "execution_count": 70,
   "metadata": {
    "ExecuteTime": {
     "end_time": "2020-02-25T01:58:23.442746Z",
     "start_time": "2020-02-25T01:58:23.431747Z"
    }
   },
   "outputs": [],
   "source": [
    "import pandas as pd\n",
    "import os\n",
    "import pathlib\n",
    "import re"
   ]
  },
  {
   "cell_type": "code",
   "execution_count": 71,
   "metadata": {
    "ExecuteTime": {
     "end_time": "2020-02-25T01:58:23.807741Z",
     "start_time": "2020-02-25T01:58:23.449746Z"
    }
   },
   "outputs": [
    {
     "data": {
      "text/html": [
       "<div>\n",
       "<style scoped>\n",
       "    .dataframe tbody tr th:only-of-type {\n",
       "        vertical-align: middle;\n",
       "    }\n",
       "\n",
       "    .dataframe tbody tr th {\n",
       "        vertical-align: top;\n",
       "    }\n",
       "\n",
       "    .dataframe thead th {\n",
       "        text-align: right;\n",
       "    }\n",
       "</style>\n",
       "<table border=\"1\" class=\"dataframe\">\n",
       "  <thead>\n",
       "    <tr style=\"text-align: right;\">\n",
       "      <th></th>\n",
       "      <th>Drug</th>\n",
       "      <th>Conc</th>\n",
       "      <th>Replicate</th>\n",
       "      <th>strain.0</th>\n",
       "      <th>strain.1</th>\n",
       "      <th>strain.10</th>\n",
       "      <th>strain.100</th>\n",
       "      <th>strain.101</th>\n",
       "      <th>strain.102</th>\n",
       "      <th>strain.103</th>\n",
       "      <th>...</th>\n",
       "      <th>strain.90</th>\n",
       "      <th>strain.91</th>\n",
       "      <th>strain.92</th>\n",
       "      <th>strain.93</th>\n",
       "      <th>strain.94</th>\n",
       "      <th>strain.95</th>\n",
       "      <th>strain.96</th>\n",
       "      <th>strain.97</th>\n",
       "      <th>strain.98</th>\n",
       "      <th>strain.99</th>\n",
       "    </tr>\n",
       "  </thead>\n",
       "  <tbody>\n",
       "    <tr>\n",
       "      <td>0</td>\n",
       "      <td>drug_0</td>\n",
       "      <td>0.000xMIC</td>\n",
       "      <td>1</td>\n",
       "      <td>2420</td>\n",
       "      <td>1319</td>\n",
       "      <td>9691</td>\n",
       "      <td>470</td>\n",
       "      <td>419</td>\n",
       "      <td>263</td>\n",
       "      <td>1175</td>\n",
       "      <td>...</td>\n",
       "      <td>41610</td>\n",
       "      <td>9746</td>\n",
       "      <td>5399</td>\n",
       "      <td>5402</td>\n",
       "      <td>331</td>\n",
       "      <td>7236</td>\n",
       "      <td>1510</td>\n",
       "      <td>201</td>\n",
       "      <td>3510</td>\n",
       "      <td>551</td>\n",
       "    </tr>\n",
       "    <tr>\n",
       "      <td>1</td>\n",
       "      <td>drug_0</td>\n",
       "      <td>0.000xMIC</td>\n",
       "      <td>2</td>\n",
       "      <td>1146</td>\n",
       "      <td>693</td>\n",
       "      <td>4964</td>\n",
       "      <td>380</td>\n",
       "      <td>380</td>\n",
       "      <td>294</td>\n",
       "      <td>452</td>\n",
       "      <td>...</td>\n",
       "      <td>7156</td>\n",
       "      <td>4256</td>\n",
       "      <td>4299</td>\n",
       "      <td>1574</td>\n",
       "      <td>470</td>\n",
       "      <td>1419</td>\n",
       "      <td>1065</td>\n",
       "      <td>205</td>\n",
       "      <td>1437</td>\n",
       "      <td>578</td>\n",
       "    </tr>\n",
       "    <tr>\n",
       "      <td>2</td>\n",
       "      <td>drug_0</td>\n",
       "      <td>0.000xMIC</td>\n",
       "      <td>3</td>\n",
       "      <td>536</td>\n",
       "      <td>330</td>\n",
       "      <td>1555</td>\n",
       "      <td>308</td>\n",
       "      <td>272</td>\n",
       "      <td>90</td>\n",
       "      <td>432</td>\n",
       "      <td>...</td>\n",
       "      <td>7927</td>\n",
       "      <td>2577</td>\n",
       "      <td>1245</td>\n",
       "      <td>722</td>\n",
       "      <td>308</td>\n",
       "      <td>1054</td>\n",
       "      <td>857</td>\n",
       "      <td>122</td>\n",
       "      <td>566</td>\n",
       "      <td>160</td>\n",
       "    </tr>\n",
       "    <tr>\n",
       "      <td>3</td>\n",
       "      <td>drug_0</td>\n",
       "      <td>0.000xMIC</td>\n",
       "      <td>4</td>\n",
       "      <td>312</td>\n",
       "      <td>133</td>\n",
       "      <td>1013</td>\n",
       "      <td>94</td>\n",
       "      <td>145</td>\n",
       "      <td>53</td>\n",
       "      <td>167</td>\n",
       "      <td>...</td>\n",
       "      <td>2623</td>\n",
       "      <td>1486</td>\n",
       "      <td>2671</td>\n",
       "      <td>305</td>\n",
       "      <td>105</td>\n",
       "      <td>594</td>\n",
       "      <td>461</td>\n",
       "      <td>38</td>\n",
       "      <td>480</td>\n",
       "      <td>129</td>\n",
       "    </tr>\n",
       "    <tr>\n",
       "      <td>4</td>\n",
       "      <td>drug_0</td>\n",
       "      <td>0.000xMIC</td>\n",
       "      <td>6</td>\n",
       "      <td>626</td>\n",
       "      <td>275</td>\n",
       "      <td>1152</td>\n",
       "      <td>270</td>\n",
       "      <td>392</td>\n",
       "      <td>141</td>\n",
       "      <td>352</td>\n",
       "      <td>...</td>\n",
       "      <td>4282</td>\n",
       "      <td>1473</td>\n",
       "      <td>1134</td>\n",
       "      <td>660</td>\n",
       "      <td>163</td>\n",
       "      <td>939</td>\n",
       "      <td>883</td>\n",
       "      <td>123</td>\n",
       "      <td>677</td>\n",
       "      <td>179</td>\n",
       "    </tr>\n",
       "  </tbody>\n",
       "</table>\n",
       "<p>5 rows × 428 columns</p>\n",
       "</div>"
      ],
      "text/plain": [
       "     Drug       Conc  Replicate  strain.0  strain.1  strain.10  strain.100  \\\n",
       "0  drug_0  0.000xMIC          1      2420      1319       9691         470   \n",
       "1  drug_0  0.000xMIC          2      1146       693       4964         380   \n",
       "2  drug_0  0.000xMIC          3       536       330       1555         308   \n",
       "3  drug_0  0.000xMIC          4       312       133       1013          94   \n",
       "4  drug_0  0.000xMIC          6       626       275       1152         270   \n",
       "\n",
       "   strain.101  strain.102  strain.103  ...  strain.90  strain.91  strain.92  \\\n",
       "0         419         263        1175  ...      41610       9746       5399   \n",
       "1         380         294         452  ...       7156       4256       4299   \n",
       "2         272          90         432  ...       7927       2577       1245   \n",
       "3         145          53         167  ...       2623       1486       2671   \n",
       "4         392         141         352  ...       4282       1473       1134   \n",
       "\n",
       "   strain.93  strain.94  strain.95  strain.96  strain.97  strain.98  strain.99  \n",
       "0       5402        331       7236       1510        201       3510        551  \n",
       "1       1574        470       1419       1065        205       1437        578  \n",
       "2        722        308       1054        857        122        566        160  \n",
       "3        305        105        594        461         38        480        129  \n",
       "4        660        163        939        883        123        677        179  \n",
       "\n",
       "[5 rows x 428 columns]"
      ]
     },
     "execution_count": 71,
     "metadata": {},
     "output_type": "execute_result"
    }
   ],
   "source": [
    "data = pd.read_csv(pathlib.Path.cwd().joinpath('Analysis','5-QC', 'Sel_ODs_drugs_counts_QC.csv'))\n",
    "data.head()"
   ]
  },
  {
   "cell_type": "code",
   "execution_count": 72,
   "metadata": {
    "ExecuteTime": {
     "end_time": "2020-02-25T01:58:23.839762Z",
     "start_time": "2020-02-25T01:58:23.812743Z"
    }
   },
   "outputs": [],
   "source": [
    "metadata = data[['Drug', 'Conc', 'Replicate']]\n",
    "strain_data = data.filter(regex='\\.')\n",
    "strain_data = strain_data.div(strain_data['strain.437'], axis=0)"
   ]
  },
  {
   "cell_type": "code",
   "execution_count": 73,
   "metadata": {
    "ExecuteTime": {
     "end_time": "2020-02-25T01:58:23.919744Z",
     "start_time": "2020-02-25T01:58:23.859743Z"
    }
   },
   "outputs": [
    {
     "data": {
      "text/html": [
       "<div>\n",
       "<style scoped>\n",
       "    .dataframe tbody tr th:only-of-type {\n",
       "        vertical-align: middle;\n",
       "    }\n",
       "\n",
       "    .dataframe tbody tr th {\n",
       "        vertical-align: top;\n",
       "    }\n",
       "\n",
       "    .dataframe thead th {\n",
       "        text-align: right;\n",
       "    }\n",
       "</style>\n",
       "<table border=\"1\" class=\"dataframe\">\n",
       "  <thead>\n",
       "    <tr style=\"text-align: right;\">\n",
       "      <th></th>\n",
       "      <th>Drug</th>\n",
       "      <th>Conc</th>\n",
       "      <th>Replicate</th>\n",
       "      <th>strain.0</th>\n",
       "      <th>strain.1</th>\n",
       "      <th>strain.10</th>\n",
       "      <th>strain.100</th>\n",
       "      <th>strain.101</th>\n",
       "      <th>strain.102</th>\n",
       "      <th>strain.103</th>\n",
       "      <th>...</th>\n",
       "      <th>strain.90</th>\n",
       "      <th>strain.91</th>\n",
       "      <th>strain.92</th>\n",
       "      <th>strain.93</th>\n",
       "      <th>strain.94</th>\n",
       "      <th>strain.95</th>\n",
       "      <th>strain.96</th>\n",
       "      <th>strain.97</th>\n",
       "      <th>strain.98</th>\n",
       "      <th>strain.99</th>\n",
       "    </tr>\n",
       "  </thead>\n",
       "  <tbody>\n",
       "    <tr>\n",
       "      <td>0</td>\n",
       "      <td>drug_0</td>\n",
       "      <td>0.000xMIC</td>\n",
       "      <td>1</td>\n",
       "      <td>0.003563</td>\n",
       "      <td>0.001942</td>\n",
       "      <td>0.014267</td>\n",
       "      <td>0.000692</td>\n",
       "      <td>0.000617</td>\n",
       "      <td>0.000387</td>\n",
       "      <td>0.001730</td>\n",
       "      <td>...</td>\n",
       "      <td>0.061258</td>\n",
       "      <td>0.014348</td>\n",
       "      <td>0.007948</td>\n",
       "      <td>0.007953</td>\n",
       "      <td>0.000487</td>\n",
       "      <td>0.010653</td>\n",
       "      <td>0.002223</td>\n",
       "      <td>0.000296</td>\n",
       "      <td>0.005167</td>\n",
       "      <td>0.000811</td>\n",
       "    </tr>\n",
       "    <tr>\n",
       "      <td>1</td>\n",
       "      <td>drug_0</td>\n",
       "      <td>0.000xMIC</td>\n",
       "      <td>2</td>\n",
       "      <td>0.012960</td>\n",
       "      <td>0.007837</td>\n",
       "      <td>0.056139</td>\n",
       "      <td>0.004297</td>\n",
       "      <td>0.004297</td>\n",
       "      <td>0.003325</td>\n",
       "      <td>0.005112</td>\n",
       "      <td>...</td>\n",
       "      <td>0.080928</td>\n",
       "      <td>0.048132</td>\n",
       "      <td>0.048618</td>\n",
       "      <td>0.017801</td>\n",
       "      <td>0.005315</td>\n",
       "      <td>0.016048</td>\n",
       "      <td>0.012044</td>\n",
       "      <td>0.002318</td>\n",
       "      <td>0.016251</td>\n",
       "      <td>0.006537</td>\n",
       "    </tr>\n",
       "    <tr>\n",
       "      <td>2</td>\n",
       "      <td>drug_0</td>\n",
       "      <td>0.000xMIC</td>\n",
       "      <td>3</td>\n",
       "      <td>0.007808</td>\n",
       "      <td>0.004807</td>\n",
       "      <td>0.022653</td>\n",
       "      <td>0.004487</td>\n",
       "      <td>0.003962</td>\n",
       "      <td>0.001311</td>\n",
       "      <td>0.006293</td>\n",
       "      <td>...</td>\n",
       "      <td>0.115480</td>\n",
       "      <td>0.037542</td>\n",
       "      <td>0.018137</td>\n",
       "      <td>0.010518</td>\n",
       "      <td>0.004487</td>\n",
       "      <td>0.015355</td>\n",
       "      <td>0.012485</td>\n",
       "      <td>0.001777</td>\n",
       "      <td>0.008245</td>\n",
       "      <td>0.002331</td>\n",
       "    </tr>\n",
       "    <tr>\n",
       "      <td>3</td>\n",
       "      <td>drug_0</td>\n",
       "      <td>0.000xMIC</td>\n",
       "      <td>4</td>\n",
       "      <td>0.006123</td>\n",
       "      <td>0.002610</td>\n",
       "      <td>0.019879</td>\n",
       "      <td>0.001845</td>\n",
       "      <td>0.002845</td>\n",
       "      <td>0.001040</td>\n",
       "      <td>0.003277</td>\n",
       "      <td>...</td>\n",
       "      <td>0.051474</td>\n",
       "      <td>0.029161</td>\n",
       "      <td>0.052416</td>\n",
       "      <td>0.005985</td>\n",
       "      <td>0.002061</td>\n",
       "      <td>0.011657</td>\n",
       "      <td>0.009047</td>\n",
       "      <td>0.000746</td>\n",
       "      <td>0.009420</td>\n",
       "      <td>0.002531</td>\n",
       "    </tr>\n",
       "    <tr>\n",
       "      <td>4</td>\n",
       "      <td>drug_0</td>\n",
       "      <td>0.000xMIC</td>\n",
       "      <td>6</td>\n",
       "      <td>0.015881</td>\n",
       "      <td>0.006976</td>\n",
       "      <td>0.029224</td>\n",
       "      <td>0.006849</td>\n",
       "      <td>0.009944</td>\n",
       "      <td>0.003577</td>\n",
       "      <td>0.008930</td>\n",
       "      <td>...</td>\n",
       "      <td>0.108628</td>\n",
       "      <td>0.037368</td>\n",
       "      <td>0.028768</td>\n",
       "      <td>0.016743</td>\n",
       "      <td>0.004135</td>\n",
       "      <td>0.023821</td>\n",
       "      <td>0.022400</td>\n",
       "      <td>0.003120</td>\n",
       "      <td>0.017174</td>\n",
       "      <td>0.004541</td>\n",
       "    </tr>\n",
       "  </tbody>\n",
       "</table>\n",
       "<p>5 rows × 428 columns</p>\n",
       "</div>"
      ],
      "text/plain": [
       "     Drug       Conc  Replicate  strain.0  strain.1  strain.10  strain.100  \\\n",
       "0  drug_0  0.000xMIC          1  0.003563  0.001942   0.014267    0.000692   \n",
       "1  drug_0  0.000xMIC          2  0.012960  0.007837   0.056139    0.004297   \n",
       "2  drug_0  0.000xMIC          3  0.007808  0.004807   0.022653    0.004487   \n",
       "3  drug_0  0.000xMIC          4  0.006123  0.002610   0.019879    0.001845   \n",
       "4  drug_0  0.000xMIC          6  0.015881  0.006976   0.029224    0.006849   \n",
       "\n",
       "   strain.101  strain.102  strain.103  ...  strain.90  strain.91  strain.92  \\\n",
       "0    0.000617    0.000387    0.001730  ...   0.061258   0.014348   0.007948   \n",
       "1    0.004297    0.003325    0.005112  ...   0.080928   0.048132   0.048618   \n",
       "2    0.003962    0.001311    0.006293  ...   0.115480   0.037542   0.018137   \n",
       "3    0.002845    0.001040    0.003277  ...   0.051474   0.029161   0.052416   \n",
       "4    0.009944    0.003577    0.008930  ...   0.108628   0.037368   0.028768   \n",
       "\n",
       "   strain.93  strain.94  strain.95  strain.96  strain.97  strain.98  strain.99  \n",
       "0   0.007953   0.000487   0.010653   0.002223   0.000296   0.005167   0.000811  \n",
       "1   0.017801   0.005315   0.016048   0.012044   0.002318   0.016251   0.006537  \n",
       "2   0.010518   0.004487   0.015355   0.012485   0.001777   0.008245   0.002331  \n",
       "3   0.005985   0.002061   0.011657   0.009047   0.000746   0.009420   0.002531  \n",
       "4   0.016743   0.004135   0.023821   0.022400   0.003120   0.017174   0.004541  \n",
       "\n",
       "[5 rows x 428 columns]"
      ]
     },
     "execution_count": 73,
     "metadata": {},
     "output_type": "execute_result"
    }
   ],
   "source": [
    "norm_data = pd.merge(metadata, strain_data, left_index=True, right_index=True)\n",
    "norm_data.head()"
   ]
  },
  {
   "cell_type": "code",
   "execution_count": 74,
   "metadata": {
    "ExecuteTime": {
     "end_time": "2020-02-25T01:58:26.298269Z",
     "start_time": "2020-02-25T01:58:23.930744Z"
    }
   },
   "outputs": [],
   "source": [
    "try:\n",
    "    pathlib.Path.cwd().joinpath('Analysis','6-Norm_to_WT').mkdir(parents=True, exist_ok=False)\n",
    "except FileExistsError:\n",
    "    pass\n",
    "norm_data.to_csv(pathlib.Path.cwd().joinpath('Analysis','6-Norm_to_WT', 'Sel_ODs_drugs_counts_QC_normWT.csv'), index=False)"
   ]
  },
  {
   "cell_type": "markdown",
   "metadata": {
    "ExecuteTime": {
     "end_time": "2018-12-15T02:56:41.777660Z",
     "start_time": "2018-12-15T02:56:41.772676Z"
    }
   },
   "source": [
    "## Calculate FC"
   ]
  },
  {
   "cell_type": "markdown",
   "metadata": {},
   "source": [
    "For each drug, calculate log2FC of drug/no drug samples"
   ]
  },
  {
   "cell_type": "code",
   "execution_count": 75,
   "metadata": {
    "ExecuteTime": {
     "end_time": "2020-02-25T01:58:26.454269Z",
     "start_time": "2020-02-25T01:58:26.303263Z"
    }
   },
   "outputs": [],
   "source": [
    "%reset -f"
   ]
  },
  {
   "cell_type": "code",
   "execution_count": 76,
   "metadata": {
    "ExecuteTime": {
     "end_time": "2020-02-25T01:58:26.470262Z",
     "start_time": "2020-02-25T01:58:26.459263Z"
    }
   },
   "outputs": [],
   "source": [
    "import pandas as pd\n",
    "import os\n",
    "import pathlib\n",
    "import numpy as np"
   ]
  },
  {
   "cell_type": "code",
   "execution_count": 77,
   "metadata": {
    "ExecuteTime": {
     "end_time": "2020-02-25T01:58:27.060263Z",
     "start_time": "2020-02-25T01:58:26.475262Z"
    }
   },
   "outputs": [
    {
     "data": {
      "text/html": [
       "<div>\n",
       "<style scoped>\n",
       "    .dataframe tbody tr th:only-of-type {\n",
       "        vertical-align: middle;\n",
       "    }\n",
       "\n",
       "    .dataframe tbody tr th {\n",
       "        vertical-align: top;\n",
       "    }\n",
       "\n",
       "    .dataframe thead th {\n",
       "        text-align: right;\n",
       "    }\n",
       "</style>\n",
       "<table border=\"1\" class=\"dataframe\">\n",
       "  <thead>\n",
       "    <tr style=\"text-align: right;\">\n",
       "      <th></th>\n",
       "      <th>Drug</th>\n",
       "      <th>Conc</th>\n",
       "      <th>Replicate</th>\n",
       "      <th>strain.0</th>\n",
       "      <th>strain.1</th>\n",
       "      <th>strain.10</th>\n",
       "      <th>strain.100</th>\n",
       "      <th>strain.101</th>\n",
       "      <th>strain.102</th>\n",
       "      <th>strain.103</th>\n",
       "      <th>...</th>\n",
       "      <th>strain.90</th>\n",
       "      <th>strain.91</th>\n",
       "      <th>strain.92</th>\n",
       "      <th>strain.93</th>\n",
       "      <th>strain.94</th>\n",
       "      <th>strain.95</th>\n",
       "      <th>strain.96</th>\n",
       "      <th>strain.97</th>\n",
       "      <th>strain.98</th>\n",
       "      <th>strain.99</th>\n",
       "    </tr>\n",
       "  </thead>\n",
       "  <tbody>\n",
       "    <tr>\n",
       "      <td>0</td>\n",
       "      <td>drug_0</td>\n",
       "      <td>0.000xMIC</td>\n",
       "      <td>1</td>\n",
       "      <td>0.003563</td>\n",
       "      <td>0.001942</td>\n",
       "      <td>0.014267</td>\n",
       "      <td>0.000692</td>\n",
       "      <td>0.000617</td>\n",
       "      <td>0.000387</td>\n",
       "      <td>0.001730</td>\n",
       "      <td>...</td>\n",
       "      <td>0.061258</td>\n",
       "      <td>0.014348</td>\n",
       "      <td>0.007948</td>\n",
       "      <td>0.007953</td>\n",
       "      <td>0.000487</td>\n",
       "      <td>0.010653</td>\n",
       "      <td>0.002223</td>\n",
       "      <td>0.000296</td>\n",
       "      <td>0.005167</td>\n",
       "      <td>0.000811</td>\n",
       "    </tr>\n",
       "    <tr>\n",
       "      <td>1</td>\n",
       "      <td>drug_0</td>\n",
       "      <td>0.000xMIC</td>\n",
       "      <td>2</td>\n",
       "      <td>0.012960</td>\n",
       "      <td>0.007837</td>\n",
       "      <td>0.056139</td>\n",
       "      <td>0.004297</td>\n",
       "      <td>0.004297</td>\n",
       "      <td>0.003325</td>\n",
       "      <td>0.005112</td>\n",
       "      <td>...</td>\n",
       "      <td>0.080928</td>\n",
       "      <td>0.048132</td>\n",
       "      <td>0.048618</td>\n",
       "      <td>0.017801</td>\n",
       "      <td>0.005315</td>\n",
       "      <td>0.016048</td>\n",
       "      <td>0.012044</td>\n",
       "      <td>0.002318</td>\n",
       "      <td>0.016251</td>\n",
       "      <td>0.006537</td>\n",
       "    </tr>\n",
       "    <tr>\n",
       "      <td>2</td>\n",
       "      <td>drug_0</td>\n",
       "      <td>0.000xMIC</td>\n",
       "      <td>3</td>\n",
       "      <td>0.007808</td>\n",
       "      <td>0.004807</td>\n",
       "      <td>0.022653</td>\n",
       "      <td>0.004487</td>\n",
       "      <td>0.003962</td>\n",
       "      <td>0.001311</td>\n",
       "      <td>0.006293</td>\n",
       "      <td>...</td>\n",
       "      <td>0.115480</td>\n",
       "      <td>0.037542</td>\n",
       "      <td>0.018137</td>\n",
       "      <td>0.010518</td>\n",
       "      <td>0.004487</td>\n",
       "      <td>0.015355</td>\n",
       "      <td>0.012485</td>\n",
       "      <td>0.001777</td>\n",
       "      <td>0.008245</td>\n",
       "      <td>0.002331</td>\n",
       "    </tr>\n",
       "    <tr>\n",
       "      <td>3</td>\n",
       "      <td>drug_0</td>\n",
       "      <td>0.000xMIC</td>\n",
       "      <td>4</td>\n",
       "      <td>0.006123</td>\n",
       "      <td>0.002610</td>\n",
       "      <td>0.019879</td>\n",
       "      <td>0.001845</td>\n",
       "      <td>0.002845</td>\n",
       "      <td>0.001040</td>\n",
       "      <td>0.003277</td>\n",
       "      <td>...</td>\n",
       "      <td>0.051474</td>\n",
       "      <td>0.029161</td>\n",
       "      <td>0.052416</td>\n",
       "      <td>0.005985</td>\n",
       "      <td>0.002061</td>\n",
       "      <td>0.011657</td>\n",
       "      <td>0.009047</td>\n",
       "      <td>0.000746</td>\n",
       "      <td>0.009420</td>\n",
       "      <td>0.002531</td>\n",
       "    </tr>\n",
       "    <tr>\n",
       "      <td>4</td>\n",
       "      <td>drug_0</td>\n",
       "      <td>0.000xMIC</td>\n",
       "      <td>6</td>\n",
       "      <td>0.015881</td>\n",
       "      <td>0.006976</td>\n",
       "      <td>0.029224</td>\n",
       "      <td>0.006849</td>\n",
       "      <td>0.009944</td>\n",
       "      <td>0.003577</td>\n",
       "      <td>0.008930</td>\n",
       "      <td>...</td>\n",
       "      <td>0.108628</td>\n",
       "      <td>0.037368</td>\n",
       "      <td>0.028768</td>\n",
       "      <td>0.016743</td>\n",
       "      <td>0.004135</td>\n",
       "      <td>0.023821</td>\n",
       "      <td>0.022400</td>\n",
       "      <td>0.003120</td>\n",
       "      <td>0.017174</td>\n",
       "      <td>0.004541</td>\n",
       "    </tr>\n",
       "  </tbody>\n",
       "</table>\n",
       "<p>5 rows × 428 columns</p>\n",
       "</div>"
      ],
      "text/plain": [
       "     Drug       Conc  Replicate  strain.0  strain.1  strain.10  strain.100  \\\n",
       "0  drug_0  0.000xMIC          1  0.003563  0.001942   0.014267    0.000692   \n",
       "1  drug_0  0.000xMIC          2  0.012960  0.007837   0.056139    0.004297   \n",
       "2  drug_0  0.000xMIC          3  0.007808  0.004807   0.022653    0.004487   \n",
       "3  drug_0  0.000xMIC          4  0.006123  0.002610   0.019879    0.001845   \n",
       "4  drug_0  0.000xMIC          6  0.015881  0.006976   0.029224    0.006849   \n",
       "\n",
       "   strain.101  strain.102  strain.103  ...  strain.90  strain.91  strain.92  \\\n",
       "0    0.000617    0.000387    0.001730  ...   0.061258   0.014348   0.007948   \n",
       "1    0.004297    0.003325    0.005112  ...   0.080928   0.048132   0.048618   \n",
       "2    0.003962    0.001311    0.006293  ...   0.115480   0.037542   0.018137   \n",
       "3    0.002845    0.001040    0.003277  ...   0.051474   0.029161   0.052416   \n",
       "4    0.009944    0.003577    0.008930  ...   0.108628   0.037368   0.028768   \n",
       "\n",
       "   strain.93  strain.94  strain.95  strain.96  strain.97  strain.98  strain.99  \n",
       "0   0.007953   0.000487   0.010653   0.002223   0.000296   0.005167   0.000811  \n",
       "1   0.017801   0.005315   0.016048   0.012044   0.002318   0.016251   0.006537  \n",
       "2   0.010518   0.004487   0.015355   0.012485   0.001777   0.008245   0.002331  \n",
       "3   0.005985   0.002061   0.011657   0.009047   0.000746   0.009420   0.002531  \n",
       "4   0.016743   0.004135   0.023821   0.022400   0.003120   0.017174   0.004541  \n",
       "\n",
       "[5 rows x 428 columns]"
      ]
     },
     "execution_count": 77,
     "metadata": {},
     "output_type": "execute_result"
    }
   ],
   "source": [
    "data = pd.read_csv(pathlib.Path.cwd().joinpath('Analysis','6-Norm_to_WT', 'Sel_ODs_drugs_counts_QC_normWT.csv'))\n",
    "data.head()"
   ]
  },
  {
   "cell_type": "code",
   "execution_count": 78,
   "metadata": {
    "ExecuteTime": {
     "end_time": "2020-02-25T01:58:27.203263Z",
     "start_time": "2020-02-25T01:58:27.064265Z"
    }
   },
   "outputs": [
    {
     "data": {
      "text/html": [
       "<div>\n",
       "<style scoped>\n",
       "    .dataframe tbody tr th:only-of-type {\n",
       "        vertical-align: middle;\n",
       "    }\n",
       "\n",
       "    .dataframe tbody tr th {\n",
       "        vertical-align: top;\n",
       "    }\n",
       "\n",
       "    .dataframe thead th {\n",
       "        text-align: right;\n",
       "    }\n",
       "</style>\n",
       "<table border=\"1\" class=\"dataframe\">\n",
       "  <thead>\n",
       "    <tr style=\"text-align: right;\">\n",
       "      <th></th>\n",
       "      <th>Drug</th>\n",
       "      <th>Conc</th>\n",
       "      <th>Replicate</th>\n",
       "      <th>Strain</th>\n",
       "      <th>norm_RC</th>\n",
       "    </tr>\n",
       "  </thead>\n",
       "  <tbody>\n",
       "    <tr>\n",
       "      <td>0</td>\n",
       "      <td>drug_0</td>\n",
       "      <td>0.000xMIC</td>\n",
       "      <td>1</td>\n",
       "      <td>strain.0</td>\n",
       "      <td>0.003563</td>\n",
       "    </tr>\n",
       "    <tr>\n",
       "      <td>1</td>\n",
       "      <td>drug_0</td>\n",
       "      <td>0.000xMIC</td>\n",
       "      <td>2</td>\n",
       "      <td>strain.0</td>\n",
       "      <td>0.012960</td>\n",
       "    </tr>\n",
       "    <tr>\n",
       "      <td>2</td>\n",
       "      <td>drug_0</td>\n",
       "      <td>0.000xMIC</td>\n",
       "      <td>3</td>\n",
       "      <td>strain.0</td>\n",
       "      <td>0.007808</td>\n",
       "    </tr>\n",
       "    <tr>\n",
       "      <td>3</td>\n",
       "      <td>drug_0</td>\n",
       "      <td>0.000xMIC</td>\n",
       "      <td>4</td>\n",
       "      <td>strain.0</td>\n",
       "      <td>0.006123</td>\n",
       "    </tr>\n",
       "    <tr>\n",
       "      <td>4</td>\n",
       "      <td>drug_0</td>\n",
       "      <td>0.000xMIC</td>\n",
       "      <td>6</td>\n",
       "      <td>strain.0</td>\n",
       "      <td>0.015881</td>\n",
       "    </tr>\n",
       "  </tbody>\n",
       "</table>\n",
       "</div>"
      ],
      "text/plain": [
       "     Drug       Conc  Replicate    Strain   norm_RC\n",
       "0  drug_0  0.000xMIC          1  strain.0  0.003563\n",
       "1  drug_0  0.000xMIC          2  strain.0  0.012960\n",
       "2  drug_0  0.000xMIC          3  strain.0  0.007808\n",
       "3  drug_0  0.000xMIC          4  strain.0  0.006123\n",
       "4  drug_0  0.000xMIC          6  strain.0  0.015881"
      ]
     },
     "execution_count": 78,
     "metadata": {},
     "output_type": "execute_result"
    }
   ],
   "source": [
    "data_melted = data.melt(id_vars=['Drug', 'Conc', 'Replicate'], var_name='Strain', value_name='norm_RC')\n",
    "data_melted.head()"
   ]
  },
  {
   "cell_type": "code",
   "execution_count": 79,
   "metadata": {
    "ExecuteTime": {
     "end_time": "2020-02-25T01:58:27.598262Z",
     "start_time": "2020-02-25T01:58:27.213261Z"
    }
   },
   "outputs": [
    {
     "data": {
      "text/html": [
       "<div>\n",
       "<style scoped>\n",
       "    .dataframe tbody tr th:only-of-type {\n",
       "        vertical-align: middle;\n",
       "    }\n",
       "\n",
       "    .dataframe tbody tr th {\n",
       "        vertical-align: top;\n",
       "    }\n",
       "\n",
       "    .dataframe thead th {\n",
       "        text-align: right;\n",
       "    }\n",
       "</style>\n",
       "<table border=\"1\" class=\"dataframe\">\n",
       "  <thead>\n",
       "    <tr style=\"text-align: right;\">\n",
       "      <th></th>\n",
       "      <th>Drug</th>\n",
       "      <th>Strain</th>\n",
       "      <th>No_drug_mean_RC</th>\n",
       "    </tr>\n",
       "  </thead>\n",
       "  <tbody>\n",
       "    <tr>\n",
       "      <td>0</td>\n",
       "      <td>drug_0</td>\n",
       "      <td>strain.0</td>\n",
       "      <td>0.009267</td>\n",
       "    </tr>\n",
       "    <tr>\n",
       "      <td>1</td>\n",
       "      <td>drug_0</td>\n",
       "      <td>strain.1</td>\n",
       "      <td>0.004835</td>\n",
       "    </tr>\n",
       "    <tr>\n",
       "      <td>2</td>\n",
       "      <td>drug_0</td>\n",
       "      <td>strain.10</td>\n",
       "      <td>0.028432</td>\n",
       "    </tr>\n",
       "    <tr>\n",
       "      <td>3</td>\n",
       "      <td>drug_0</td>\n",
       "      <td>strain.100</td>\n",
       "      <td>0.003634</td>\n",
       "    </tr>\n",
       "    <tr>\n",
       "      <td>4</td>\n",
       "      <td>drug_0</td>\n",
       "      <td>strain.101</td>\n",
       "      <td>0.004333</td>\n",
       "    </tr>\n",
       "  </tbody>\n",
       "</table>\n",
       "</div>"
      ],
      "text/plain": [
       "     Drug      Strain  No_drug_mean_RC\n",
       "0  drug_0    strain.0         0.009267\n",
       "1  drug_0    strain.1         0.004835\n",
       "2  drug_0   strain.10         0.028432\n",
       "3  drug_0  strain.100         0.003634\n",
       "4  drug_0  strain.101         0.004333"
      ]
     },
     "execution_count": 79,
     "metadata": {},
     "output_type": "execute_result"
    }
   ],
   "source": [
    "# For each drug-strain combination get mean no drug RC \n",
    "no_drug = data_melted[data_melted['Conc']=='0.000xMIC']\n",
    "no_drug_means = no_drug.groupby(['Drug', 'Strain'])['norm_RC'].mean().reset_index().rename(columns={'norm_RC':'No_drug_mean_RC'})\n",
    "no_drug_means.head()"
   ]
  },
  {
   "cell_type": "code",
   "execution_count": 80,
   "metadata": {
    "ExecuteTime": {
     "end_time": "2020-02-25T01:58:28.182261Z",
     "start_time": "2020-02-25T01:58:27.604264Z"
    }
   },
   "outputs": [
    {
     "data": {
      "text/html": [
       "<div>\n",
       "<style scoped>\n",
       "    .dataframe tbody tr th:only-of-type {\n",
       "        vertical-align: middle;\n",
       "    }\n",
       "\n",
       "    .dataframe tbody tr th {\n",
       "        vertical-align: top;\n",
       "    }\n",
       "\n",
       "    .dataframe thead th {\n",
       "        text-align: right;\n",
       "    }\n",
       "</style>\n",
       "<table border=\"1\" class=\"dataframe\">\n",
       "  <thead>\n",
       "    <tr style=\"text-align: right;\">\n",
       "      <th></th>\n",
       "      <th>Drug</th>\n",
       "      <th>Conc</th>\n",
       "      <th>Replicate</th>\n",
       "      <th>Strain</th>\n",
       "      <th>norm_RC</th>\n",
       "      <th>No_drug_mean_RC</th>\n",
       "      <th>log2FC</th>\n",
       "    </tr>\n",
       "  </thead>\n",
       "  <tbody>\n",
       "    <tr>\n",
       "      <td>0</td>\n",
       "      <td>drug_0</td>\n",
       "      <td>0.000xMIC</td>\n",
       "      <td>1</td>\n",
       "      <td>strain.0</td>\n",
       "      <td>0.003563</td>\n",
       "      <td>0.009267</td>\n",
       "      <td>-1.379125</td>\n",
       "    </tr>\n",
       "    <tr>\n",
       "      <td>1</td>\n",
       "      <td>drug_0</td>\n",
       "      <td>0.000xMIC</td>\n",
       "      <td>2</td>\n",
       "      <td>strain.0</td>\n",
       "      <td>0.012960</td>\n",
       "      <td>0.009267</td>\n",
       "      <td>0.483931</td>\n",
       "    </tr>\n",
       "    <tr>\n",
       "      <td>2</td>\n",
       "      <td>drug_0</td>\n",
       "      <td>0.000xMIC</td>\n",
       "      <td>3</td>\n",
       "      <td>strain.0</td>\n",
       "      <td>0.007808</td>\n",
       "      <td>0.009267</td>\n",
       "      <td>-0.247067</td>\n",
       "    </tr>\n",
       "    <tr>\n",
       "      <td>3</td>\n",
       "      <td>drug_0</td>\n",
       "      <td>0.000xMIC</td>\n",
       "      <td>4</td>\n",
       "      <td>strain.0</td>\n",
       "      <td>0.006123</td>\n",
       "      <td>0.009267</td>\n",
       "      <td>-0.597929</td>\n",
       "    </tr>\n",
       "    <tr>\n",
       "      <td>4</td>\n",
       "      <td>drug_0</td>\n",
       "      <td>0.000xMIC</td>\n",
       "      <td>6</td>\n",
       "      <td>strain.0</td>\n",
       "      <td>0.015881</td>\n",
       "      <td>0.009267</td>\n",
       "      <td>0.777105</td>\n",
       "    </tr>\n",
       "  </tbody>\n",
       "</table>\n",
       "</div>"
      ],
      "text/plain": [
       "     Drug       Conc  Replicate    Strain   norm_RC  No_drug_mean_RC    log2FC\n",
       "0  drug_0  0.000xMIC          1  strain.0  0.003563         0.009267 -1.379125\n",
       "1  drug_0  0.000xMIC          2  strain.0  0.012960         0.009267  0.483931\n",
       "2  drug_0  0.000xMIC          3  strain.0  0.007808         0.009267 -0.247067\n",
       "3  drug_0  0.000xMIC          4  strain.0  0.006123         0.009267 -0.597929\n",
       "4  drug_0  0.000xMIC          6  strain.0  0.015881         0.009267  0.777105"
      ]
     },
     "execution_count": 80,
     "metadata": {},
     "output_type": "execute_result"
    }
   ],
   "source": [
    "data_melted = pd.merge(data_melted, no_drug_means, how='left', on=['Drug', 'Strain'])\n",
    "data_melted['log2FC'] = np.log2(data_melted['norm_RC']/data_melted['No_drug_mean_RC'])\n",
    "data_melted.head()"
   ]
  },
  {
   "cell_type": "code",
   "execution_count": 81,
   "metadata": {
    "ExecuteTime": {
     "end_time": "2020-02-25T01:58:29.578260Z",
     "start_time": "2020-02-25T01:58:28.186263Z"
    }
   },
   "outputs": [
    {
     "data": {
      "text/html": [
       "<div>\n",
       "<style scoped>\n",
       "    .dataframe tbody tr th:only-of-type {\n",
       "        vertical-align: middle;\n",
       "    }\n",
       "\n",
       "    .dataframe tbody tr th {\n",
       "        vertical-align: top;\n",
       "    }\n",
       "\n",
       "    .dataframe thead th {\n",
       "        text-align: right;\n",
       "    }\n",
       "</style>\n",
       "<table border=\"1\" class=\"dataframe\">\n",
       "  <thead>\n",
       "    <tr style=\"text-align: right;\">\n",
       "      <th></th>\n",
       "      <th>Drug</th>\n",
       "      <th>Conc</th>\n",
       "      <th>Replicate</th>\n",
       "      <th>strain.0</th>\n",
       "      <th>strain.1</th>\n",
       "      <th>strain.10</th>\n",
       "      <th>strain.100</th>\n",
       "      <th>strain.101</th>\n",
       "      <th>strain.102</th>\n",
       "      <th>strain.103</th>\n",
       "      <th>...</th>\n",
       "      <th>strain.90</th>\n",
       "      <th>strain.91</th>\n",
       "      <th>strain.92</th>\n",
       "      <th>strain.93</th>\n",
       "      <th>strain.94</th>\n",
       "      <th>strain.95</th>\n",
       "      <th>strain.96</th>\n",
       "      <th>strain.97</th>\n",
       "      <th>strain.98</th>\n",
       "      <th>strain.99</th>\n",
       "    </tr>\n",
       "  </thead>\n",
       "  <tbody>\n",
       "    <tr>\n",
       "      <td>0</td>\n",
       "      <td>drug_0</td>\n",
       "      <td>0.000xMIC</td>\n",
       "      <td>1</td>\n",
       "      <td>-1.379125</td>\n",
       "      <td>-1.315977</td>\n",
       "      <td>-0.994859</td>\n",
       "      <td>-2.392901</td>\n",
       "      <td>-2.812497</td>\n",
       "      <td>-2.316040</td>\n",
       "      <td>-1.550897</td>\n",
       "      <td>...</td>\n",
       "      <td>-0.447808</td>\n",
       "      <td>-1.215113</td>\n",
       "      <td>-1.971774</td>\n",
       "      <td>-0.569257</td>\n",
       "      <td>-2.758297</td>\n",
       "      <td>-0.541650</td>\n",
       "      <td>-2.388483</td>\n",
       "      <td>-2.480566</td>\n",
       "      <td>-1.122626</td>\n",
       "      <td>-2.046177</td>\n",
       "    </tr>\n",
       "    <tr>\n",
       "      <td>1</td>\n",
       "      <td>drug_0</td>\n",
       "      <td>0.000xMIC</td>\n",
       "      <td>2</td>\n",
       "      <td>0.483931</td>\n",
       "      <td>0.696961</td>\n",
       "      <td>0.981454</td>\n",
       "      <td>0.241894</td>\n",
       "      <td>-0.011991</td>\n",
       "      <td>0.786169</td>\n",
       "      <td>0.012293</td>\n",
       "      <td>...</td>\n",
       "      <td>-0.046057</td>\n",
       "      <td>0.531031</td>\n",
       "      <td>0.640991</td>\n",
       "      <td>0.593141</td>\n",
       "      <td>0.688989</td>\n",
       "      <td>0.049488</td>\n",
       "      <td>0.049278</td>\n",
       "      <td>0.489319</td>\n",
       "      <td>0.530419</td>\n",
       "      <td>0.964297</td>\n",
       "    </tr>\n",
       "    <tr>\n",
       "      <td>2</td>\n",
       "      <td>drug_0</td>\n",
       "      <td>0.000xMIC</td>\n",
       "      <td>3</td>\n",
       "      <td>-0.247067</td>\n",
       "      <td>-0.008124</td>\n",
       "      <td>-0.327830</td>\n",
       "      <td>0.304129</td>\n",
       "      <td>-0.129080</td>\n",
       "      <td>-0.556346</td>\n",
       "      <td>0.312306</td>\n",
       "      <td>...</td>\n",
       "      <td>0.466869</td>\n",
       "      <td>0.172530</td>\n",
       "      <td>-0.781560</td>\n",
       "      <td>-0.165919</td>\n",
       "      <td>0.444563</td>\n",
       "      <td>-0.014207</td>\n",
       "      <td>0.101096</td>\n",
       "      <td>0.105880</td>\n",
       "      <td>-0.448463</td>\n",
       "      <td>-0.523397</td>\n",
       "    </tr>\n",
       "    <tr>\n",
       "      <td>3</td>\n",
       "      <td>drug_0</td>\n",
       "      <td>0.000xMIC</td>\n",
       "      <td>4</td>\n",
       "      <td>-0.597929</td>\n",
       "      <td>-0.889338</td>\n",
       "      <td>-0.516285</td>\n",
       "      <td>-0.978243</td>\n",
       "      <td>-0.606808</td>\n",
       "      <td>-0.890453</td>\n",
       "      <td>-0.629052</td>\n",
       "      <td>...</td>\n",
       "      <td>-0.698863</td>\n",
       "      <td>-0.191904</td>\n",
       "      <td>0.749499</td>\n",
       "      <td>-0.979284</td>\n",
       "      <td>-0.678153</td>\n",
       "      <td>-0.411722</td>\n",
       "      <td>-0.363608</td>\n",
       "      <td>-1.147105</td>\n",
       "      <td>-0.256406</td>\n",
       "      <td>-0.404272</td>\n",
       "    </tr>\n",
       "    <tr>\n",
       "      <td>4</td>\n",
       "      <td>drug_0</td>\n",
       "      <td>0.000xMIC</td>\n",
       "      <td>6</td>\n",
       "      <td>0.777105</td>\n",
       "      <td>0.529084</td>\n",
       "      <td>0.039639</td>\n",
       "      <td>0.914401</td>\n",
       "      <td>1.198410</td>\n",
       "      <td>0.891595</td>\n",
       "      <td>0.817093</td>\n",
       "      <td>...</td>\n",
       "      <td>0.378622</td>\n",
       "      <td>0.165837</td>\n",
       "      <td>-0.116043</td>\n",
       "      <td>0.504790</td>\n",
       "      <td>0.326747</td>\n",
       "      <td>0.619358</td>\n",
       "      <td>0.944456</td>\n",
       "      <td>0.917900</td>\n",
       "      <td>0.610133</td>\n",
       "      <td>0.438734</td>\n",
       "    </tr>\n",
       "  </tbody>\n",
       "</table>\n",
       "<p>5 rows × 428 columns</p>\n",
       "</div>"
      ],
      "text/plain": [
       "     Drug       Conc  Replicate  strain.0  strain.1  strain.10  strain.100  \\\n",
       "0  drug_0  0.000xMIC          1 -1.379125 -1.315977  -0.994859   -2.392901   \n",
       "1  drug_0  0.000xMIC          2  0.483931  0.696961   0.981454    0.241894   \n",
       "2  drug_0  0.000xMIC          3 -0.247067 -0.008124  -0.327830    0.304129   \n",
       "3  drug_0  0.000xMIC          4 -0.597929 -0.889338  -0.516285   -0.978243   \n",
       "4  drug_0  0.000xMIC          6  0.777105  0.529084   0.039639    0.914401   \n",
       "\n",
       "   strain.101  strain.102  strain.103  ...  strain.90  strain.91  strain.92  \\\n",
       "0   -2.812497   -2.316040   -1.550897  ...  -0.447808  -1.215113  -1.971774   \n",
       "1   -0.011991    0.786169    0.012293  ...  -0.046057   0.531031   0.640991   \n",
       "2   -0.129080   -0.556346    0.312306  ...   0.466869   0.172530  -0.781560   \n",
       "3   -0.606808   -0.890453   -0.629052  ...  -0.698863  -0.191904   0.749499   \n",
       "4    1.198410    0.891595    0.817093  ...   0.378622   0.165837  -0.116043   \n",
       "\n",
       "   strain.93  strain.94  strain.95  strain.96  strain.97  strain.98  strain.99  \n",
       "0  -0.569257  -2.758297  -0.541650  -2.388483  -2.480566  -1.122626  -2.046177  \n",
       "1   0.593141   0.688989   0.049488   0.049278   0.489319   0.530419   0.964297  \n",
       "2  -0.165919   0.444563  -0.014207   0.101096   0.105880  -0.448463  -0.523397  \n",
       "3  -0.979284  -0.678153  -0.411722  -0.363608  -1.147105  -0.256406  -0.404272  \n",
       "4   0.504790   0.326747   0.619358   0.944456   0.917900   0.610133   0.438734  \n",
       "\n",
       "[5 rows x 428 columns]"
      ]
     },
     "execution_count": 81,
     "metadata": {},
     "output_type": "execute_result"
    }
   ],
   "source": [
    "data_melted.drop(columns=['No_drug_mean_RC', 'norm_RC'])\n",
    "# check duplicated rows before pivoting to prevent agg\n",
    "assert data_melted.duplicated(subset=['Drug', 'Conc', 'Replicate', 'Strain']).any() == False\n",
    "data_piv = data_melted.pivot_table(index=['Drug', 'Conc', 'Replicate'], columns='Strain', values='log2FC').reset_index().rename_axis(None, axis=1)\n",
    "data_piv.head()"
   ]
  },
  {
   "cell_type": "code",
   "execution_count": 82,
   "metadata": {
    "ExecuteTime": {
     "end_time": "2020-02-25T01:58:33.350262Z",
     "start_time": "2020-02-25T01:58:29.584263Z"
    }
   },
   "outputs": [],
   "source": [
    "try:\n",
    "    pathlib.Path.cwd().joinpath('Analysis','7-Calculate_FC').mkdir(parents=True, exist_ok=False)\n",
    "except FileExistsError:\n",
    "    pass\n",
    "data_piv.to_csv(pathlib.Path.cwd().joinpath('Analysis','7-Calculate_FC', 'Sel_ODs_drugs_counts_QC_normWT_FC.csv'), index=False)"
   ]
  },
  {
   "cell_type": "markdown",
   "metadata": {},
   "source": [
    "## Clean for ML"
   ]
  },
  {
   "cell_type": "markdown",
   "metadata": {},
   "source": [
    "Add drug classes and remove no drug columns for logistic regression"
   ]
  },
  {
   "cell_type": "code",
   "execution_count": 97,
   "metadata": {
    "ExecuteTime": {
     "end_time": "2020-02-25T01:59:10.162076Z",
     "start_time": "2020-02-25T01:59:10.057083Z"
    }
   },
   "outputs": [],
   "source": [
    "%reset -f"
   ]
  },
  {
   "cell_type": "code",
   "execution_count": 98,
   "metadata": {
    "ExecuteTime": {
     "end_time": "2020-02-25T01:59:10.178077Z",
     "start_time": "2020-02-25T01:59:10.168077Z"
    }
   },
   "outputs": [],
   "source": [
    "import pandas as pd\n",
    "import pathlib"
   ]
  },
  {
   "cell_type": "code",
   "execution_count": 99,
   "metadata": {
    "ExecuteTime": {
     "end_time": "2020-02-25T01:59:10.670077Z",
     "start_time": "2020-02-25T01:59:10.183080Z"
    }
   },
   "outputs": [],
   "source": [
    "data = pd.read_csv(pathlib.Path.cwd().joinpath('Analysis','7-Calculate_FC', 'Sel_ODs_drugs_counts_QC_normWT_FC.csv'))\n",
    "classes = pd.read_csv(pathlib.Path.cwd().joinpath('Raw_data', 'Drug_classes_encoded_2.csv'))"
   ]
  },
  {
   "cell_type": "code",
   "execution_count": 100,
   "metadata": {
    "ExecuteTime": {
     "end_time": "2020-02-25T01:59:10.699079Z",
     "start_time": "2020-02-25T01:59:10.677078Z"
    }
   },
   "outputs": [],
   "source": [
    "# Check again if drug names are matching\n",
    "assert set(data['Drug']).issubset(classes['Drug'])"
   ]
  },
  {
   "cell_type": "code",
   "execution_count": 101,
   "metadata": {
    "ExecuteTime": {
     "end_time": "2020-02-25T01:59:10.763078Z",
     "start_time": "2020-02-25T01:59:10.704080Z"
    }
   },
   "outputs": [],
   "source": [
    "data_w_classes = pd.merge(data, classes, on='Drug')\n",
    "data_w_classes = data_w_classes[data_w_classes['Conc']!='0.000xMIC']"
   ]
  },
  {
   "cell_type": "code",
   "execution_count": 102,
   "metadata": {
    "ExecuteTime": {
     "end_time": "2020-02-25T01:59:10.857078Z",
     "start_time": "2020-02-25T01:59:10.771079Z"
    }
   },
   "outputs": [
    {
     "data": {
      "text/html": [
       "<div>\n",
       "<style scoped>\n",
       "    .dataframe tbody tr th:only-of-type {\n",
       "        vertical-align: middle;\n",
       "    }\n",
       "\n",
       "    .dataframe tbody tr th {\n",
       "        vertical-align: top;\n",
       "    }\n",
       "\n",
       "    .dataframe thead th {\n",
       "        text-align: right;\n",
       "    }\n",
       "</style>\n",
       "<table border=\"1\" class=\"dataframe\">\n",
       "  <thead>\n",
       "    <tr style=\"text-align: right;\">\n",
       "      <th></th>\n",
       "      <th>Drug</th>\n",
       "      <th>Conc</th>\n",
       "      <th>Replicate</th>\n",
       "      <th>strain.0</th>\n",
       "      <th>strain.1</th>\n",
       "      <th>strain.10</th>\n",
       "      <th>strain.100</th>\n",
       "      <th>strain.101</th>\n",
       "      <th>strain.102</th>\n",
       "      <th>strain.103</th>\n",
       "      <th>...</th>\n",
       "      <th>strain.91</th>\n",
       "      <th>strain.92</th>\n",
       "      <th>strain.93</th>\n",
       "      <th>strain.94</th>\n",
       "      <th>strain.95</th>\n",
       "      <th>strain.96</th>\n",
       "      <th>strain.97</th>\n",
       "      <th>strain.98</th>\n",
       "      <th>strain.99</th>\n",
       "      <th>Class</th>\n",
       "    </tr>\n",
       "  </thead>\n",
       "  <tbody>\n",
       "    <tr>\n",
       "      <td>5</td>\n",
       "      <td>drug_0</td>\n",
       "      <td>2xMIC</td>\n",
       "      <td>1</td>\n",
       "      <td>0.359612</td>\n",
       "      <td>-0.911401</td>\n",
       "      <td>1.554297</td>\n",
       "      <td>0.069421</td>\n",
       "      <td>-2.972960</td>\n",
       "      <td>1.185445</td>\n",
       "      <td>0.421721</td>\n",
       "      <td>...</td>\n",
       "      <td>0.176432</td>\n",
       "      <td>0.449538</td>\n",
       "      <td>0.131855</td>\n",
       "      <td>-0.794105</td>\n",
       "      <td>1.381503</td>\n",
       "      <td>-0.938048</td>\n",
       "      <td>-2.939168</td>\n",
       "      <td>1.492050</td>\n",
       "      <td>-0.387570</td>\n",
       "      <td>Class 4</td>\n",
       "    </tr>\n",
       "    <tr>\n",
       "      <td>6</td>\n",
       "      <td>drug_0</td>\n",
       "      <td>2xMIC</td>\n",
       "      <td>2</td>\n",
       "      <td>0.922680</td>\n",
       "      <td>0.156397</td>\n",
       "      <td>1.587909</td>\n",
       "      <td>0.587814</td>\n",
       "      <td>0.183369</td>\n",
       "      <td>0.565838</td>\n",
       "      <td>1.133654</td>\n",
       "      <td>...</td>\n",
       "      <td>0.702362</td>\n",
       "      <td>0.783339</td>\n",
       "      <td>0.747126</td>\n",
       "      <td>0.113741</td>\n",
       "      <td>1.673887</td>\n",
       "      <td>-0.256643</td>\n",
       "      <td>-0.483839</td>\n",
       "      <td>1.684535</td>\n",
       "      <td>1.228144</td>\n",
       "      <td>Class 4</td>\n",
       "    </tr>\n",
       "    <tr>\n",
       "      <td>7</td>\n",
       "      <td>drug_0</td>\n",
       "      <td>2xMIC</td>\n",
       "      <td>3</td>\n",
       "      <td>1.003276</td>\n",
       "      <td>0.171781</td>\n",
       "      <td>1.870643</td>\n",
       "      <td>0.381407</td>\n",
       "      <td>-0.678374</td>\n",
       "      <td>1.030591</td>\n",
       "      <td>1.469478</td>\n",
       "      <td>...</td>\n",
       "      <td>0.911449</td>\n",
       "      <td>0.944320</td>\n",
       "      <td>0.480790</td>\n",
       "      <td>-0.326351</td>\n",
       "      <td>1.691710</td>\n",
       "      <td>0.168192</td>\n",
       "      <td>-0.834700</td>\n",
       "      <td>1.609109</td>\n",
       "      <td>1.397204</td>\n",
       "      <td>Class 4</td>\n",
       "    </tr>\n",
       "    <tr>\n",
       "      <td>8</td>\n",
       "      <td>drug_0</td>\n",
       "      <td>2xMIC</td>\n",
       "      <td>4</td>\n",
       "      <td>1.825450</td>\n",
       "      <td>0.914839</td>\n",
       "      <td>1.976140</td>\n",
       "      <td>1.693167</td>\n",
       "      <td>0.974058</td>\n",
       "      <td>2.142402</td>\n",
       "      <td>2.025873</td>\n",
       "      <td>...</td>\n",
       "      <td>1.264043</td>\n",
       "      <td>1.414149</td>\n",
       "      <td>1.483434</td>\n",
       "      <td>0.833600</td>\n",
       "      <td>2.156906</td>\n",
       "      <td>1.275261</td>\n",
       "      <td>1.326924</td>\n",
       "      <td>2.090184</td>\n",
       "      <td>1.211598</td>\n",
       "      <td>Class 4</td>\n",
       "    </tr>\n",
       "    <tr>\n",
       "      <td>9</td>\n",
       "      <td>drug_0</td>\n",
       "      <td>2xMIC</td>\n",
       "      <td>5</td>\n",
       "      <td>1.862371</td>\n",
       "      <td>0.871132</td>\n",
       "      <td>1.937450</td>\n",
       "      <td>1.371979</td>\n",
       "      <td>0.936343</td>\n",
       "      <td>1.996058</td>\n",
       "      <td>2.160803</td>\n",
       "      <td>...</td>\n",
       "      <td>1.460437</td>\n",
       "      <td>1.147487</td>\n",
       "      <td>1.533885</td>\n",
       "      <td>1.618346</td>\n",
       "      <td>2.086125</td>\n",
       "      <td>0.782927</td>\n",
       "      <td>0.709278</td>\n",
       "      <td>2.169011</td>\n",
       "      <td>1.499092</td>\n",
       "      <td>Class 4</td>\n",
       "    </tr>\n",
       "  </tbody>\n",
       "</table>\n",
       "<p>5 rows × 429 columns</p>\n",
       "</div>"
      ],
      "text/plain": [
       "     Drug   Conc  Replicate  strain.0  strain.1  strain.10  strain.100  \\\n",
       "5  drug_0  2xMIC          1  0.359612 -0.911401   1.554297    0.069421   \n",
       "6  drug_0  2xMIC          2  0.922680  0.156397   1.587909    0.587814   \n",
       "7  drug_0  2xMIC          3  1.003276  0.171781   1.870643    0.381407   \n",
       "8  drug_0  2xMIC          4  1.825450  0.914839   1.976140    1.693167   \n",
       "9  drug_0  2xMIC          5  1.862371  0.871132   1.937450    1.371979   \n",
       "\n",
       "   strain.101  strain.102  strain.103  ...  strain.91  strain.92  strain.93  \\\n",
       "5   -2.972960    1.185445    0.421721  ...   0.176432   0.449538   0.131855   \n",
       "6    0.183369    0.565838    1.133654  ...   0.702362   0.783339   0.747126   \n",
       "7   -0.678374    1.030591    1.469478  ...   0.911449   0.944320   0.480790   \n",
       "8    0.974058    2.142402    2.025873  ...   1.264043   1.414149   1.483434   \n",
       "9    0.936343    1.996058    2.160803  ...   1.460437   1.147487   1.533885   \n",
       "\n",
       "   strain.94  strain.95  strain.96  strain.97  strain.98  strain.99    Class  \n",
       "5  -0.794105   1.381503  -0.938048  -2.939168   1.492050  -0.387570  Class 4  \n",
       "6   0.113741   1.673887  -0.256643  -0.483839   1.684535   1.228144  Class 4  \n",
       "7  -0.326351   1.691710   0.168192  -0.834700   1.609109   1.397204  Class 4  \n",
       "8   0.833600   2.156906   1.275261   1.326924   2.090184   1.211598  Class 4  \n",
       "9   1.618346   2.086125   0.782927   0.709278   2.169011   1.499092  Class 4  \n",
       "\n",
       "[5 rows x 429 columns]"
      ]
     },
     "execution_count": 102,
     "metadata": {},
     "output_type": "execute_result"
    }
   ],
   "source": [
    "data_w_classes.head()"
   ]
  },
  {
   "cell_type": "code",
   "execution_count": 103,
   "metadata": {
    "ExecuteTime": {
     "end_time": "2020-02-25T01:59:12.447076Z",
     "start_time": "2020-02-25T01:59:10.864078Z"
    }
   },
   "outputs": [],
   "source": [
    "try:\n",
    "    pathlib.Path.cwd().joinpath('Analysis','8-Clean_for_ML').mkdir(parents=True, exist_ok=False)\n",
    "except FileExistsError:\n",
    "    pass\n",
    "data_w_classes.to_csv(pathlib.Path.cwd().joinpath('Analysis','8-Clean_for_ML', 'HypoIII_for_ML_encoded.csv'), index=False)"
   ]
  }
 ],
 "metadata": {
  "kernelspec": {
   "display_name": "Python 3",
   "language": "python",
   "name": "python3"
  },
  "language_info": {
   "codemirror_mode": {
    "name": "ipython",
    "version": 3
   },
   "file_extension": ".py",
   "mimetype": "text/x-python",
   "name": "python",
   "nbconvert_exporter": "python",
   "pygments_lexer": "ipython3",
   "version": "3.7.3"
  },
  "toc": {
   "base_numbering": 1,
   "nav_menu": {},
   "number_sections": true,
   "sideBar": true,
   "skip_h1_title": false,
   "title_cell": "Table of Contents",
   "title_sidebar": "Contents",
   "toc_cell": false,
   "toc_position": {},
   "toc_section_display": true,
   "toc_window_display": false
  },
  "varInspector": {
   "cols": {
    "lenName": 16,
    "lenType": 16,
    "lenVar": 40
   },
   "kernels_config": {
    "python": {
     "delete_cmd_postfix": "",
     "delete_cmd_prefix": "del ",
     "library": "var_list.py",
     "varRefreshCmd": "print(var_dic_list())"
    },
    "r": {
     "delete_cmd_postfix": ") ",
     "delete_cmd_prefix": "rm(",
     "library": "var_list.r",
     "varRefreshCmd": "cat(var_dic_list()) "
    }
   },
   "types_to_exclude": [
    "module",
    "function",
    "builtin_function_or_method",
    "instance",
    "_Feature"
   ],
   "window_display": false
  }
 },
 "nbformat": 4,
 "nbformat_minor": 2
}
