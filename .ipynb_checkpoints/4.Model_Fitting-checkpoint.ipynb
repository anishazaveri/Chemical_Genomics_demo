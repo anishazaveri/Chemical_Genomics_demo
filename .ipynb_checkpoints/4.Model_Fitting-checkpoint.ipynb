{
 "cells": [
  {
   "cell_type": "markdown",
   "metadata": {},
   "source": [
    "We noted in the previous notebook that a number of datapoints had no signal (a.k.a. \"bad PCRs\"). After we exclude these, the the remaining data sufficient to predict drug classes?"
   ]
  },
  {
   "cell_type": "code",
   "execution_count": 2,
   "metadata": {
    "ExecuteTime": {
     "end_time": "2020-04-22T16:05:39.278940Z",
     "start_time": "2020-04-22T16:05:33.586253Z"
    }
   },
   "outputs": [
    {
     "name": "stderr",
     "output_type": "stream",
     "text": [
      "Using TensorFlow backend.\n"
     ]
    }
   ],
   "source": [
    "import pathlib\n",
    "import pickle\n",
    "\n",
    "import matplotlib.pyplot as plt\n",
    "import pandas as pd\n",
    "import seaborn as sns\n",
    "from imblearn.over_sampling import SMOTE\n",
    "from plotnine import *\n",
    "from sklearn.ensemble import GradientBoostingClassifier, RandomForestClassifier\n",
    "from sklearn.linear_model import LogisticRegression\n",
    "from sklearn.metrics import log_loss\n",
    "from sklearn.model_selection import LeaveOneGroupOut\n",
    "\n",
    "pd.set_option('mode.chained_assignment', None)\n",
    "%matplotlib inline"
   ]
  },
  {
   "cell_type": "code",
   "execution_count": 3,
   "metadata": {
    "ExecuteTime": {
     "end_time": "2020-04-22T16:05:40.040578Z",
     "start_time": "2020-04-22T16:05:39.583579Z"
    }
   },
   "outputs": [],
   "source": [
    "df = pd.read_csv(pathlib.Path.cwd().joinpath('Clean_data_outputs','8-Clean_for_ML', 'HypoIII_for_ML_encoded.csv'))"
   ]
  },
  {
   "cell_type": "code",
   "execution_count": 4,
   "metadata": {
    "ExecuteTime": {
     "end_time": "2020-04-22T16:05:40.977141Z",
     "start_time": "2020-04-22T16:05:40.885096Z"
    }
   },
   "outputs": [
    {
     "data": {
      "text/html": [
       "<div>\n",
       "<style scoped>\n",
       "    .dataframe tbody tr th:only-of-type {\n",
       "        vertical-align: middle;\n",
       "    }\n",
       "\n",
       "    .dataframe tbody tr th {\n",
       "        vertical-align: top;\n",
       "    }\n",
       "\n",
       "    .dataframe thead th {\n",
       "        text-align: right;\n",
       "    }\n",
       "</style>\n",
       "<table border=\"1\" class=\"dataframe\">\n",
       "  <thead>\n",
       "    <tr style=\"text-align: right;\">\n",
       "      <th></th>\n",
       "      <th>Drug</th>\n",
       "      <th>Conc</th>\n",
       "      <th>Replicate</th>\n",
       "      <th>strain.0</th>\n",
       "      <th>strain.1</th>\n",
       "      <th>strain.10</th>\n",
       "      <th>strain.100</th>\n",
       "      <th>strain.101</th>\n",
       "      <th>strain.102</th>\n",
       "      <th>strain.103</th>\n",
       "      <th>...</th>\n",
       "      <th>strain.91</th>\n",
       "      <th>strain.92</th>\n",
       "      <th>strain.93</th>\n",
       "      <th>strain.94</th>\n",
       "      <th>strain.95</th>\n",
       "      <th>strain.96</th>\n",
       "      <th>strain.97</th>\n",
       "      <th>strain.98</th>\n",
       "      <th>strain.99</th>\n",
       "      <th>Class</th>\n",
       "    </tr>\n",
       "  </thead>\n",
       "  <tbody>\n",
       "    <tr>\n",
       "      <td>0</td>\n",
       "      <td>drug_0</td>\n",
       "      <td>2xMIC</td>\n",
       "      <td>1</td>\n",
       "      <td>0.359612</td>\n",
       "      <td>-0.911401</td>\n",
       "      <td>1.554297</td>\n",
       "      <td>0.069421</td>\n",
       "      <td>-2.972960</td>\n",
       "      <td>1.185445</td>\n",
       "      <td>0.421721</td>\n",
       "      <td>...</td>\n",
       "      <td>0.176432</td>\n",
       "      <td>0.449538</td>\n",
       "      <td>0.131855</td>\n",
       "      <td>-0.794105</td>\n",
       "      <td>1.381503</td>\n",
       "      <td>-0.938048</td>\n",
       "      <td>-2.939168</td>\n",
       "      <td>1.492050</td>\n",
       "      <td>-0.387570</td>\n",
       "      <td>Class 4</td>\n",
       "    </tr>\n",
       "    <tr>\n",
       "      <td>1</td>\n",
       "      <td>drug_0</td>\n",
       "      <td>2xMIC</td>\n",
       "      <td>2</td>\n",
       "      <td>0.922680</td>\n",
       "      <td>0.156397</td>\n",
       "      <td>1.587909</td>\n",
       "      <td>0.587814</td>\n",
       "      <td>0.183369</td>\n",
       "      <td>0.565838</td>\n",
       "      <td>1.133654</td>\n",
       "      <td>...</td>\n",
       "      <td>0.702362</td>\n",
       "      <td>0.783339</td>\n",
       "      <td>0.747126</td>\n",
       "      <td>0.113741</td>\n",
       "      <td>1.673887</td>\n",
       "      <td>-0.256643</td>\n",
       "      <td>-0.483839</td>\n",
       "      <td>1.684535</td>\n",
       "      <td>1.228144</td>\n",
       "      <td>Class 4</td>\n",
       "    </tr>\n",
       "    <tr>\n",
       "      <td>2</td>\n",
       "      <td>drug_0</td>\n",
       "      <td>2xMIC</td>\n",
       "      <td>3</td>\n",
       "      <td>1.003276</td>\n",
       "      <td>0.171781</td>\n",
       "      <td>1.870643</td>\n",
       "      <td>0.381407</td>\n",
       "      <td>-0.678374</td>\n",
       "      <td>1.030591</td>\n",
       "      <td>1.469478</td>\n",
       "      <td>...</td>\n",
       "      <td>0.911449</td>\n",
       "      <td>0.944320</td>\n",
       "      <td>0.480790</td>\n",
       "      <td>-0.326351</td>\n",
       "      <td>1.691710</td>\n",
       "      <td>0.168192</td>\n",
       "      <td>-0.834700</td>\n",
       "      <td>1.609109</td>\n",
       "      <td>1.397204</td>\n",
       "      <td>Class 4</td>\n",
       "    </tr>\n",
       "    <tr>\n",
       "      <td>3</td>\n",
       "      <td>drug_0</td>\n",
       "      <td>2xMIC</td>\n",
       "      <td>4</td>\n",
       "      <td>1.825450</td>\n",
       "      <td>0.914839</td>\n",
       "      <td>1.976140</td>\n",
       "      <td>1.693167</td>\n",
       "      <td>0.974058</td>\n",
       "      <td>2.142402</td>\n",
       "      <td>2.025873</td>\n",
       "      <td>...</td>\n",
       "      <td>1.264043</td>\n",
       "      <td>1.414149</td>\n",
       "      <td>1.483434</td>\n",
       "      <td>0.833600</td>\n",
       "      <td>2.156906</td>\n",
       "      <td>1.275261</td>\n",
       "      <td>1.326924</td>\n",
       "      <td>2.090184</td>\n",
       "      <td>1.211598</td>\n",
       "      <td>Class 4</td>\n",
       "    </tr>\n",
       "    <tr>\n",
       "      <td>4</td>\n",
       "      <td>drug_0</td>\n",
       "      <td>2xMIC</td>\n",
       "      <td>5</td>\n",
       "      <td>1.862371</td>\n",
       "      <td>0.871132</td>\n",
       "      <td>1.937450</td>\n",
       "      <td>1.371979</td>\n",
       "      <td>0.936343</td>\n",
       "      <td>1.996058</td>\n",
       "      <td>2.160803</td>\n",
       "      <td>...</td>\n",
       "      <td>1.460437</td>\n",
       "      <td>1.147487</td>\n",
       "      <td>1.533885</td>\n",
       "      <td>1.618346</td>\n",
       "      <td>2.086125</td>\n",
       "      <td>0.782927</td>\n",
       "      <td>0.709278</td>\n",
       "      <td>2.169011</td>\n",
       "      <td>1.499092</td>\n",
       "      <td>Class 4</td>\n",
       "    </tr>\n",
       "  </tbody>\n",
       "</table>\n",
       "<p>5 rows × 429 columns</p>\n",
       "</div>"
      ],
      "text/plain": [
       "     Drug   Conc  Replicate  strain.0  strain.1  strain.10  strain.100  \\\n",
       "0  drug_0  2xMIC          1  0.359612 -0.911401   1.554297    0.069421   \n",
       "1  drug_0  2xMIC          2  0.922680  0.156397   1.587909    0.587814   \n",
       "2  drug_0  2xMIC          3  1.003276  0.171781   1.870643    0.381407   \n",
       "3  drug_0  2xMIC          4  1.825450  0.914839   1.976140    1.693167   \n",
       "4  drug_0  2xMIC          5  1.862371  0.871132   1.937450    1.371979   \n",
       "\n",
       "   strain.101  strain.102  strain.103  ...  strain.91  strain.92  strain.93  \\\n",
       "0   -2.972960    1.185445    0.421721  ...   0.176432   0.449538   0.131855   \n",
       "1    0.183369    0.565838    1.133654  ...   0.702362   0.783339   0.747126   \n",
       "2   -0.678374    1.030591    1.469478  ...   0.911449   0.944320   0.480790   \n",
       "3    0.974058    2.142402    2.025873  ...   1.264043   1.414149   1.483434   \n",
       "4    0.936343    1.996058    2.160803  ...   1.460437   1.147487   1.533885   \n",
       "\n",
       "   strain.94  strain.95  strain.96  strain.97  strain.98  strain.99    Class  \n",
       "0  -0.794105   1.381503  -0.938048  -2.939168   1.492050  -0.387570  Class 4  \n",
       "1   0.113741   1.673887  -0.256643  -0.483839   1.684535   1.228144  Class 4  \n",
       "2  -0.326351   1.691710   0.168192  -0.834700   1.609109   1.397204  Class 4  \n",
       "3   0.833600   2.156906   1.275261   1.326924   2.090184   1.211598  Class 4  \n",
       "4   1.618346   2.086125   0.782927   0.709278   2.169011   1.499092  Class 4  \n",
       "\n",
       "[5 rows x 429 columns]"
      ]
     },
     "execution_count": 4,
     "metadata": {},
     "output_type": "execute_result"
    }
   ],
   "source": [
    "df.head()"
   ]
  },
  {
   "cell_type": "code",
   "execution_count": 5,
   "metadata": {
    "ExecuteTime": {
     "end_time": "2020-04-22T16:05:41.672728Z",
     "start_time": "2020-04-22T16:05:41.598678Z"
    }
   },
   "outputs": [],
   "source": [
    "df = df[~df['Class'].isna()]\n",
    "df = df.sort_values(by=['Class', 'Drug']).reset_index()"
   ]
  },
  {
   "cell_type": "code",
   "execution_count": 6,
   "metadata": {
    "ExecuteTime": {
     "end_time": "2020-04-22T16:05:42.975113Z",
     "start_time": "2020-04-22T16:05:42.326244Z"
    }
   },
   "outputs": [
    {
     "data": {
      "image/png": "[encoded data removed]",
      "text/plain": [
       "<Figure size 400x400 with 1 Axes>"
      ]
     },
     "metadata": {
      "needs_background": "light"
     },
     "output_type": "display_data"
    },
    {
     "data": {
      "text/plain": [
       "<ggplot: (141446632312)>"
      ]
     },
     "execution_count": 6,
     "metadata": {},
     "output_type": "execute_result"
    }
   ],
   "source": [
    "(ggplot(df, aes(x='Class', fill='Class'))\n",
    " +geom_bar()\n",
    " +theme_minimal()\n",
    " +theme(figure_size=(4,4), axis_text_x=element_text(angle=90), legend_position='none')\n",
    " +xlab('')\n",
    " +ylab('Count')\n",
    " +scale_fill_brewer(type='qual', palette='Set1'))"
   ]
  },
  {
   "cell_type": "markdown",
   "metadata": {},
   "source": [
    "## Logistic Regression"
   ]
  },
  {
   "cell_type": "markdown",
   "metadata": {},
   "source": [
    "First we will implement a logistic regression model.\n",
    "- Split data into training and validation using LeaveOneGroupOut. Each group is a datapoints from a single drug. This allows us to mimic a test situation where we obtain a single drug with an unknown mechanism of action  \n",
    "- Use LASSO regularization to select features\n",
    "- Use SMOTE (Synthetic Minority Over-sampling TEchnique) to correct for class imbalance"
   ]
  },
  {
   "cell_type": "markdown",
   "metadata": {
    "ExecuteTime": {
     "end_time": "2020-04-20T16:06:43.804302Z",
     "start_time": "2020-04-20T16:06:43.798305Z"
    }
   },
   "source": [
    "### Select LASSO strength"
   ]
  },
  {
   "cell_type": "markdown",
   "metadata": {},
   "source": [
    "First we will iterate over a number of regularization strengths. Note that lower the value of C, greater is the regularization strength"
   ]
  },
  {
   "cell_type": "code",
   "execution_count": 442,
   "metadata": {
    "ExecuteTime": {
     "end_time": "2020-04-22T15:36:40.282844Z",
     "start_time": "2020-04-22T15:36:40.257795Z"
    }
   },
   "outputs": [],
   "source": [
    "def logistic_reg_vanilla(df: pd.DataFrame, C: float) -> float:\n",
    "    \"\"\"\n",
    "    Fits a logistic regression model using leave out group out for validation and SMOTE for oversampling. Returns cross entropy loss\n",
    "    \"\"\"\n",
    "    X = df.filter(regex=('\\.')).values\n",
    "    y = df['Class'].values\n",
    "    groups = df['Drug'].values\n",
    "    n_classes = df['Class'].nunique()\n",
    "    predictions = np.full([len(y), n_classes], np.nan)\n",
    "    logo = LeaveOneGroupOut()\n",
    "    for train_ind, test_ind in logo.split(X, y, groups):\n",
    "        X_train, y_train= SMOTE().fit_sample(X[train_ind], y[train_ind])\n",
    "        X_test, y_test = X[test_ind], y[test_ind]   \n",
    "        model = LogisticRegression(penalty='l1', C=C, solver='liblinear', multi_class='ovr')\n",
    "        model.fit(X_train, y_train)\n",
    "        predictions[test_ind] = model.predict_proba(X_test)\n",
    "    ce = log_loss(y, predictions)\n",
    "    return ce\n",
    "        \n",
    "        "
   ]
  },
  {
   "cell_type": "code",
   "execution_count": 443,
   "metadata": {
    "ExecuteTime": {
     "end_time": "2020-04-22T15:48:27.557865Z",
     "start_time": "2020-04-22T15:36:50.616557Z"
    }
   },
   "outputs": [
    {
     "name": "stdout",
     "output_type": "stream",
     "text": [
      "C : 0.01, cross-entropy: 1.2845940758134553\n",
      "C : 0.1, cross-entropy: 0.8253421506289884\n",
      "C : 1, cross-entropy: 0.9628848417094924\n",
      "C : 10, cross-entropy: 1.0211248488802362\n",
      "C : 100, cross-entropy: 1.1537051581755318\n"
     ]
    }
   ],
   "source": [
    "output_metrics = {}\n",
    "for C in [0.01, 0.1, 1, 10, 100]:\n",
    "    output_metrics[C] = logistic_reg_vanilla(df, C)\n",
    "    print(f'C : {C}, cross-entropy: {output_metrics[C]}')"
   ]
  },
  {
   "cell_type": "markdown",
   "metadata": {},
   "source": [
    "C = 0.1 seems to give the best results, hence we will use it for the next step"
   ]
  },
  {
   "cell_type": "markdown",
   "metadata": {},
   "source": [
    "### Fit model with selected lasso strength"
   ]
  },
  {
   "cell_type": "code",
   "execution_count": 7,
   "metadata": {
    "ExecuteTime": {
     "end_time": "2020-04-22T16:05:44.623413Z",
     "start_time": "2020-04-22T16:05:44.585418Z"
    }
   },
   "outputs": [],
   "source": [
    "def logistic_reg(df: pd.DataFrame, C: float) -> (pd.DataFrame, pd.DataFrame):\n",
    "    \"\"\"\n",
    "    Adapts logisitic_reg_vanilla to output feature importances and predictions. \n",
    "    The importances are converted to asbolute values and averaged over each LOGO iteration.\n",
    "    \"\"\"\n",
    "    X = df.filter(regex=('\\.')).values\n",
    "    y = df['Class'].values\n",
    "    groups = df['Drug'].values\n",
    "    n_classes = df['Class'].nunique()\n",
    "    predictions = np.full([len(y), n_classes], np.nan)\n",
    "    logo = LeaveOneGroupOut()\n",
    "    feature_importances  = np.zeros([n_classes, X.shape[1]])\n",
    "    \n",
    "    for train_ind, test_ind in logo.split(X, y, groups):\n",
    "        X_train, y_train= SMOTE().fit_sample(X[train_ind], y[train_ind])\n",
    "        X_test, y_test = X[test_ind], y[test_ind]   \n",
    "        model = LogisticRegression(penalty='l1', C=C, solver='liblinear', multi_class='ovr')\n",
    "        model.fit(X_train, y_train)\n",
    "        predictions[test_ind] = model.predict_proba(X_test)\n",
    "        feature_importances += model.coef_\n",
    "        \n",
    "    #format predictions and feature importances before output\n",
    "    predictions = pd.DataFrame(predictions, columns= model.classes_)\n",
    "    predictions = predictions.merge(df[['Drug', 'Class']], left_index=True, right_index=True)\n",
    "    \n",
    "    feature_importances = np.abs(feature_importances.T)\n",
    "    feature_importances = feature_importances/len(groups)\n",
    "    feature_importances = pd.DataFrame(feature_importances, columns = model.classes_)\n",
    "    feature_importances['Strain'] = df.filter(regex=('\\.')).columns\n",
    "    feature_importances = feature_importances[['Strain']+list(model.classes_)]\n",
    "    return predictions, feature_importances\n",
    "    "
   ]
  },
  {
   "cell_type": "code",
   "execution_count": 8,
   "metadata": {
    "ExecuteTime": {
     "end_time": "2020-04-22T16:07:12.355100Z",
     "start_time": "2020-04-22T16:05:46.342598Z"
    }
   },
   "outputs": [],
   "source": [
    "predictions, feature_importances = logistic_reg(df, C=0.1)"
   ]
  },
  {
   "cell_type": "code",
   "execution_count": 9,
   "metadata": {
    "ExecuteTime": {
     "end_time": "2020-04-22T16:07:13.081148Z",
     "start_time": "2020-04-22T16:07:13.056156Z"
    }
   },
   "outputs": [
    {
     "data": {
      "text/html": [
       "<div>\n",
       "<style scoped>\n",
       "    .dataframe tbody tr th:only-of-type {\n",
       "        vertical-align: middle;\n",
       "    }\n",
       "\n",
       "    .dataframe tbody tr th {\n",
       "        vertical-align: top;\n",
       "    }\n",
       "\n",
       "    .dataframe thead th {\n",
       "        text-align: right;\n",
       "    }\n",
       "</style>\n",
       "<table border=\"1\" class=\"dataframe\">\n",
       "  <thead>\n",
       "    <tr style=\"text-align: right;\">\n",
       "      <th></th>\n",
       "      <th>Class 1</th>\n",
       "      <th>Class 2</th>\n",
       "      <th>Class 3</th>\n",
       "      <th>Class 4</th>\n",
       "      <th>Class 5</th>\n",
       "      <th>Class 6</th>\n",
       "      <th>Drug</th>\n",
       "      <th>Class</th>\n",
       "    </tr>\n",
       "  </thead>\n",
       "  <tbody>\n",
       "    <tr>\n",
       "      <td>0</td>\n",
       "      <td>0.749265</td>\n",
       "      <td>0.015466</td>\n",
       "      <td>0.004797</td>\n",
       "      <td>0.007746</td>\n",
       "      <td>0.210168</td>\n",
       "      <td>0.012558</td>\n",
       "      <td>drug_12</td>\n",
       "      <td>Class 1</td>\n",
       "    </tr>\n",
       "    <tr>\n",
       "      <td>1</td>\n",
       "      <td>0.642244</td>\n",
       "      <td>0.026360</td>\n",
       "      <td>0.003359</td>\n",
       "      <td>0.053766</td>\n",
       "      <td>0.219841</td>\n",
       "      <td>0.054430</td>\n",
       "      <td>drug_12</td>\n",
       "      <td>Class 1</td>\n",
       "    </tr>\n",
       "    <tr>\n",
       "      <td>2</td>\n",
       "      <td>0.215017</td>\n",
       "      <td>0.027520</td>\n",
       "      <td>0.014437</td>\n",
       "      <td>0.050894</td>\n",
       "      <td>0.664920</td>\n",
       "      <td>0.027211</td>\n",
       "      <td>drug_12</td>\n",
       "      <td>Class 1</td>\n",
       "    </tr>\n",
       "    <tr>\n",
       "      <td>3</td>\n",
       "      <td>0.788501</td>\n",
       "      <td>0.018119</td>\n",
       "      <td>0.001690</td>\n",
       "      <td>0.032649</td>\n",
       "      <td>0.147021</td>\n",
       "      <td>0.012019</td>\n",
       "      <td>drug_12</td>\n",
       "      <td>Class 1</td>\n",
       "    </tr>\n",
       "    <tr>\n",
       "      <td>4</td>\n",
       "      <td>0.498730</td>\n",
       "      <td>0.016140</td>\n",
       "      <td>0.004750</td>\n",
       "      <td>0.086897</td>\n",
       "      <td>0.360220</td>\n",
       "      <td>0.033263</td>\n",
       "      <td>drug_12</td>\n",
       "      <td>Class 1</td>\n",
       "    </tr>\n",
       "  </tbody>\n",
       "</table>\n",
       "</div>"
      ],
      "text/plain": [
       "    Class 1   Class 2   Class 3   Class 4   Class 5   Class 6     Drug  \\\n",
       "0  0.749265  0.015466  0.004797  0.007746  0.210168  0.012558  drug_12   \n",
       "1  0.642244  0.026360  0.003359  0.053766  0.219841  0.054430  drug_12   \n",
       "2  0.215017  0.027520  0.014437  0.050894  0.664920  0.027211  drug_12   \n",
       "3  0.788501  0.018119  0.001690  0.032649  0.147021  0.012019  drug_12   \n",
       "4  0.498730  0.016140  0.004750  0.086897  0.360220  0.033263  drug_12   \n",
       "\n",
       "     Class  \n",
       "0  Class 1  \n",
       "1  Class 1  \n",
       "2  Class 1  \n",
       "3  Class 1  \n",
       "4  Class 1  "
      ]
     },
     "execution_count": 9,
     "metadata": {},
     "output_type": "execute_result"
    }
   ],
   "source": [
    "predictions.head()"
   ]
  },
  {
   "cell_type": "code",
   "execution_count": 10,
   "metadata": {
    "ExecuteTime": {
     "end_time": "2020-04-22T16:07:13.842199Z",
     "start_time": "2020-04-22T16:07:13.815155Z"
    }
   },
   "outputs": [
    {
     "data": {
      "text/html": [
       "<div>\n",
       "<style scoped>\n",
       "    .dataframe tbody tr th:only-of-type {\n",
       "        vertical-align: middle;\n",
       "    }\n",
       "\n",
       "    .dataframe tbody tr th {\n",
       "        vertical-align: top;\n",
       "    }\n",
       "\n",
       "    .dataframe thead th {\n",
       "        text-align: right;\n",
       "    }\n",
       "</style>\n",
       "<table border=\"1\" class=\"dataframe\">\n",
       "  <thead>\n",
       "    <tr style=\"text-align: right;\">\n",
       "      <th></th>\n",
       "      <th>Class</th>\n",
       "      <th>Class 1</th>\n",
       "      <th>Class 2</th>\n",
       "      <th>Class 3</th>\n",
       "      <th>Class 4</th>\n",
       "      <th>Class 5</th>\n",
       "      <th>Class 6</th>\n",
       "    </tr>\n",
       "  </thead>\n",
       "  <tbody>\n",
       "    <tr>\n",
       "      <td>0</td>\n",
       "      <td>Class 1</td>\n",
       "      <td>0.701471</td>\n",
       "      <td>0.033574</td>\n",
       "      <td>0.052881</td>\n",
       "      <td>0.072403</td>\n",
       "      <td>0.070461</td>\n",
       "      <td>0.069209</td>\n",
       "    </tr>\n",
       "    <tr>\n",
       "      <td>1</td>\n",
       "      <td>Class 2</td>\n",
       "      <td>0.459961</td>\n",
       "      <td>0.072334</td>\n",
       "      <td>0.001524</td>\n",
       "      <td>0.108460</td>\n",
       "      <td>0.013723</td>\n",
       "      <td>0.343999</td>\n",
       "    </tr>\n",
       "    <tr>\n",
       "      <td>2</td>\n",
       "      <td>Class 3</td>\n",
       "      <td>0.184947</td>\n",
       "      <td>0.009539</td>\n",
       "      <td>0.641983</td>\n",
       "      <td>0.031286</td>\n",
       "      <td>0.072986</td>\n",
       "      <td>0.059259</td>\n",
       "    </tr>\n",
       "    <tr>\n",
       "      <td>3</td>\n",
       "      <td>Class 4</td>\n",
       "      <td>0.144932</td>\n",
       "      <td>0.065720</td>\n",
       "      <td>0.021680</td>\n",
       "      <td>0.543723</td>\n",
       "      <td>0.097256</td>\n",
       "      <td>0.126689</td>\n",
       "    </tr>\n",
       "    <tr>\n",
       "      <td>4</td>\n",
       "      <td>Class 5</td>\n",
       "      <td>0.186034</td>\n",
       "      <td>0.010999</td>\n",
       "      <td>0.057915</td>\n",
       "      <td>0.122853</td>\n",
       "      <td>0.572571</td>\n",
       "      <td>0.049629</td>\n",
       "    </tr>\n",
       "  </tbody>\n",
       "</table>\n",
       "</div>"
      ],
      "text/plain": [
       "     Class   Class 1   Class 2   Class 3   Class 4   Class 5   Class 6\n",
       "0  Class 1  0.701471  0.033574  0.052881  0.072403  0.070461  0.069209\n",
       "1  Class 2  0.459961  0.072334  0.001524  0.108460  0.013723  0.343999\n",
       "2  Class 3  0.184947  0.009539  0.641983  0.031286  0.072986  0.059259\n",
       "3  Class 4  0.144932  0.065720  0.021680  0.543723  0.097256  0.126689\n",
       "4  Class 5  0.186034  0.010999  0.057915  0.122853  0.572571  0.049629"
      ]
     },
     "execution_count": 10,
     "metadata": {},
     "output_type": "execute_result"
    }
   ],
   "source": [
    "#average predictions by class to create a confusion matrix\n",
    "confusion = predictions.groupby('Class').mean().reset_index()\n",
    "confusion.head()"
   ]
  },
  {
   "cell_type": "code",
   "execution_count": 13,
   "metadata": {
    "ExecuteTime": {
     "end_time": "2020-04-22T16:08:56.811544Z",
     "start_time": "2020-04-22T16:08:56.788530Z"
    }
   },
   "outputs": [],
   "source": [
    "#format confusion for plotting\n",
    "class_names = [col for col in confusion if col!='Class']\n",
    "confusion = confusion.rename(columns={col: col[-1] for col in confusion[class_names]})\n",
    "confusion['Class'] = confusion['Class'].replace({x: x[-1] for x in class_names})\n",
    "confusion = confusion.set_index('Class')"
   ]
  },
  {
   "cell_type": "code",
   "execution_count": 53,
   "metadata": {
    "ExecuteTime": {
     "end_time": "2020-04-22T16:21:33.786385Z",
     "start_time": "2020-04-22T16:21:33.480816Z"
    }
   },
   "outputs": [
    {
     "data": {
      "image/png": "[encoded data removed]",
      "text/plain": [
       "<Figure size 360x360 with 1 Axes>"
      ]
     },
     "metadata": {},
     "output_type": "display_data"
    }
   ],
   "source": [
    "plt.figure(figsize=(5,5))\n",
    "sns.set(font_scale=1.2)\n",
    "heat = sns.heatmap(confusion, annot=True, fmt='1.2f', square=True, linewidths=.5, cbar=False)\n",
    "plt.xlabel(\"Predicted Class\")\n",
    "plt.ylabel(\"True Class\")\n",
    "plt.show(heat)"
   ]
  },
  {
   "cell_type": "markdown",
   "metadata": {},
   "source": [
    "### Find a minimal set of features"
   ]
  },
  {
   "cell_type": "code",
   "execution_count": 42,
   "metadata": {
    "ExecuteTime": {
     "end_time": "2020-04-22T16:20:01.843919Z",
     "start_time": "2020-04-22T16:20:01.812919Z"
    }
   },
   "outputs": [
    {
     "data": {
      "text/html": [
       "<div>\n",
       "<style scoped>\n",
       "    .dataframe tbody tr th:only-of-type {\n",
       "        vertical-align: middle;\n",
       "    }\n",
       "\n",
       "    .dataframe tbody tr th {\n",
       "        vertical-align: top;\n",
       "    }\n",
       "\n",
       "    .dataframe thead th {\n",
       "        text-align: right;\n",
       "    }\n",
       "</style>\n",
       "<table border=\"1\" class=\"dataframe\">\n",
       "  <thead>\n",
       "    <tr style=\"text-align: right;\">\n",
       "      <th></th>\n",
       "      <th>Strain</th>\n",
       "      <th>Class 1</th>\n",
       "      <th>Class 2</th>\n",
       "      <th>Class 3</th>\n",
       "      <th>Class 4</th>\n",
       "      <th>Class 5</th>\n",
       "      <th>Class 6</th>\n",
       "    </tr>\n",
       "  </thead>\n",
       "  <tbody>\n",
       "    <tr>\n",
       "      <td>0</td>\n",
       "      <td>strain.0</td>\n",
       "      <td>0.006386</td>\n",
       "      <td>0.0</td>\n",
       "      <td>0.000041</td>\n",
       "      <td>0.0</td>\n",
       "      <td>0.0</td>\n",
       "      <td>0.00000</td>\n",
       "    </tr>\n",
       "    <tr>\n",
       "      <td>1</td>\n",
       "      <td>strain.1</td>\n",
       "      <td>0.000000</td>\n",
       "      <td>0.0</td>\n",
       "      <td>0.000000</td>\n",
       "      <td>0.0</td>\n",
       "      <td>0.0</td>\n",
       "      <td>0.00000</td>\n",
       "    </tr>\n",
       "    <tr>\n",
       "      <td>2</td>\n",
       "      <td>strain.10</td>\n",
       "      <td>0.000000</td>\n",
       "      <td>0.0</td>\n",
       "      <td>0.000000</td>\n",
       "      <td>0.0</td>\n",
       "      <td>0.0</td>\n",
       "      <td>0.02011</td>\n",
       "    </tr>\n",
       "    <tr>\n",
       "      <td>3</td>\n",
       "      <td>strain.100</td>\n",
       "      <td>0.000000</td>\n",
       "      <td>0.0</td>\n",
       "      <td>0.000000</td>\n",
       "      <td>0.0</td>\n",
       "      <td>0.0</td>\n",
       "      <td>0.00000</td>\n",
       "    </tr>\n",
       "    <tr>\n",
       "      <td>4</td>\n",
       "      <td>strain.101</td>\n",
       "      <td>0.000000</td>\n",
       "      <td>0.0</td>\n",
       "      <td>0.000027</td>\n",
       "      <td>0.0</td>\n",
       "      <td>0.0</td>\n",
       "      <td>0.02210</td>\n",
       "    </tr>\n",
       "  </tbody>\n",
       "</table>\n",
       "</div>"
      ],
      "text/plain": [
       "       Strain   Class 1  Class 2   Class 3  Class 4  Class 5  Class 6\n",
       "0    strain.0  0.006386      0.0  0.000041      0.0      0.0  0.00000\n",
       "1    strain.1  0.000000      0.0  0.000000      0.0      0.0  0.00000\n",
       "2   strain.10  0.000000      0.0  0.000000      0.0      0.0  0.02011\n",
       "3  strain.100  0.000000      0.0  0.000000      0.0      0.0  0.00000\n",
       "4  strain.101  0.000000      0.0  0.000027      0.0      0.0  0.02210"
      ]
     },
     "execution_count": 42,
     "metadata": {},
     "output_type": "execute_result"
    }
   ],
   "source": [
    "feature_importances.head()"
   ]
  },
  {
   "cell_type": "markdown",
   "metadata": {},
   "source": [
    "Since logistic regression performs one vs all classification, we have a different set of feature importances for each Class"
   ]
  },
  {
   "cell_type": "code",
   "execution_count": 43,
   "metadata": {
    "ExecuteTime": {
     "end_time": "2020-04-22T16:20:04.221920Z",
     "start_time": "2020-04-22T16:20:04.174921Z"
    }
   },
   "outputs": [
    {
     "data": {
      "text/html": [
       "<div>\n",
       "<style scoped>\n",
       "    .dataframe tbody tr th:only-of-type {\n",
       "        vertical-align: middle;\n",
       "    }\n",
       "\n",
       "    .dataframe tbody tr th {\n",
       "        vertical-align: top;\n",
       "    }\n",
       "\n",
       "    .dataframe thead th {\n",
       "        text-align: right;\n",
       "    }\n",
       "</style>\n",
       "<table border=\"1\" class=\"dataframe\">\n",
       "  <thead>\n",
       "    <tr style=\"text-align: right;\">\n",
       "      <th></th>\n",
       "      <th>rank</th>\n",
       "      <th>Class</th>\n",
       "      <th>feature_importance</th>\n",
       "    </tr>\n",
       "  </thead>\n",
       "  <tbody>\n",
       "    <tr>\n",
       "      <td>0</td>\n",
       "      <td>0</td>\n",
       "      <td>Class 1</td>\n",
       "      <td>0.111136</td>\n",
       "    </tr>\n",
       "    <tr>\n",
       "      <td>1</td>\n",
       "      <td>1</td>\n",
       "      <td>Class 1</td>\n",
       "      <td>0.091930</td>\n",
       "    </tr>\n",
       "    <tr>\n",
       "      <td>2</td>\n",
       "      <td>2</td>\n",
       "      <td>Class 1</td>\n",
       "      <td>0.075371</td>\n",
       "    </tr>\n",
       "    <tr>\n",
       "      <td>3</td>\n",
       "      <td>3</td>\n",
       "      <td>Class 1</td>\n",
       "      <td>0.070978</td>\n",
       "    </tr>\n",
       "    <tr>\n",
       "      <td>4</td>\n",
       "      <td>4</td>\n",
       "      <td>Class 1</td>\n",
       "      <td>0.068950</td>\n",
       "    </tr>\n",
       "  </tbody>\n",
       "</table>\n",
       "</div>"
      ],
      "text/plain": [
       "   rank    Class  feature_importance\n",
       "0     0  Class 1            0.111136\n",
       "1     1  Class 1            0.091930\n",
       "2     2  Class 1            0.075371\n",
       "3     3  Class 1            0.070978\n",
       "4     4  Class 1            0.068950"
      ]
     },
     "execution_count": 43,
     "metadata": {},
     "output_type": "execute_result"
    }
   ],
   "source": [
    "#Create a df with the features for each class ranked and melt it to enable ggplotting\n",
    "feature_importances_ranked = pd.DataFrame({'rank': range(feature_importances.shape[0])})\n",
    "feature_importances_ranked[class_names] = feature_importances[class_names].apply(lambda col: col.sort_values(ascending=False).values, axis=0)\n",
    "feature_importances_ranked = feature_importances_ranked.melt(id_vars = 'rank', value_name='feature_importance', var_name='Class')\n",
    "feature_importances_ranked.head()"
   ]
  },
  {
   "cell_type": "code",
   "execution_count": 44,
   "metadata": {
    "ExecuteTime": {
     "end_time": "2020-04-22T16:20:08.592767Z",
     "start_time": "2020-04-22T16:20:08.111416Z"
    }
   },
   "outputs": [
    {
     "data": {
      "image/png": "[encoded data removed]",
      "text/plain": [
       "<Figure size 1000x300 with 1 Axes>"
      ]
     },
     "metadata": {},
     "output_type": "display_data"
    },
    {
     "data": {
      "text/plain": [
       "<ggplot: (141448002813)>"
      ]
     },
     "execution_count": 44,
     "metadata": {},
     "output_type": "execute_result"
    }
   ],
   "source": [
    "(ggplot(feature_importances_ranked, aes(x='rank', y='feature_importance', color='Class'))\n",
    "+geom_line(size=1.0)\n",
    "+theme_light()\n",
    "+theme(figure_size=(10,3))\n",
    "+scale_x_continuous(breaks=list(range(0,451, 50)))\n",
    "+xlab('Rank')\n",
    "+ylab('Feature Importance')\n",
    "+scale_color_brewer(type='qual', palette='Set1'))"
   ]
  },
  {
   "cell_type": "markdown",
   "metadata": {},
   "source": [
    "It seems that if we extract the top 75 features for each class and merge them, we will obtain a set of required features"
   ]
  },
  {
   "cell_type": "code",
   "execution_count": 45,
   "metadata": {
    "ExecuteTime": {
     "end_time": "2020-04-22T16:20:16.375460Z",
     "start_time": "2020-04-22T16:20:16.365076Z"
    }
   },
   "outputs": [],
   "source": [
    "def extract_useful_features(col, n):\n",
    "    largest = col.nlargest(n)\n",
    "    largest = largest[largest!=0]\n",
    "    return largest.index.to_list()    "
   ]
  },
  {
   "cell_type": "code",
   "execution_count": 46,
   "metadata": {
    "ExecuteTime": {
     "end_time": "2020-04-22T16:20:17.723636Z",
     "start_time": "2020-04-22T16:20:17.679642Z"
    }
   },
   "outputs": [
    {
     "name": "stdout",
     "output_type": "stream",
     "text": [
      "Number of features in the minimum feature set: 227\n"
     ]
    }
   ],
   "source": [
    "feature_importances = feature_importances.set_index('Strain')\n",
    "minimal_features = list(set(feature_importances[class_names].apply(extract_useful_features, args=(75,)).sum()))\n",
    "print(f\"Number of features in the minimum feature set: {len(minimal_features)}\")"
   ]
  },
  {
   "cell_type": "markdown",
   "metadata": {},
   "source": [
    "Of the minimal set, what is the distribution of feature importances?"
   ]
  },
  {
   "cell_type": "code",
   "execution_count": 47,
   "metadata": {
    "ExecuteTime": {
     "end_time": "2020-04-22T16:20:25.119252Z",
     "start_time": "2020-04-22T16:20:25.098263Z"
    }
   },
   "outputs": [],
   "source": [
    "#create df with minimal_features and sum the importances across classes\n",
    "feature_importances = feature_importances.reset_index()\n",
    "feature_importances_filt = feature_importances[feature_importances['Strain'].isin(minimal_features)]\n",
    "feature_importances_filt['total_importance'] = feature_importances_filt[class_names].sum(axis=1)"
   ]
  },
  {
   "cell_type": "code",
   "execution_count": 48,
   "metadata": {
    "ExecuteTime": {
     "end_time": "2020-04-22T16:20:27.371245Z",
     "start_time": "2020-04-22T16:20:27.349246Z"
    }
   },
   "outputs": [],
   "source": [
    "#make 'Strain' a categorical column for ggplotting\n",
    "strains_sorted = feature_importances_filt.sort_values(by='total_importance', ascending=False)['Strain'].values\n",
    "feature_importances_filt['Strain'] = pd.Categorical(feature_importances_filt['Strain'], strains_sorted, ordered=True)"
   ]
  },
  {
   "cell_type": "code",
   "execution_count": 50,
   "metadata": {
    "ExecuteTime": {
     "end_time": "2020-04-22T16:21:02.472949Z",
     "start_time": "2020-04-22T16:21:01.578959Z"
    }
   },
   "outputs": [
    {
     "data": {
      "image/png": "[encoded data removed]",
      "text/plain": [
       "<Figure size 1000x300 with 1 Axes>"
      ]
     },
     "metadata": {},
     "output_type": "display_data"
    },
    {
     "data": {
      "text/plain": [
       "<ggplot: (-9223371895406377230)>"
      ]
     },
     "execution_count": 50,
     "metadata": {},
     "output_type": "execute_result"
    }
   ],
   "source": [
    "(ggplot(feature_importances_filt.iloc[1:50, :], aes(x='Strain', y='total_importance', fill='total_importance'))\n",
    "+geom_col()\n",
    "+theme_light()\n",
    "+theme(figure_size=(10,3), axis_text_x=element_text(angle=90), legend_position='none')\n",
    "+ylab(\"Total feature importance\") \n",
    "+scale_fill_cmap(name='plasma')\n",
    ")"
   ]
  },
  {
   "cell_type": "markdown",
   "metadata": {},
   "source": [
    "## Random Forest"
   ]
  },
  {
   "cell_type": "code",
   "execution_count": 452,
   "metadata": {
    "ExecuteTime": {
     "end_time": "2020-04-22T15:51:11.221820Z",
     "start_time": "2020-04-22T15:51:11.202812Z"
    }
   },
   "outputs": [],
   "source": [
    "def random_forest_vanilla(df: pd.DataFrame, n_estimators: int, max_depth: int) -> int:\n",
    "    \"\"\"\n",
    "    Fits a random forest with the specified n_estimators and max_depth. \n",
    "    Uses LOGO for CV and SMOTE for correcting class imbalances. \n",
    "    Returns the cross-entropy loss.\n",
    "    \"\"\"\n",
    "    X = df.filter(regex=('\\.')).values\n",
    "    y = df['Class'].values\n",
    "    groups = df['Drug'].values\n",
    "    n_classes = df['Class'].nunique()\n",
    "    logo = LeaveOneGroupOut()\n",
    "    predictions = np.full([len(y), n_classes], np.nan)\n",
    "    for train_ind, test_ind in logo.split(X, y, groups):\n",
    "        X_train, y_train= SMOTE().fit_sample(X[train_ind], y[train_ind])\n",
    "        X_test, y_test = X[test_ind], y[test_ind]   \n",
    "        model = RandomForestClassifier(n_estimators=n_estimators, max_depth=max_depth)\n",
    "        model.fit(X_train, y_train)\n",
    "        predictions[test_ind] = model.predict_proba(X_test)    \n",
    "    ce = log_loss(y, predictions)\n",
    "    return ce\n",
    "    "
   ]
  },
  {
   "cell_type": "code",
   "execution_count": 368,
   "metadata": {
    "ExecuteTime": {
     "end_time": "2020-04-20T21:06:12.654870Z",
     "start_time": "2020-04-20T20:53:30.849135Z"
    },
    "deletable": false,
    "editable": false
   },
   "outputs": [
    {
     "name": "stdout",
     "output_type": "stream",
     "text": [
      "n_estimators: 5, max_depth: 5, cross-entropy-loss: 1.7722560290498246\n",
      "n_estimators: 5, max_depth: 10, cross-entropy-loss: 3.498907229429203\n",
      "n_estimators: 5, max_depth: 20, cross-entropy-loss: 6.470737181711466\n",
      "n_estimators: 10, max_depth: 5, cross-entropy-loss: 1.5031186031691626\n",
      "n_estimators: 10, max_depth: 10, cross-entropy-loss: 1.8925465201445033\n",
      "n_estimators: 10, max_depth: 20, cross-entropy-loss: 3.324013160437168\n",
      "n_estimators: 25, max_depth: 5, cross-entropy-loss: 1.3997813348738954\n",
      "n_estimators: 25, max_depth: 10, cross-entropy-loss: 1.2908506512001783\n",
      "n_estimators: 25, max_depth: 20, cross-entropy-loss: 1.7138841040204775\n",
      "n_estimators: 50, max_depth: 5, cross-entropy-loss: 1.3830235292899293\n",
      "n_estimators: 50, max_depth: 10, cross-entropy-loss: 1.1874792738568833\n",
      "n_estimators: 50, max_depth: 20, cross-entropy-loss: 1.420956505898267\n"
     ]
    }
   ],
   "source": [
    "for n_estimators in [5, 10, 25, 50]:\n",
    "    for max_depth in [5, 10, 20]:\n",
    "        print (f\"n_estimators: {n_estimators}, max_depth: {max_depth}, cross-entropy-loss: {random_forest_vanilla(df, n_estimators, max_depth)}\")"
   ]
  },
  {
   "cell_type": "markdown",
   "metadata": {},
   "source": [
    "n_estimators = 50 and max_depth = 10 gives the lowest loss"
   ]
  },
  {
   "cell_type": "code",
   "execution_count": 54,
   "metadata": {
    "ExecuteTime": {
     "end_time": "2020-04-22T16:22:44.997997Z",
     "start_time": "2020-04-22T16:22:44.979994Z"
    }
   },
   "outputs": [],
   "source": [
    "def random_forest(df: pd.DataFrame, n_estimators: int, max_depth: int) -> (int, pd.DataFrame, pd.DataFrame):\n",
    "    \"\"\"\n",
    "    Adapts random_forest_vanilla to output cross entropy loss, predictions and feature importances. \n",
    "    The importances are averaged over each LOGO iteration.\n",
    "    \"\"\"\n",
    "    X = df.filter(regex=('\\.')).values\n",
    "    y = df['Class'].values\n",
    "    groups = df['Drug'].values\n",
    "    n_classes = df['Class'].nunique()\n",
    "    predictions = np.full([len(y), n_classes], np.nan)\n",
    "    logo = LeaveOneGroupOut()\n",
    "    feature_importances  = np.zeros(X.shape[1])\n",
    "    for train_ind, test_ind in logo.split(X, y, groups):\n",
    "        X_train, y_train= SMOTE().fit_sample(X[train_ind], y[train_ind])\n",
    "        X_test, y_test = X[test_ind], y[test_ind]   \n",
    "        model = RandomForestClassifier(n_estimators=n_estimators, max_depth=max_depth)\n",
    "        model.fit(X_train, y_train)\n",
    "        predictions[test_ind] = model.predict_proba(X_test)\n",
    "        feature_importances += model.feature_importances_\n",
    "        \n",
    "    #format predictions and feature importances before output\n",
    "    loss = log_loss(y, predictions)\n",
    "    predictions = pd.DataFrame(predictions, columns= model.classes_)\n",
    "    predictions = predictions.merge(df[['Drug', 'Class']], left_index=True, right_index=True)\n",
    "    feature_importances = feature_importances/len(groups)\n",
    "    feature_importances = pd.Series(feature_importances, index=df.filter(regex=('\\.')).columns)\n",
    "    return loss, predictions, feature_importances\n",
    "    "
   ]
  },
  {
   "cell_type": "code",
   "execution_count": null,
   "metadata": {
    "ExecuteTime": {
     "start_time": "2020-04-22T16:22:47.986Z"
    }
   },
   "outputs": [],
   "source": [
    "rf_log_loss, rf_predictions, rf_feature_importances = random_forest(df, n_estimators=50, max_depth=10)"
   ]
  },
  {
   "cell_type": "code",
   "execution_count": 375,
   "metadata": {
    "ExecuteTime": {
     "end_time": "2020-04-20T21:14:15.876075Z",
     "start_time": "2020-04-20T21:14:15.565074Z"
    },
    "scrolled": true
   },
   "outputs": [
    {
     "name": "stdout",
     "output_type": "stream",
     "text": [
      "cross-entropy-loss : 1.2436422163155163\n"
     ]
    },
    {
     "data": {
      "image/png": "[encoded data removed]",
      "text/plain": [
       "<Figure size 432x288 with 2 Axes>"
      ]
     },
     "metadata": {
      "needs_background": "light"
     },
     "output_type": "display_data"
    }
   ],
   "source": [
    "print(f\"cross-entropy loss : {rf_log_loss}\")\n",
    "confusion_rf = rf_predictions.groupby('Class').mean()\n",
    "plt.figure(figsize=(5,5))\n",
    "sns.set(font_scale=1.2)\n",
    "heat = sns.heatmap(confusion_rf, annot=True, fmt='1.2f', square=True, linewidths=.5, cbar=False)\n",
    "plt.xlabel(\"Predicted Class\")\n",
    "plt.ylabel(\"True Class\")\n",
    "plt.show(heat)"
   ]
  },
  {
   "cell_type": "code",
   "execution_count": null,
   "metadata": {},
   "outputs": [],
   "source": [
    "#Plot distribution of feature importances!"
   ]
  },
  {
   "cell_type": "code",
   "execution_count": 378,
   "metadata": {
    "ExecuteTime": {
     "end_time": "2020-04-20T21:16:15.596923Z",
     "start_time": "2020-04-20T21:16:15.586923Z"
    }
   },
   "outputs": [
    {
     "data": {
      "text/plain": [
       "strain.110    0.002265\n",
       "strain.418    0.001293\n",
       "strain.424    0.001120\n",
       "strain.416    0.000942\n",
       "strain.244    0.000924\n",
       "                ...   \n",
       "strain.321    0.000035\n",
       "strain.204    0.000035\n",
       "strain.352    0.000034\n",
       "strain.296    0.000033\n",
       "strain.437    0.000000\n",
       "Length: 425, dtype: float64"
      ]
     },
     "execution_count": 378,
     "metadata": {},
     "output_type": "execute_result"
    }
   ],
   "source": [
    "rf_feature_importances.sort_values(ascending=False)"
   ]
  },
  {
   "cell_type": "code",
   "execution_count": 403,
   "metadata": {
    "ExecuteTime": {
     "end_time": "2020-04-21T21:58:48.490607Z",
     "start_time": "2020-04-21T21:58:48.471607Z"
    }
   },
   "outputs": [],
   "source": [
    "def RFE_rf(df, n_estimators, max_depth):\n",
    "    features_to_remove=[]\n",
    "    log_losses = []\n",
    "    all_features = df.filter(regex='\\.').columns\n",
    "    while len(all_features)-len(features_to_remove)>1:\n",
    "        if len(features_to_remove)%50==0:\n",
    "            print (f\"{len(features_to_remove)} features removed\")\n",
    "        df_dropped = df.drop(columns=features_to_remove)\n",
    "        log_loss, _, feature_importances = random_forest(df_dropped, n_estimators, max_depth)\n",
    "        log_losses.append(log_loss)\n",
    "        features_to_remove.append(feature_importances.idxmin())\n",
    "    return features_to_remove[:-1], log_losses                         "
   ]
  },
  {
   "cell_type": "code",
   "execution_count": 404,
   "metadata": {
    "ExecuteTime": {
     "end_time": "2020-04-22T09:45:32.894135Z",
     "start_time": "2020-04-21T21:58:49.374571Z"
    },
    "deletable": false,
    "editable": false
   },
   "outputs": [
    {
     "name": "stdout",
     "output_type": "stream",
     "text": [
      "0 features removed\n",
      "50 features removed\n",
      "100 features removed\n",
      "150 features removed\n",
      "200 features removed\n",
      "250 features removed\n",
      "300 features removed\n",
      "350 features removed\n",
      "400 features removed\n"
     ]
    }
   ],
   "source": [
    "features_to_remove, log_losses = RFE_rf(df, n_estimators=50, max_depth=10)"
   ]
  },
  {
   "cell_type": "code",
   "execution_count": 405,
   "metadata": {
    "ExecuteTime": {
     "end_time": "2020-04-22T13:20:27.987004Z",
     "start_time": "2020-04-22T13:20:27.967997Z"
    },
    "deletable": false,
    "editable": false
   },
   "outputs": [],
   "source": [
    "#save files\n",
    "with open('Model_outputs/features_RFE.pkl', 'wb') as f:\n",
    "    pickle.dump(features_to_remove, f)\n",
    "with open('Model_outputs/log_loss_RFE.pkl', 'wb') as f:\n",
    "    pickle.dump(log_losses, f)"
   ]
  },
  {
   "cell_type": "code",
   "execution_count": 425,
   "metadata": {
    "ExecuteTime": {
     "end_time": "2020-04-22T15:26:08.850709Z",
     "start_time": "2020-04-22T15:26:08.835677Z"
    }
   },
   "outputs": [],
   "source": [
    "loss_df = pd.DataFrame({'Number_of_features_removed': range(len(log_losses)), 'cross_entropy_loss': log_losses})"
   ]
  },
  {
   "cell_type": "code",
   "execution_count": 428,
   "metadata": {
    "ExecuteTime": {
     "end_time": "2020-04-22T15:29:40.351476Z",
     "start_time": "2020-04-22T15:29:40.038941Z"
    }
   },
   "outputs": [
    {
     "data": {
      "image/png": "[encoded data removed]",
      "text/plain": [
       "<Figure size 1000x300 with 1 Axes>"
      ]
     },
     "metadata": {},
     "output_type": "display_data"
    },
    {
     "data": {
      "text/plain": [
       "<ggplot: (121134830817)>"
      ]
     },
     "execution_count": 428,
     "metadata": {},
     "output_type": "execute_result"
    }
   ],
   "source": [
    "(ggplot(loss_df, aes(x='Number_of_features_removed', y='cross_entropy_loss', color='cross_entropy_loss'))\n",
    "+geom_point()\n",
    "+theme_light()\n",
    "+theme(figure_size=(10,3), legend_position='none')\n",
    "+scale_color_cmap(name='plasma_r')\n",
    ")"
   ]
  },
  {
   "cell_type": "code",
   "execution_count": null,
   "metadata": {},
   "outputs": [],
   "source": []
  }
 ],
 "metadata": {
  "kernelspec": {
   "display_name": "Python 3",
   "language": "python",
   "name": "python3"
  },
  "language_info": {
   "codemirror_mode": {
    "name": "ipython",
    "version": 3
   },
   "file_extension": ".py",
   "mimetype": "text/x-python",
   "name": "python",
   "nbconvert_exporter": "python",
   "pygments_lexer": "ipython3",
   "version": "3.7.3"
  },
  "toc": {
   "base_numbering": 1,
   "nav_menu": {},
   "number_sections": true,
   "sideBar": true,
   "skip_h1_title": false,
   "title_cell": "Table of Contents",
   "title_sidebar": "Contents",
   "toc_cell": false,
   "toc_position": {},
   "toc_section_display": true,
   "toc_window_display": false
  },
  "varInspector": {
   "cols": {
    "lenName": 16,
    "lenType": 16,
    "lenVar": 40
   },
   "kernels_config": {
    "python": {
     "delete_cmd_postfix": "",
     "delete_cmd_prefix": "del ",
     "library": "var_list.py",
     "varRefreshCmd": "print(var_dic_list())"
    },
    "r": {
     "delete_cmd_postfix": ") ",
     "delete_cmd_prefix": "rm(",
     "library": "var_list.r",
     "varRefreshCmd": "cat(var_dic_list()) "
    }
   },
   "types_to_exclude": [
    "module",
    "function",
    "builtin_function_or_method",
    "instance",
    "_Feature"
   ],
   "window_display": false
  }
 },
 "nbformat": 4,
 "nbformat_minor": 2
}
