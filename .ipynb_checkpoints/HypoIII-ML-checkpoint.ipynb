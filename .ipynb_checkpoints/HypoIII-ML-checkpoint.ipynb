{
 "cells": [
  {
   "cell_type": "markdown",
   "metadata": {},
   "source": [
    "How well do Chemical genetic interactions predict drug classes? Here, the cleaned data generated is used to train and test a logistic regression model. Testing is accomplished by leaving one drug out in each iteration"
   ]
  },
  {
   "cell_type": "code",
   "execution_count": 1,
   "metadata": {
    "ExecuteTime": {
     "end_time": "2020-02-25T02:03:01.528870Z",
     "start_time": "2020-02-25T02:02:59.036501Z"
    }
   },
   "outputs": [
    {
     "name": "stderr",
     "output_type": "stream",
     "text": [
      "C:\\Users\\light\\Anaconda3\\lib\\site-packages\\sklearn\\externals\\six.py:31: DeprecationWarning: The module is deprecated in version 0.21 and will be removed in version 0.23 since we've dropped support for Python 2.7. Please rely on the official version of six (https://pypi.org/project/six/).\n",
      "  \"(https://pypi.org/project/six/).\", DeprecationWarning)\n"
     ]
    }
   ],
   "source": [
    "import itertools\n",
    "import pathlib\n",
    "import re\n",
    "import os\n",
    "\n",
    "import matplotlib.pyplot as plt\n",
    "import numpy as np\n",
    "import pandas as pd\n",
    "import seaborn as sns\n",
    "import xlsxwriter\n",
    "from imblearn.over_sampling import SMOTE\n",
    "from sklearn import preprocessing\n",
    "from sklearn.linear_model import LogisticRegression\n",
    "\n",
    "%matplotlib inline"
   ]
  },
  {
   "cell_type": "markdown",
   "metadata": {},
   "source": [
    "## Functions"
   ]
  },
  {
   "cell_type": "code",
   "execution_count": 2,
   "metadata": {
    "ExecuteTime": {
     "end_time": "2020-02-25T02:03:02.777957Z",
     "start_time": "2020-02-25T02:03:02.764934Z"
    }
   },
   "outputs": [],
   "source": [
    "def get_unique_drugs(drug_list):\n",
    "    \"\"\"returns unique drugs maintaining order\"\"\"\n",
    "    out = []\n",
    "    for drug in drug_list:\n",
    "        if drug not in out:\n",
    "            out.append(drug)\n",
    "    return out"
   ]
  },
  {
   "cell_type": "code",
   "execution_count": 3,
   "metadata": {
    "ExecuteTime": {
     "end_time": "2020-02-25T02:03:04.023195Z",
     "start_time": "2020-02-25T02:03:04.002199Z"
    }
   },
   "outputs": [],
   "source": [
    "def collapse_confusion(confusion, drug_class, dir_name):\n",
    "    \"\"\"takes a confusion matrix of size [ndrugs, nclasses] and collapses it to make [nclasses, nclasses]. Saves the result as a figure\"\"\"\n",
    "    name=os.path.basename(dir_name)\n",
    "    drug_class = drug_class.set_index('Drug')\n",
    "    confusion = confusion.join(drug_class, how='inner')\n",
    "    confusion_classes = confusion.groupby('Class').mean()\n",
    "    heat_c = sns.heatmap(confusion_classes, annot=True, cmap=\"YlGnBu\", fmt='1.2f', square=True)\n",
    "    heat_c.set(xlabel='Predicted Class', ylabel='True Class', title=name)\n",
    "    fig_c = heat_c.get_figure()\n",
    "    \n",
    "    fig_path = pathlib.Path.cwd().joinpath(dir_name, name+'_conf_pp_collapsed.png')\n",
    "    fig_c.savefig(fig_path, bbox_inches='tight', dpi=300)    \n",
    "    plt.close()"
   ]
  },
  {
   "cell_type": "code",
   "execution_count": 4,
   "metadata": {
    "ExecuteTime": {
     "end_time": "2020-02-25T02:03:04.942333Z",
     "start_time": "2020-02-25T02:03:04.920369Z"
    }
   },
   "outputs": [],
   "source": [
    "def make_coef_df(coef_df, strain_list, y, dir_name):\n",
    "    \"\"\"Takes in a matrix of weights of size [nclasses, nstrains] and saves a transposed and annotated version with abs values\"\"\"\n",
    "    name=os.path.basename(dir_name)\n",
    "    coef_df = coef_df.transpose()\n",
    "    coef_df.columns = sorted(list(set(y)))\n",
    "    coef_df.index = strain_list\n",
    "    coef_df_abs = coef_df.abs()\n",
    "    pathlib.Path.cwd().joinpath(dir_name, name+'.png')\n",
    "    coef_df.to_csv(pathlib.Path.cwd().joinpath(dir_name, name+'_coefs.csv'))\n",
    "    coef_df_abs.to_csv(pathlib.Path.cwd().joinpath(dir_name, name+'_coefs_abs.csv'))\n"
   ]
  },
  {
   "cell_type": "code",
   "execution_count": 5,
   "metadata": {
    "ExecuteTime": {
     "end_time": "2020-02-25T02:03:05.877256Z",
     "start_time": "2020-02-25T02:03:05.853220Z"
    }
   },
   "outputs": [],
   "source": [
    "def fit_model(X, y, drug_list, C, correct_imbal):\n",
    "    \"\"\"Implements Logistic regression w lasso and CV. correct_imbal can be None or SMOTE. C is for lasso\"\"\"\n",
    "    \n",
    "    print (\"Starting predictions\")\n",
    "    \n",
    "    classes = sorted(list(set(y)))\n",
    "    indexes = np.arange(len(y))\n",
    "    unique_drugs = get_unique_drugs(drug_list)\n",
    "    confusion = np.empty((len(unique_drugs),len(classes)))\n",
    "    coef_df = pd.DataFrame(np.zeros((len(classes), X.shape[1])))\n",
    "    \n",
    "    #Loop\n",
    "    for j,drug in enumerate(unique_drugs):\n",
    "        print(drug, end=',')\n",
    "        #Get train and test indices\n",
    "        train_ind = indexes[drug_list != drug]\n",
    "        test_ind = indexes[drug_list == drug]\n",
    "        \n",
    "        #Correct imbalance\n",
    "        if correct_imbal == 'SMOTE':\n",
    "            X_train, y_train= SMOTE().fit_sample(X[train_ind], y[train_ind])\n",
    "        elif correct_imbal == None:\n",
    "            X_train,y_train=(X[train_ind], y[train_ind]) \n",
    "            \n",
    "        #fit    \n",
    "        model = LogisticRegression(penalty='l1', C=C, solver='liblinear', multi_class='ovr')\n",
    "        model.fit(X_train, y_train)\n",
    "        \n",
    "        #add the weights to a dataframe.These get added every iteration\n",
    "        coef_df = coef_df.add(model.coef_)        \n",
    "        #calculate predict probabilities for each test. Yields matrix of size [ntests, nclasses]\n",
    "        confusion_drug = model.predict_proba(X[test_ind])\n",
    "        #collapse this matrix by calculating mean over all replicates. Yields a matrix of size[1,nclasses]. Append to confusion\n",
    "        confusion[j] = confusion_drug.mean(axis=0)\n",
    "        \n",
    "    confusion_df = pd.DataFrame(confusion, columns=classes, index=unique_drugs)\n",
    "    coef_df = coef_df/len(unique_drugs)\n",
    "    print(\"Predictions finished\")\n",
    "    \n",
    "    return confusion_df, coef_df\n",
    "   "
   ]
  },
  {
   "cell_type": "code",
   "execution_count": 6,
   "metadata": {
    "ExecuteTime": {
     "end_time": "2020-02-25T02:03:07.805192Z",
     "start_time": "2020-02-25T02:03:07.782211Z"
    }
   },
   "outputs": [],
   "source": [
    "def do_LR(df, dir_name, drug_class, C, correct_imbal=None):\n",
    "    \"\"\"Prepares input data and implements LR. Uses '.' to look for columns for X. Requires colnames 'Class' and 'Drugs'\"\"\"\n",
    "    X = df.filter(regex=('\\.')).values\n",
    "    y = df['Class'].values\n",
    "    drug_list = np.array(df['Drug'])\n",
    "    print(X.shape, len(y))\n",
    "    \n",
    "    #Create directory for results\n",
    "    try:\n",
    "        pathlib.Path.cwd().joinpath(dir_name).mkdir(parents=True, exist_ok=False)\n",
    "    except FileExistsError:\n",
    "        pass\n",
    "    \n",
    "    #Run\n",
    "    confusion, coef = fit_model(X, y, drug_list, C, correct_imbal)\n",
    "    \n",
    "    #Generate a csv file with the coefficients of the logistic regression. This allows identification of possible important predictors of the model.\n",
    "    make_coef_df(coef, df.filter(regex=('\\.')).columns, y, dir_name)\n",
    "    #Generates a confusion matrix\n",
    "    collapse_confusion(confusion, drug_class, dir_name)\n",
    "    return None "
   ]
  },
  {
   "cell_type": "markdown",
   "metadata": {},
   "source": [
    "## HypoIII"
   ]
  },
  {
   "cell_type": "code",
   "execution_count": 15,
   "metadata": {
    "ExecuteTime": {
     "end_time": "2020-02-25T02:04:20.789400Z",
     "start_time": "2020-02-25T02:04:20.772436Z"
    }
   },
   "outputs": [],
   "source": [
    "dir_name = './Analysis/9-Logistic_regression/HypoIII'"
   ]
  },
  {
   "cell_type": "code",
   "execution_count": 16,
   "metadata": {
    "ExecuteTime": {
     "end_time": "2020-02-25T02:04:21.043503Z",
     "start_time": "2020-02-25T02:04:20.794399Z"
    }
   },
   "outputs": [],
   "source": [
    "hypoIII = pd.read_csv(pathlib.Path.cwd().joinpath('Analysis','8-Clean_for_ML', 'HypoIII_for_ML_encoded.csv'))"
   ]
  },
  {
   "cell_type": "code",
   "execution_count": 17,
   "metadata": {
    "ExecuteTime": {
     "end_time": "2020-02-25T02:04:21.106437Z",
     "start_time": "2020-02-25T02:04:21.052400Z"
    }
   },
   "outputs": [
    {
     "data": {
      "text/html": [
       "<div>\n",
       "<style scoped>\n",
       "    .dataframe tbody tr th:only-of-type {\n",
       "        vertical-align: middle;\n",
       "    }\n",
       "\n",
       "    .dataframe tbody tr th {\n",
       "        vertical-align: top;\n",
       "    }\n",
       "\n",
       "    .dataframe thead th {\n",
       "        text-align: right;\n",
       "    }\n",
       "</style>\n",
       "<table border=\"1\" class=\"dataframe\">\n",
       "  <thead>\n",
       "    <tr style=\"text-align: right;\">\n",
       "      <th></th>\n",
       "      <th>Drug</th>\n",
       "      <th>Conc</th>\n",
       "      <th>Replicate</th>\n",
       "      <th>strain.0</th>\n",
       "      <th>strain.1</th>\n",
       "      <th>strain.10</th>\n",
       "      <th>strain.100</th>\n",
       "      <th>strain.101</th>\n",
       "      <th>strain.102</th>\n",
       "      <th>strain.103</th>\n",
       "      <th>...</th>\n",
       "      <th>strain.91</th>\n",
       "      <th>strain.92</th>\n",
       "      <th>strain.93</th>\n",
       "      <th>strain.94</th>\n",
       "      <th>strain.95</th>\n",
       "      <th>strain.96</th>\n",
       "      <th>strain.97</th>\n",
       "      <th>strain.98</th>\n",
       "      <th>strain.99</th>\n",
       "      <th>Class</th>\n",
       "    </tr>\n",
       "  </thead>\n",
       "  <tbody>\n",
       "    <tr>\n",
       "      <td>0</td>\n",
       "      <td>drug_0</td>\n",
       "      <td>2xMIC</td>\n",
       "      <td>1</td>\n",
       "      <td>0.359612</td>\n",
       "      <td>-0.911401</td>\n",
       "      <td>1.554297</td>\n",
       "      <td>0.069421</td>\n",
       "      <td>-2.972960</td>\n",
       "      <td>1.185445</td>\n",
       "      <td>0.421721</td>\n",
       "      <td>...</td>\n",
       "      <td>0.176432</td>\n",
       "      <td>0.449538</td>\n",
       "      <td>0.131855</td>\n",
       "      <td>-0.794105</td>\n",
       "      <td>1.381503</td>\n",
       "      <td>-0.938048</td>\n",
       "      <td>-2.939168</td>\n",
       "      <td>1.492050</td>\n",
       "      <td>-0.387570</td>\n",
       "      <td>Class 4</td>\n",
       "    </tr>\n",
       "    <tr>\n",
       "      <td>1</td>\n",
       "      <td>drug_0</td>\n",
       "      <td>2xMIC</td>\n",
       "      <td>2</td>\n",
       "      <td>0.922680</td>\n",
       "      <td>0.156397</td>\n",
       "      <td>1.587909</td>\n",
       "      <td>0.587814</td>\n",
       "      <td>0.183369</td>\n",
       "      <td>0.565838</td>\n",
       "      <td>1.133654</td>\n",
       "      <td>...</td>\n",
       "      <td>0.702362</td>\n",
       "      <td>0.783339</td>\n",
       "      <td>0.747126</td>\n",
       "      <td>0.113741</td>\n",
       "      <td>1.673887</td>\n",
       "      <td>-0.256643</td>\n",
       "      <td>-0.483839</td>\n",
       "      <td>1.684535</td>\n",
       "      <td>1.228144</td>\n",
       "      <td>Class 4</td>\n",
       "    </tr>\n",
       "    <tr>\n",
       "      <td>2</td>\n",
       "      <td>drug_0</td>\n",
       "      <td>2xMIC</td>\n",
       "      <td>3</td>\n",
       "      <td>1.003276</td>\n",
       "      <td>0.171781</td>\n",
       "      <td>1.870643</td>\n",
       "      <td>0.381407</td>\n",
       "      <td>-0.678374</td>\n",
       "      <td>1.030591</td>\n",
       "      <td>1.469478</td>\n",
       "      <td>...</td>\n",
       "      <td>0.911449</td>\n",
       "      <td>0.944320</td>\n",
       "      <td>0.480790</td>\n",
       "      <td>-0.326351</td>\n",
       "      <td>1.691710</td>\n",
       "      <td>0.168192</td>\n",
       "      <td>-0.834700</td>\n",
       "      <td>1.609109</td>\n",
       "      <td>1.397204</td>\n",
       "      <td>Class 4</td>\n",
       "    </tr>\n",
       "    <tr>\n",
       "      <td>3</td>\n",
       "      <td>drug_0</td>\n",
       "      <td>2xMIC</td>\n",
       "      <td>4</td>\n",
       "      <td>1.825450</td>\n",
       "      <td>0.914839</td>\n",
       "      <td>1.976140</td>\n",
       "      <td>1.693167</td>\n",
       "      <td>0.974058</td>\n",
       "      <td>2.142402</td>\n",
       "      <td>2.025873</td>\n",
       "      <td>...</td>\n",
       "      <td>1.264043</td>\n",
       "      <td>1.414149</td>\n",
       "      <td>1.483434</td>\n",
       "      <td>0.833600</td>\n",
       "      <td>2.156906</td>\n",
       "      <td>1.275261</td>\n",
       "      <td>1.326924</td>\n",
       "      <td>2.090184</td>\n",
       "      <td>1.211598</td>\n",
       "      <td>Class 4</td>\n",
       "    </tr>\n",
       "    <tr>\n",
       "      <td>4</td>\n",
       "      <td>drug_0</td>\n",
       "      <td>2xMIC</td>\n",
       "      <td>5</td>\n",
       "      <td>1.862371</td>\n",
       "      <td>0.871132</td>\n",
       "      <td>1.937450</td>\n",
       "      <td>1.371979</td>\n",
       "      <td>0.936343</td>\n",
       "      <td>1.996058</td>\n",
       "      <td>2.160803</td>\n",
       "      <td>...</td>\n",
       "      <td>1.460437</td>\n",
       "      <td>1.147487</td>\n",
       "      <td>1.533885</td>\n",
       "      <td>1.618346</td>\n",
       "      <td>2.086125</td>\n",
       "      <td>0.782927</td>\n",
       "      <td>0.709278</td>\n",
       "      <td>2.169011</td>\n",
       "      <td>1.499092</td>\n",
       "      <td>Class 4</td>\n",
       "    </tr>\n",
       "  </tbody>\n",
       "</table>\n",
       "<p>5 rows × 429 columns</p>\n",
       "</div>"
      ],
      "text/plain": [
       "     Drug   Conc  Replicate  strain.0  strain.1  strain.10  strain.100  \\\n",
       "0  drug_0  2xMIC          1  0.359612 -0.911401   1.554297    0.069421   \n",
       "1  drug_0  2xMIC          2  0.922680  0.156397   1.587909    0.587814   \n",
       "2  drug_0  2xMIC          3  1.003276  0.171781   1.870643    0.381407   \n",
       "3  drug_0  2xMIC          4  1.825450  0.914839   1.976140    1.693167   \n",
       "4  drug_0  2xMIC          5  1.862371  0.871132   1.937450    1.371979   \n",
       "\n",
       "   strain.101  strain.102  strain.103  ...  strain.91  strain.92  strain.93  \\\n",
       "0   -2.972960    1.185445    0.421721  ...   0.176432   0.449538   0.131855   \n",
       "1    0.183369    0.565838    1.133654  ...   0.702362   0.783339   0.747126   \n",
       "2   -0.678374    1.030591    1.469478  ...   0.911449   0.944320   0.480790   \n",
       "3    0.974058    2.142402    2.025873  ...   1.264043   1.414149   1.483434   \n",
       "4    0.936343    1.996058    2.160803  ...   1.460437   1.147487   1.533885   \n",
       "\n",
       "   strain.94  strain.95  strain.96  strain.97  strain.98  strain.99    Class  \n",
       "0  -0.794105   1.381503  -0.938048  -2.939168   1.492050  -0.387570  Class 4  \n",
       "1   0.113741   1.673887  -0.256643  -0.483839   1.684535   1.228144  Class 4  \n",
       "2  -0.326351   1.691710   0.168192  -0.834700   1.609109   1.397204  Class 4  \n",
       "3   0.833600   2.156906   1.275261   1.326924   2.090184   1.211598  Class 4  \n",
       "4   1.618346   2.086125   0.782927   0.709278   2.169011   1.499092  Class 4  \n",
       "\n",
       "[5 rows x 429 columns]"
      ]
     },
     "execution_count": 17,
     "metadata": {},
     "output_type": "execute_result"
    }
   ],
   "source": [
    "hypoIII.head()"
   ]
  },
  {
   "cell_type": "code",
   "execution_count": 18,
   "metadata": {
    "ExecuteTime": {
     "end_time": "2020-02-25T02:04:21.138397Z",
     "start_time": "2020-02-25T02:04:21.119403Z"
    }
   },
   "outputs": [
    {
     "data": {
      "text/plain": [
       "array(['Class 4', 'Class 1', 'Class 6', nan, 'Class 5', 'Class 3',\n",
       "       'Class 2'], dtype=object)"
      ]
     },
     "execution_count": 18,
     "metadata": {},
     "output_type": "execute_result"
    }
   ],
   "source": [
    "hypoIII['Class'].unique()"
   ]
  },
  {
   "cell_type": "code",
   "execution_count": 19,
   "metadata": {
    "ExecuteTime": {
     "end_time": "2020-02-25T02:04:21.234400Z",
     "start_time": "2020-02-25T02:04:21.143399Z"
    }
   },
   "outputs": [
    {
     "data": {
      "text/html": [
       "<div>\n",
       "<style scoped>\n",
       "    .dataframe tbody tr th:only-of-type {\n",
       "        vertical-align: middle;\n",
       "    }\n",
       "\n",
       "    .dataframe tbody tr th {\n",
       "        vertical-align: top;\n",
       "    }\n",
       "\n",
       "    .dataframe thead th {\n",
       "        text-align: right;\n",
       "    }\n",
       "</style>\n",
       "<table border=\"1\" class=\"dataframe\">\n",
       "  <thead>\n",
       "    <tr style=\"text-align: right;\">\n",
       "      <th></th>\n",
       "      <th>Drug</th>\n",
       "      <th>Conc</th>\n",
       "      <th>Replicate</th>\n",
       "      <th>strain.0</th>\n",
       "      <th>strain.1</th>\n",
       "      <th>strain.10</th>\n",
       "      <th>strain.100</th>\n",
       "      <th>strain.101</th>\n",
       "      <th>strain.102</th>\n",
       "      <th>strain.103</th>\n",
       "      <th>...</th>\n",
       "      <th>strain.91</th>\n",
       "      <th>strain.92</th>\n",
       "      <th>strain.93</th>\n",
       "      <th>strain.94</th>\n",
       "      <th>strain.95</th>\n",
       "      <th>strain.96</th>\n",
       "      <th>strain.97</th>\n",
       "      <th>strain.98</th>\n",
       "      <th>strain.99</th>\n",
       "      <th>Class</th>\n",
       "    </tr>\n",
       "  </thead>\n",
       "  <tbody>\n",
       "    <tr>\n",
       "      <td>32</td>\n",
       "      <td>drug_12</td>\n",
       "      <td>1xMIC</td>\n",
       "      <td>1</td>\n",
       "      <td>0.157042</td>\n",
       "      <td>-0.266909</td>\n",
       "      <td>0.778431</td>\n",
       "      <td>-0.742298</td>\n",
       "      <td>-1.403845</td>\n",
       "      <td>-0.119274</td>\n",
       "      <td>-0.121111</td>\n",
       "      <td>...</td>\n",
       "      <td>0.248958</td>\n",
       "      <td>0.932941</td>\n",
       "      <td>0.607170</td>\n",
       "      <td>-0.821963</td>\n",
       "      <td>0.601467</td>\n",
       "      <td>-0.789908</td>\n",
       "      <td>-1.460669</td>\n",
       "      <td>0.122685</td>\n",
       "      <td>0.123163</td>\n",
       "      <td>Class 1</td>\n",
       "    </tr>\n",
       "    <tr>\n",
       "      <td>33</td>\n",
       "      <td>drug_12</td>\n",
       "      <td>1xMIC</td>\n",
       "      <td>2</td>\n",
       "      <td>0.708403</td>\n",
       "      <td>0.006475</td>\n",
       "      <td>1.139620</td>\n",
       "      <td>-0.038633</td>\n",
       "      <td>-0.329288</td>\n",
       "      <td>0.379601</td>\n",
       "      <td>0.358161</td>\n",
       "      <td>...</td>\n",
       "      <td>0.603231</td>\n",
       "      <td>0.170081</td>\n",
       "      <td>1.121570</td>\n",
       "      <td>0.065348</td>\n",
       "      <td>0.884810</td>\n",
       "      <td>-0.419019</td>\n",
       "      <td>-1.035201</td>\n",
       "      <td>0.685974</td>\n",
       "      <td>-0.275755</td>\n",
       "      <td>Class 1</td>\n",
       "    </tr>\n",
       "    <tr>\n",
       "      <td>34</td>\n",
       "      <td>drug_12</td>\n",
       "      <td>1xMIC</td>\n",
       "      <td>3</td>\n",
       "      <td>0.398040</td>\n",
       "      <td>0.012963</td>\n",
       "      <td>1.160000</td>\n",
       "      <td>-0.418280</td>\n",
       "      <td>-1.001709</td>\n",
       "      <td>0.449131</td>\n",
       "      <td>0.061164</td>\n",
       "      <td>...</td>\n",
       "      <td>0.540565</td>\n",
       "      <td>-0.076217</td>\n",
       "      <td>1.090796</td>\n",
       "      <td>-0.544073</td>\n",
       "      <td>1.135033</td>\n",
       "      <td>-0.384275</td>\n",
       "      <td>-0.992740</td>\n",
       "      <td>0.700167</td>\n",
       "      <td>-0.416506</td>\n",
       "      <td>Class 1</td>\n",
       "    </tr>\n",
       "    <tr>\n",
       "      <td>35</td>\n",
       "      <td>drug_12</td>\n",
       "      <td>1xMIC</td>\n",
       "      <td>4</td>\n",
       "      <td>0.525875</td>\n",
       "      <td>0.079063</td>\n",
       "      <td>1.317477</td>\n",
       "      <td>0.219213</td>\n",
       "      <td>-0.382533</td>\n",
       "      <td>0.427696</td>\n",
       "      <td>0.341746</td>\n",
       "      <td>...</td>\n",
       "      <td>0.680785</td>\n",
       "      <td>0.199835</td>\n",
       "      <td>1.306156</td>\n",
       "      <td>-0.056335</td>\n",
       "      <td>1.093339</td>\n",
       "      <td>-0.090207</td>\n",
       "      <td>-0.782503</td>\n",
       "      <td>0.515622</td>\n",
       "      <td>-0.228918</td>\n",
       "      <td>Class 1</td>\n",
       "    </tr>\n",
       "    <tr>\n",
       "      <td>36</td>\n",
       "      <td>drug_12</td>\n",
       "      <td>1xMIC</td>\n",
       "      <td>5</td>\n",
       "      <td>0.592619</td>\n",
       "      <td>0.178949</td>\n",
       "      <td>1.161345</td>\n",
       "      <td>-0.299858</td>\n",
       "      <td>-0.651762</td>\n",
       "      <td>0.184864</td>\n",
       "      <td>0.167023</td>\n",
       "      <td>...</td>\n",
       "      <td>0.534262</td>\n",
       "      <td>0.038167</td>\n",
       "      <td>1.136530</td>\n",
       "      <td>-0.312592</td>\n",
       "      <td>0.814637</td>\n",
       "      <td>-0.620377</td>\n",
       "      <td>-0.865420</td>\n",
       "      <td>0.348924</td>\n",
       "      <td>0.005737</td>\n",
       "      <td>Class 1</td>\n",
       "    </tr>\n",
       "  </tbody>\n",
       "</table>\n",
       "<p>5 rows × 429 columns</p>\n",
       "</div>"
      ],
      "text/plain": [
       "       Drug   Conc  Replicate  strain.0  strain.1  strain.10  strain.100  \\\n",
       "32  drug_12  1xMIC          1  0.157042 -0.266909   0.778431   -0.742298   \n",
       "33  drug_12  1xMIC          2  0.708403  0.006475   1.139620   -0.038633   \n",
       "34  drug_12  1xMIC          3  0.398040  0.012963   1.160000   -0.418280   \n",
       "35  drug_12  1xMIC          4  0.525875  0.079063   1.317477    0.219213   \n",
       "36  drug_12  1xMIC          5  0.592619  0.178949   1.161345   -0.299858   \n",
       "\n",
       "    strain.101  strain.102  strain.103  ...  strain.91  strain.92  strain.93  \\\n",
       "32   -1.403845   -0.119274   -0.121111  ...   0.248958   0.932941   0.607170   \n",
       "33   -0.329288    0.379601    0.358161  ...   0.603231   0.170081   1.121570   \n",
       "34   -1.001709    0.449131    0.061164  ...   0.540565  -0.076217   1.090796   \n",
       "35   -0.382533    0.427696    0.341746  ...   0.680785   0.199835   1.306156   \n",
       "36   -0.651762    0.184864    0.167023  ...   0.534262   0.038167   1.136530   \n",
       "\n",
       "    strain.94  strain.95  strain.96  strain.97  strain.98  strain.99    Class  \n",
       "32  -0.821963   0.601467  -0.789908  -1.460669   0.122685   0.123163  Class 1  \n",
       "33   0.065348   0.884810  -0.419019  -1.035201   0.685974  -0.275755  Class 1  \n",
       "34  -0.544073   1.135033  -0.384275  -0.992740   0.700167  -0.416506  Class 1  \n",
       "35  -0.056335   1.093339  -0.090207  -0.782503   0.515622  -0.228918  Class 1  \n",
       "36  -0.312592   0.814637  -0.620377  -0.865420   0.348924   0.005737  Class 1  \n",
       "\n",
       "[5 rows x 429 columns]"
      ]
     },
     "execution_count": 19,
     "metadata": {},
     "output_type": "execute_result"
    }
   ],
   "source": [
    "hypoIII = hypoIII[~hypoIII['Class'].isna()]\n",
    "hypoIII = hypoIII.sort_values(by=['Class', 'Drug'])\n",
    "hypoIII.head()"
   ]
  },
  {
   "cell_type": "code",
   "execution_count": 20,
   "metadata": {
    "ExecuteTime": {
     "end_time": "2020-02-25T02:04:23.229960Z",
     "start_time": "2020-02-25T02:04:23.207998Z"
    }
   },
   "outputs": [
    {
     "data": {
      "text/plain": [
       "Class 1    527\n",
       "Class 4    143\n",
       "Class 5    125\n",
       "Class 6    115\n",
       "Class 3     56\n",
       "Class 2     32\n",
       "Name: Class, dtype: int64"
      ]
     },
     "execution_count": 20,
     "metadata": {},
     "output_type": "execute_result"
    }
   ],
   "source": [
    "hypoIII['Class'].value_counts()"
   ]
  },
  {
   "cell_type": "code",
   "execution_count": 21,
   "metadata": {
    "ExecuteTime": {
     "end_time": "2020-02-25T02:04:29.908118Z",
     "start_time": "2020-02-25T02:04:29.889105Z"
    }
   },
   "outputs": [
    {
     "data": {
      "text/html": [
       "<div>\n",
       "<style scoped>\n",
       "    .dataframe tbody tr th:only-of-type {\n",
       "        vertical-align: middle;\n",
       "    }\n",
       "\n",
       "    .dataframe tbody tr th {\n",
       "        vertical-align: top;\n",
       "    }\n",
       "\n",
       "    .dataframe thead th {\n",
       "        text-align: right;\n",
       "    }\n",
       "</style>\n",
       "<table border=\"1\" class=\"dataframe\">\n",
       "  <thead>\n",
       "    <tr style=\"text-align: right;\">\n",
       "      <th></th>\n",
       "      <th>Drug</th>\n",
       "      <th>Class</th>\n",
       "    </tr>\n",
       "  </thead>\n",
       "  <tbody>\n",
       "    <tr>\n",
       "      <td>32</td>\n",
       "      <td>drug_12</td>\n",
       "      <td>Class 1</td>\n",
       "    </tr>\n",
       "    <tr>\n",
       "      <td>49</td>\n",
       "      <td>drug_13</td>\n",
       "      <td>Class 1</td>\n",
       "    </tr>\n",
       "    <tr>\n",
       "      <td>53</td>\n",
       "      <td>drug_14</td>\n",
       "      <td>Class 1</td>\n",
       "    </tr>\n",
       "    <tr>\n",
       "      <td>94</td>\n",
       "      <td>drug_2</td>\n",
       "      <td>Class 1</td>\n",
       "    </tr>\n",
       "    <tr>\n",
       "      <td>108</td>\n",
       "      <td>drug_20</td>\n",
       "      <td>Class 1</td>\n",
       "    </tr>\n",
       "  </tbody>\n",
       "</table>\n",
       "</div>"
      ],
      "text/plain": [
       "        Drug    Class\n",
       "32   drug_12  Class 1\n",
       "49   drug_13  Class 1\n",
       "53   drug_14  Class 1\n",
       "94    drug_2  Class 1\n",
       "108  drug_20  Class 1"
      ]
     },
     "execution_count": 21,
     "metadata": {},
     "output_type": "execute_result"
    }
   ],
   "source": [
    "drug_class = hypoIII[['Drug', 'Class']].drop_duplicates()\n",
    "drug_class.head()"
   ]
  },
  {
   "cell_type": "code",
   "execution_count": 23,
   "metadata": {
    "ExecuteTime": {
     "end_time": "2020-02-25T02:07:25.236366Z",
     "start_time": "2020-02-25T02:05:25.648135Z"
    }
   },
   "outputs": [
    {
     "name": "stdout",
     "output_type": "stream",
     "text": [
      "(998, 425) 998\n",
      "Starting predictions\n",
      "drug_12,drug_13,drug_14,drug_2,drug_20,drug_21,drug_22,drug_24,drug_25,drug_26,drug_28,drug_29,drug_31,drug_32,drug_33,drug_34,drug_41,drug_42,drug_47,drug_48,drug_49,drug_50,drug_51,drug_59,drug_63,drug_64,drug_65,drug_67,drug_68,drug_71,drug_73,drug_77,drug_8,drug_81,drug_82,drug_83,drug_85,drug_70,drug_78,drug_46,drug_53,drug_62,drug_69,drug_0,drug_1,drug_30,drug_4,drug_55,drug_56,drug_57,drug_58,drug_61,drug_66,drug_84,drug_19,drug_3,drug_36,drug_37,drug_38,drug_44,drug_74,drug_75,drug_76,drug_17,drug_39,drug_40,drug_45,drug_5,drug_52,drug_54,drug_72,drug_79,drug_80,drug_9,Predictions finished\n"
     ]
    }
   ],
   "source": [
    "do_LR(hypoIII, dir_name, drug_class=drug_class, C=1, correct_imbal='SMOTE')"
   ]
  },
  {
   "cell_type": "code",
   "execution_count": null,
   "metadata": {},
   "outputs": [],
   "source": []
  },
  {
   "cell_type": "code",
   "execution_count": null,
   "metadata": {},
   "outputs": [],
   "source": []
  }
 ],
 "metadata": {
  "kernelspec": {
   "display_name": "Python 3",
   "language": "python",
   "name": "python3"
  },
  "language_info": {
   "codemirror_mode": {
    "name": "ipython",
    "version": 3
   },
   "file_extension": ".py",
   "mimetype": "text/x-python",
   "name": "python",
   "nbconvert_exporter": "python",
   "pygments_lexer": "ipython3",
   "version": "3.7.3"
  },
  "toc": {
   "base_numbering": 1,
   "nav_menu": {},
   "number_sections": true,
   "sideBar": true,
   "skip_h1_title": false,
   "title_cell": "Table of Contents",
   "title_sidebar": "Contents",
   "toc_cell": false,
   "toc_position": {},
   "toc_section_display": true,
   "toc_window_display": false
  },
  "varInspector": {
   "cols": {
    "lenName": 16,
    "lenType": 16,
    "lenVar": 40
   },
   "kernels_config": {
    "python": {
     "delete_cmd_postfix": "",
     "delete_cmd_prefix": "del ",
     "library": "var_list.py",
     "varRefreshCmd": "print(var_dic_list())"
    },
    "r": {
     "delete_cmd_postfix": ") ",
     "delete_cmd_prefix": "rm(",
     "library": "var_list.r",
     "varRefreshCmd": "cat(var_dic_list()) "
    }
   },
   "types_to_exclude": [
    "module",
    "function",
    "builtin_function_or_method",
    "instance",
    "_Feature"
   ],
   "window_display": false
  }
 },
 "nbformat": 4,
 "nbformat_minor": 2
}
