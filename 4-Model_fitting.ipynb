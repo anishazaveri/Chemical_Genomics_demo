{
 "cells": [
  {
   "cell_type": "markdown",
   "metadata": {},
   "source": [
    "We noted in the previous notebook that a number of datapoints had no signal (a.k.a. \"bad PCRs\"). After we exclude these, is the remaining data sufficient to predict drug classes?"
   ]
  },
  {
   "cell_type": "code",
   "execution_count": 2,
   "metadata": {
    "ExecuteTime": {
     "end_time": "2020-04-22T16:05:39.278940Z",
     "start_time": "2020-04-22T16:05:33.586253Z"
    }
   },
   "outputs": [
    {
     "name": "stderr",
     "output_type": "stream",
     "text": [
      "Using TensorFlow backend.\n"
     ]
    }
   ],
   "source": [
    "import pathlib\n",
    "import pickle\n",
    "\n",
    "import matplotlib.pyplot as plt\n",
    "import pandas as pd\n",
    "import seaborn as sns\n",
    "from imblearn.over_sampling import SMOTE\n",
    "from plotnine import *\n",
    "from sklearn.ensemble import GradientBoostingClassifier, RandomForestClassifier\n",
    "from sklearn.linear_model import LogisticRegression\n",
    "from sklearn.metrics import log_loss\n",
    "from sklearn.model_selection import LeaveOneGroupOut\n",
    "\n",
    "pd.set_option('mode.chained_assignment', None)\n",
    "%matplotlib inline"
   ]
  },
  {
   "cell_type": "code",
   "execution_count": 3,
   "metadata": {
    "ExecuteTime": {
     "end_time": "2020-04-22T16:05:40.040578Z",
     "start_time": "2020-04-22T16:05:39.583579Z"
    }
   },
   "outputs": [],
   "source": [
    "df = pd.read_csv(pathlib.Path.cwd().joinpath('Clean_data_outputs','8-Clean_for_ML', 'HypoIII_for_ML_encoded.csv'))"
   ]
  },
  {
   "cell_type": "code",
   "execution_count": 4,
   "metadata": {
    "ExecuteTime": {
     "end_time": "2020-04-22T16:05:40.977141Z",
     "start_time": "2020-04-22T16:05:40.885096Z"
    }
   },
   "outputs": [
    {
     "data": {
      "text/html": [
       "<div>\n",
       "<style scoped>\n",
       "    .dataframe tbody tr th:only-of-type {\n",
       "        vertical-align: middle;\n",
       "    }\n",
       "\n",
       "    .dataframe tbody tr th {\n",
       "        vertical-align: top;\n",
       "    }\n",
       "\n",
       "    .dataframe thead th {\n",
       "        text-align: right;\n",
       "    }\n",
       "</style>\n",
       "<table border=\"1\" class=\"dataframe\">\n",
       "  <thead>\n",
       "    <tr style=\"text-align: right;\">\n",
       "      <th></th>\n",
       "      <th>Drug</th>\n",
       "      <th>Conc</th>\n",
       "      <th>Replicate</th>\n",
       "      <th>strain.0</th>\n",
       "      <th>strain.1</th>\n",
       "      <th>strain.10</th>\n",
       "      <th>strain.100</th>\n",
       "      <th>strain.101</th>\n",
       "      <th>strain.102</th>\n",
       "      <th>strain.103</th>\n",
       "      <th>...</th>\n",
       "      <th>strain.91</th>\n",
       "      <th>strain.92</th>\n",
       "      <th>strain.93</th>\n",
       "      <th>strain.94</th>\n",
       "      <th>strain.95</th>\n",
       "      <th>strain.96</th>\n",
       "      <th>strain.97</th>\n",
       "      <th>strain.98</th>\n",
       "      <th>strain.99</th>\n",
       "      <th>Class</th>\n",
       "    </tr>\n",
       "  </thead>\n",
       "  <tbody>\n",
       "    <tr>\n",
       "      <td>0</td>\n",
       "      <td>drug_0</td>\n",
       "      <td>2xMIC</td>\n",
       "      <td>1</td>\n",
       "      <td>0.359612</td>\n",
       "      <td>-0.911401</td>\n",
       "      <td>1.554297</td>\n",
       "      <td>0.069421</td>\n",
       "      <td>-2.972960</td>\n",
       "      <td>1.185445</td>\n",
       "      <td>0.421721</td>\n",
       "      <td>...</td>\n",
       "      <td>0.176432</td>\n",
       "      <td>0.449538</td>\n",
       "      <td>0.131855</td>\n",
       "      <td>-0.794105</td>\n",
       "      <td>1.381503</td>\n",
       "      <td>-0.938048</td>\n",
       "      <td>-2.939168</td>\n",
       "      <td>1.492050</td>\n",
       "      <td>-0.387570</td>\n",
       "      <td>Class 4</td>\n",
       "    </tr>\n",
       "    <tr>\n",
       "      <td>1</td>\n",
       "      <td>drug_0</td>\n",
       "      <td>2xMIC</td>\n",
       "      <td>2</td>\n",
       "      <td>0.922680</td>\n",
       "      <td>0.156397</td>\n",
       "      <td>1.587909</td>\n",
       "      <td>0.587814</td>\n",
       "      <td>0.183369</td>\n",
       "      <td>0.565838</td>\n",
       "      <td>1.133654</td>\n",
       "      <td>...</td>\n",
       "      <td>0.702362</td>\n",
       "      <td>0.783339</td>\n",
       "      <td>0.747126</td>\n",
       "      <td>0.113741</td>\n",
       "      <td>1.673887</td>\n",
       "      <td>-0.256643</td>\n",
       "      <td>-0.483839</td>\n",
       "      <td>1.684535</td>\n",
       "      <td>1.228144</td>\n",
       "      <td>Class 4</td>\n",
       "    </tr>\n",
       "    <tr>\n",
       "      <td>2</td>\n",
       "      <td>drug_0</td>\n",
       "      <td>2xMIC</td>\n",
       "      <td>3</td>\n",
       "      <td>1.003276</td>\n",
       "      <td>0.171781</td>\n",
       "      <td>1.870643</td>\n",
       "      <td>0.381407</td>\n",
       "      <td>-0.678374</td>\n",
       "      <td>1.030591</td>\n",
       "      <td>1.469478</td>\n",
       "      <td>...</td>\n",
       "      <td>0.911449</td>\n",
       "      <td>0.944320</td>\n",
       "      <td>0.480790</td>\n",
       "      <td>-0.326351</td>\n",
       "      <td>1.691710</td>\n",
       "      <td>0.168192</td>\n",
       "      <td>-0.834700</td>\n",
       "      <td>1.609109</td>\n",
       "      <td>1.397204</td>\n",
       "      <td>Class 4</td>\n",
       "    </tr>\n",
       "    <tr>\n",
       "      <td>3</td>\n",
       "      <td>drug_0</td>\n",
       "      <td>2xMIC</td>\n",
       "      <td>4</td>\n",
       "      <td>1.825450</td>\n",
       "      <td>0.914839</td>\n",
       "      <td>1.976140</td>\n",
       "      <td>1.693167</td>\n",
       "      <td>0.974058</td>\n",
       "      <td>2.142402</td>\n",
       "      <td>2.025873</td>\n",
       "      <td>...</td>\n",
       "      <td>1.264043</td>\n",
       "      <td>1.414149</td>\n",
       "      <td>1.483434</td>\n",
       "      <td>0.833600</td>\n",
       "      <td>2.156906</td>\n",
       "      <td>1.275261</td>\n",
       "      <td>1.326924</td>\n",
       "      <td>2.090184</td>\n",
       "      <td>1.211598</td>\n",
       "      <td>Class 4</td>\n",
       "    </tr>\n",
       "    <tr>\n",
       "      <td>4</td>\n",
       "      <td>drug_0</td>\n",
       "      <td>2xMIC</td>\n",
       "      <td>5</td>\n",
       "      <td>1.862371</td>\n",
       "      <td>0.871132</td>\n",
       "      <td>1.937450</td>\n",
       "      <td>1.371979</td>\n",
       "      <td>0.936343</td>\n",
       "      <td>1.996058</td>\n",
       "      <td>2.160803</td>\n",
       "      <td>...</td>\n",
       "      <td>1.460437</td>\n",
       "      <td>1.147487</td>\n",
       "      <td>1.533885</td>\n",
       "      <td>1.618346</td>\n",
       "      <td>2.086125</td>\n",
       "      <td>0.782927</td>\n",
       "      <td>0.709278</td>\n",
       "      <td>2.169011</td>\n",
       "      <td>1.499092</td>\n",
       "      <td>Class 4</td>\n",
       "    </tr>\n",
       "  </tbody>\n",
       "</table>\n",
       "<p>5 rows × 429 columns</p>\n",
       "</div>"
      ],
      "text/plain": [
       "     Drug   Conc  Replicate  strain.0  strain.1  strain.10  strain.100  \\\n",
       "0  drug_0  2xMIC          1  0.359612 -0.911401   1.554297    0.069421   \n",
       "1  drug_0  2xMIC          2  0.922680  0.156397   1.587909    0.587814   \n",
       "2  drug_0  2xMIC          3  1.003276  0.171781   1.870643    0.381407   \n",
       "3  drug_0  2xMIC          4  1.825450  0.914839   1.976140    1.693167   \n",
       "4  drug_0  2xMIC          5  1.862371  0.871132   1.937450    1.371979   \n",
       "\n",
       "   strain.101  strain.102  strain.103  ...  strain.91  strain.92  strain.93  \\\n",
       "0   -2.972960    1.185445    0.421721  ...   0.176432   0.449538   0.131855   \n",
       "1    0.183369    0.565838    1.133654  ...   0.702362   0.783339   0.747126   \n",
       "2   -0.678374    1.030591    1.469478  ...   0.911449   0.944320   0.480790   \n",
       "3    0.974058    2.142402    2.025873  ...   1.264043   1.414149   1.483434   \n",
       "4    0.936343    1.996058    2.160803  ...   1.460437   1.147487   1.533885   \n",
       "\n",
       "   strain.94  strain.95  strain.96  strain.97  strain.98  strain.99    Class  \n",
       "0  -0.794105   1.381503  -0.938048  -2.939168   1.492050  -0.387570  Class 4  \n",
       "1   0.113741   1.673887  -0.256643  -0.483839   1.684535   1.228144  Class 4  \n",
       "2  -0.326351   1.691710   0.168192  -0.834700   1.609109   1.397204  Class 4  \n",
       "3   0.833600   2.156906   1.275261   1.326924   2.090184   1.211598  Class 4  \n",
       "4   1.618346   2.086125   0.782927   0.709278   2.169011   1.499092  Class 4  \n",
       "\n",
       "[5 rows x 429 columns]"
      ]
     },
     "execution_count": 4,
     "metadata": {},
     "output_type": "execute_result"
    }
   ],
   "source": [
    "df.head()"
   ]
  },
  {
   "cell_type": "code",
   "execution_count": 5,
   "metadata": {
    "ExecuteTime": {
     "end_time": "2020-04-22T16:05:41.672728Z",
     "start_time": "2020-04-22T16:05:41.598678Z"
    }
   },
   "outputs": [],
   "source": [
    "df = df[~df['Class'].isna()]\n",
    "df = df.sort_values(by=['Class', 'Drug']).reset_index()"
   ]
  },
  {
   "cell_type": "code",
   "execution_count": 6,
   "metadata": {
    "ExecuteTime": {
     "end_time": "2020-04-22T16:05:42.975113Z",
     "start_time": "2020-04-22T16:05:42.326244Z"
    }
   },
   "outputs": [
    {
     "data": {
      "image/png": "[encoded data removed]",
      "text/plain": [
       "<Figure size 400x400 with 1 Axes>"
      ]
     },
     "metadata": {
      "needs_background": "light"
     },
     "output_type": "display_data"
    },
    {
     "data": {
      "text/plain": [
       "<ggplot: (141446632312)>"
      ]
     },
     "execution_count": 6,
     "metadata": {},
     "output_type": "execute_result"
    }
   ],
   "source": [
    "(ggplot(df, aes(x='Class', fill='Class'))\n",
    " +geom_bar()\n",
    " +theme_minimal()\n",
    " +theme(figure_size=(4,4), axis_text_x=element_text(angle=90), legend_position='none')\n",
    " +xlab('')\n",
    " +ylab('Count')\n",
    " +scale_fill_brewer(type='qual', palette='Set1'))"
   ]
  },
  {
   "cell_type": "markdown",
   "metadata": {},
   "source": [
    "## Logistic Regression"
   ]
  },
  {
   "cell_type": "markdown",
   "metadata": {},
   "source": [
    "Implement a logistic regression model.\n",
    "- Split data into training and validation using LeaveOneGroupOut (LOGO). Each group is a datapoints from a single drug. This allows us to mimic a test situation where we obtain a single drug with an unknown mechanism of action  \n",
    "- Use LASSO regularization to select features\n",
    "- Use SMOTE (Synthetic Minority Over-sampling TEchnique) to correct for class imbalance"
   ]
  },
  {
   "cell_type": "markdown",
   "metadata": {
    "ExecuteTime": {
     "end_time": "2020-04-20T16:06:43.804302Z",
     "start_time": "2020-04-20T16:06:43.798305Z"
    }
   },
   "source": [
    "### Select LASSO strength"
   ]
  },
  {
   "cell_type": "markdown",
   "metadata": {},
   "source": [
    "First we will iterate over a number of regularization strengths. Note that lower the value of C, greater is the regularization strength"
   ]
  },
  {
   "cell_type": "code",
   "execution_count": 442,
   "metadata": {
    "ExecuteTime": {
     "end_time": "2020-04-22T15:36:40.282844Z",
     "start_time": "2020-04-22T15:36:40.257795Z"
    }
   },
   "outputs": [],
   "source": [
    "def logistic_reg_vanilla(df: pd.DataFrame, C: float) -> float:\n",
    "    \"\"\"\n",
    "    Fits a logistic regression model using leave out group out for validation and SMOTE for oversampling. Returns cross entropy loss\n",
    "    \"\"\"\n",
    "    X = df.filter(regex=('\\.')).values\n",
    "    y = df['Class'].values\n",
    "    groups = df['Drug'].values\n",
    "    n_classes = df['Class'].nunique()\n",
    "    predictions = np.full([len(y), n_classes], np.nan)\n",
    "    logo = LeaveOneGroupOut()\n",
    "    for train_ind, test_ind in logo.split(X, y, groups):\n",
    "        X_train, y_train= SMOTE().fit_sample(X[train_ind], y[train_ind])\n",
    "        X_test, y_test = X[test_ind], y[test_ind]   \n",
    "        model = LogisticRegression(penalty='l1', C=C, solver='liblinear', multi_class='ovr')\n",
    "        model.fit(X_train, y_train)\n",
    "        predictions[test_ind] = model.predict_proba(X_test)\n",
    "    ce = log_loss(y, predictions)\n",
    "    return ce\n",
    "        \n",
    "        "
   ]
  },
  {
   "cell_type": "code",
   "execution_count": 443,
   "metadata": {
    "ExecuteTime": {
     "end_time": "2020-04-22T15:48:27.557865Z",
     "start_time": "2020-04-22T15:36:50.616557Z"
    }
   },
   "outputs": [
    {
     "name": "stdout",
     "output_type": "stream",
     "text": [
      "C : 0.01, cross-entropy: 1.2845940758134553\n",
      "C : 0.1, cross-entropy: 0.8253421506289884\n",
      "C : 1, cross-entropy: 0.9628848417094924\n",
      "C : 10, cross-entropy: 1.0211248488802362\n",
      "C : 100, cross-entropy: 1.1537051581755318\n"
     ]
    }
   ],
   "source": [
    "output_metrics = {}\n",
    "for C in [0.01, 0.1, 1, 10, 100]:\n",
    "    output_metrics[C] = logistic_reg_vanilla(df, C)\n",
    "    print(f'C : {C}, cross-entropy: {output_metrics[C]}')"
   ]
  },
  {
   "cell_type": "markdown",
   "metadata": {},
   "source": [
    "C = 0.1 seems to give the best results, hence we will use it for the next step"
   ]
  },
  {
   "cell_type": "markdown",
   "metadata": {},
   "source": [
    "### Fit model with selected lasso strength"
   ]
  },
  {
   "cell_type": "code",
   "execution_count": 7,
   "metadata": {
    "ExecuteTime": {
     "end_time": "2020-04-22T16:05:44.623413Z",
     "start_time": "2020-04-22T16:05:44.585418Z"
    }
   },
   "outputs": [],
   "source": [
    "def logistic_reg(df: pd.DataFrame, C: float) -> (pd.DataFrame, pd.DataFrame):\n",
    "    \"\"\"\n",
    "    Adapts logisitic_reg_vanilla to output feature importances and predictions.\n",
    "    Predictions are returned as probability estimates for each class. \n",
    "    The importances are converted to asbolute values and averaged over each LOGO iteration.\n",
    "    \"\"\"\n",
    "    X = df.filter(regex=('\\.')).values\n",
    "    y = df['Class'].values\n",
    "    groups = df['Drug'].values\n",
    "    n_classes = df['Class'].nunique()\n",
    "    predictions = np.full([len(y), n_classes], np.nan)\n",
    "    logo = LeaveOneGroupOut()\n",
    "    feature_importances  = np.zeros([n_classes, X.shape[1]])\n",
    "    \n",
    "    for train_ind, test_ind in logo.split(X, y, groups):\n",
    "        X_train, y_train= SMOTE().fit_sample(X[train_ind], y[train_ind])\n",
    "        X_test, y_test = X[test_ind], y[test_ind]   \n",
    "        model = LogisticRegression(penalty='l1', C=C, solver='liblinear', multi_class='ovr')\n",
    "        model.fit(X_train, y_train)\n",
    "        predictions[test_ind] = model.predict_proba(X_test)\n",
    "        feature_importances += model.coef_\n",
    "        \n",
    "    #format predictions and feature importances before output\n",
    "    predictions = pd.DataFrame(predictions, columns= model.classes_)\n",
    "    predictions = predictions.merge(df[['Drug', 'Class']], left_index=True, right_index=True)\n",
    "    \n",
    "    feature_importances = np.abs(feature_importances.T)\n",
    "    feature_importances = feature_importances/len(groups)\n",
    "    feature_importances = pd.DataFrame(feature_importances, columns = model.classes_)\n",
    "    feature_importances['Strain'] = df.filter(regex=('\\.')).columns\n",
    "    feature_importances = feature_importances[['Strain']+list(model.classes_)]\n",
    "    return predictions, feature_importances\n",
    "    "
   ]
  },
  {
   "cell_type": "code",
   "execution_count": 70,
   "metadata": {
    "ExecuteTime": {
     "end_time": "2020-04-22T18:14:10.056793Z",
     "start_time": "2020-04-22T18:12:28.997190Z"
    }
   },
   "outputs": [],
   "source": [
    "predictions, feature_importances = logistic_reg(df, C=0.1)"
   ]
  },
  {
   "cell_type": "code",
   "execution_count": 71,
   "metadata": {
    "ExecuteTime": {
     "end_time": "2020-04-22T18:15:58.203102Z",
     "start_time": "2020-04-22T18:15:58.173101Z"
    }
   },
   "outputs": [
    {
     "data": {
      "text/html": [
       "<div>\n",
       "<style scoped>\n",
       "    .dataframe tbody tr th:only-of-type {\n",
       "        vertical-align: middle;\n",
       "    }\n",
       "\n",
       "    .dataframe tbody tr th {\n",
       "        vertical-align: top;\n",
       "    }\n",
       "\n",
       "    .dataframe thead th {\n",
       "        text-align: right;\n",
       "    }\n",
       "</style>\n",
       "<table border=\"1\" class=\"dataframe\">\n",
       "  <thead>\n",
       "    <tr style=\"text-align: right;\">\n",
       "      <th></th>\n",
       "      <th>Class 1</th>\n",
       "      <th>Class 2</th>\n",
       "      <th>Class 3</th>\n",
       "      <th>Class 4</th>\n",
       "      <th>Class 5</th>\n",
       "      <th>Class 6</th>\n",
       "      <th>Drug</th>\n",
       "      <th>Class</th>\n",
       "    </tr>\n",
       "  </thead>\n",
       "  <tbody>\n",
       "    <tr>\n",
       "      <td>0</td>\n",
       "      <td>0.716816</td>\n",
       "      <td>0.020018</td>\n",
       "      <td>0.006671</td>\n",
       "      <td>0.009591</td>\n",
       "      <td>0.238210</td>\n",
       "      <td>0.008693</td>\n",
       "      <td>drug_12</td>\n",
       "      <td>Class 1</td>\n",
       "    </tr>\n",
       "    <tr>\n",
       "      <td>1</td>\n",
       "      <td>0.598741</td>\n",
       "      <td>0.022168</td>\n",
       "      <td>0.004032</td>\n",
       "      <td>0.058308</td>\n",
       "      <td>0.269807</td>\n",
       "      <td>0.046944</td>\n",
       "      <td>drug_12</td>\n",
       "      <td>Class 1</td>\n",
       "    </tr>\n",
       "    <tr>\n",
       "      <td>2</td>\n",
       "      <td>0.161857</td>\n",
       "      <td>0.025684</td>\n",
       "      <td>0.014003</td>\n",
       "      <td>0.056966</td>\n",
       "      <td>0.720838</td>\n",
       "      <td>0.020652</td>\n",
       "      <td>drug_12</td>\n",
       "      <td>Class 1</td>\n",
       "    </tr>\n",
       "    <tr>\n",
       "      <td>3</td>\n",
       "      <td>0.743223</td>\n",
       "      <td>0.021980</td>\n",
       "      <td>0.002067</td>\n",
       "      <td>0.037902</td>\n",
       "      <td>0.186578</td>\n",
       "      <td>0.008251</td>\n",
       "      <td>drug_12</td>\n",
       "      <td>Class 1</td>\n",
       "    </tr>\n",
       "    <tr>\n",
       "      <td>4</td>\n",
       "      <td>0.408251</td>\n",
       "      <td>0.017638</td>\n",
       "      <td>0.005930</td>\n",
       "      <td>0.101342</td>\n",
       "      <td>0.442526</td>\n",
       "      <td>0.024312</td>\n",
       "      <td>drug_12</td>\n",
       "      <td>Class 1</td>\n",
       "    </tr>\n",
       "  </tbody>\n",
       "</table>\n",
       "</div>"
      ],
      "text/plain": [
       "    Class 1   Class 2   Class 3   Class 4   Class 5   Class 6     Drug  \\\n",
       "0  0.716816  0.020018  0.006671  0.009591  0.238210  0.008693  drug_12   \n",
       "1  0.598741  0.022168  0.004032  0.058308  0.269807  0.046944  drug_12   \n",
       "2  0.161857  0.025684  0.014003  0.056966  0.720838  0.020652  drug_12   \n",
       "3  0.743223  0.021980  0.002067  0.037902  0.186578  0.008251  drug_12   \n",
       "4  0.408251  0.017638  0.005930  0.101342  0.442526  0.024312  drug_12   \n",
       "\n",
       "     Class  \n",
       "0  Class 1  \n",
       "1  Class 1  \n",
       "2  Class 1  \n",
       "3  Class 1  \n",
       "4  Class 1  "
      ]
     },
     "execution_count": 71,
     "metadata": {},
     "output_type": "execute_result"
    }
   ],
   "source": [
    "predictions.head()"
   ]
  },
  {
   "cell_type": "code",
   "execution_count": 75,
   "metadata": {
    "ExecuteTime": {
     "end_time": "2020-04-22T18:16:30.155914Z",
     "start_time": "2020-04-22T18:16:30.134921Z"
    }
   },
   "outputs": [],
   "source": [
    "def plot_confusion_matrix(predictions: pd.DataFrame) -> None:\n",
    "    \"\"\"\n",
    "    Takes in dataframe predictions and re-formats for plotting. Plots the final matrix\n",
    "    \"\"\"\n",
    "    #average predictions by class to create a confusion matrix\n",
    "    confusion = predictions.groupby('Class').mean().reset_index()\n",
    "    #format confusion for plotting\n",
    "    class_names = [col for col in confusion if col!='Class']\n",
    "    confusion = confusion.rename(columns={col: col[-1] for col in confusion[class_names]})\n",
    "    confusion['Class'] = confusion['Class'].replace({x: x[-1] for x in class_names})\n",
    "    confusion = confusion.set_index('Class')\n",
    "    \n",
    "    #plot\n",
    "    plt.figure(figsize=(5,5))\n",
    "    sns.set(font_scale=1.2)\n",
    "    heat = sns.heatmap(confusion, annot=True, fmt='1.2f', square=True, linewidths=.5, cbar=False)\n",
    "    plt.xlabel(\"Predicted Class\")\n",
    "    plt.ylabel(\"True Class\")\n",
    "    plt.show(heat)\n",
    "    return None\n",
    "    "
   ]
  },
  {
   "cell_type": "code",
   "execution_count": 76,
   "metadata": {
    "ExecuteTime": {
     "end_time": "2020-04-22T18:16:33.133850Z",
     "start_time": "2020-04-22T18:16:32.658850Z"
    }
   },
   "outputs": [
    {
     "data": {
      "image/png": "[encoded data removed]",
      "text/plain": [
       "<Figure size 360x360 with 1 Axes>"
      ]
     },
     "metadata": {},
     "output_type": "display_data"
    }
   ],
   "source": [
    "plot_confusion_matrix(predictions)"
   ]
  },
  {
   "cell_type": "markdown",
   "metadata": {},
   "source": [
    "- Class 1 is the one predicted with the best confidence (also has the most datapoints)\n",
    "- Class 2 is misclassified into Class 1\n",
    "- The other classes are predicted with ~50% confidence"
   ]
  },
  {
   "cell_type": "markdown",
   "metadata": {},
   "source": [
    "### Find a minimal set of features"
   ]
  },
  {
   "cell_type": "code",
   "execution_count": 42,
   "metadata": {
    "ExecuteTime": {
     "end_time": "2020-04-22T16:20:01.843919Z",
     "start_time": "2020-04-22T16:20:01.812919Z"
    }
   },
   "outputs": [
    {
     "data": {
      "text/html": [
       "<div>\n",
       "<style scoped>\n",
       "    .dataframe tbody tr th:only-of-type {\n",
       "        vertical-align: middle;\n",
       "    }\n",
       "\n",
       "    .dataframe tbody tr th {\n",
       "        vertical-align: top;\n",
       "    }\n",
       "\n",
       "    .dataframe thead th {\n",
       "        text-align: right;\n",
       "    }\n",
       "</style>\n",
       "<table border=\"1\" class=\"dataframe\">\n",
       "  <thead>\n",
       "    <tr style=\"text-align: right;\">\n",
       "      <th></th>\n",
       "      <th>Strain</th>\n",
       "      <th>Class 1</th>\n",
       "      <th>Class 2</th>\n",
       "      <th>Class 3</th>\n",
       "      <th>Class 4</th>\n",
       "      <th>Class 5</th>\n",
       "      <th>Class 6</th>\n",
       "    </tr>\n",
       "  </thead>\n",
       "  <tbody>\n",
       "    <tr>\n",
       "      <td>0</td>\n",
       "      <td>strain.0</td>\n",
       "      <td>0.006386</td>\n",
       "      <td>0.0</td>\n",
       "      <td>0.000041</td>\n",
       "      <td>0.0</td>\n",
       "      <td>0.0</td>\n",
       "      <td>0.00000</td>\n",
       "    </tr>\n",
       "    <tr>\n",
       "      <td>1</td>\n",
       "      <td>strain.1</td>\n",
       "      <td>0.000000</td>\n",
       "      <td>0.0</td>\n",
       "      <td>0.000000</td>\n",
       "      <td>0.0</td>\n",
       "      <td>0.0</td>\n",
       "      <td>0.00000</td>\n",
       "    </tr>\n",
       "    <tr>\n",
       "      <td>2</td>\n",
       "      <td>strain.10</td>\n",
       "      <td>0.000000</td>\n",
       "      <td>0.0</td>\n",
       "      <td>0.000000</td>\n",
       "      <td>0.0</td>\n",
       "      <td>0.0</td>\n",
       "      <td>0.02011</td>\n",
       "    </tr>\n",
       "    <tr>\n",
       "      <td>3</td>\n",
       "      <td>strain.100</td>\n",
       "      <td>0.000000</td>\n",
       "      <td>0.0</td>\n",
       "      <td>0.000000</td>\n",
       "      <td>0.0</td>\n",
       "      <td>0.0</td>\n",
       "      <td>0.00000</td>\n",
       "    </tr>\n",
       "    <tr>\n",
       "      <td>4</td>\n",
       "      <td>strain.101</td>\n",
       "      <td>0.000000</td>\n",
       "      <td>0.0</td>\n",
       "      <td>0.000027</td>\n",
       "      <td>0.0</td>\n",
       "      <td>0.0</td>\n",
       "      <td>0.02210</td>\n",
       "    </tr>\n",
       "  </tbody>\n",
       "</table>\n",
       "</div>"
      ],
      "text/plain": [
       "       Strain   Class 1  Class 2   Class 3  Class 4  Class 5  Class 6\n",
       "0    strain.0  0.006386      0.0  0.000041      0.0      0.0  0.00000\n",
       "1    strain.1  0.000000      0.0  0.000000      0.0      0.0  0.00000\n",
       "2   strain.10  0.000000      0.0  0.000000      0.0      0.0  0.02011\n",
       "3  strain.100  0.000000      0.0  0.000000      0.0      0.0  0.00000\n",
       "4  strain.101  0.000000      0.0  0.000027      0.0      0.0  0.02210"
      ]
     },
     "execution_count": 42,
     "metadata": {},
     "output_type": "execute_result"
    }
   ],
   "source": [
    "feature_importances.head()"
   ]
  },
  {
   "cell_type": "markdown",
   "metadata": {},
   "source": [
    "Since logistic regression performs one vs all classification, we have a different set of feature importances for each Class"
   ]
  },
  {
   "cell_type": "code",
   "execution_count": 43,
   "metadata": {
    "ExecuteTime": {
     "end_time": "2020-04-22T16:20:04.221920Z",
     "start_time": "2020-04-22T16:20:04.174921Z"
    }
   },
   "outputs": [
    {
     "data": {
      "text/html": [
       "<div>\n",
       "<style scoped>\n",
       "    .dataframe tbody tr th:only-of-type {\n",
       "        vertical-align: middle;\n",
       "    }\n",
       "\n",
       "    .dataframe tbody tr th {\n",
       "        vertical-align: top;\n",
       "    }\n",
       "\n",
       "    .dataframe thead th {\n",
       "        text-align: right;\n",
       "    }\n",
       "</style>\n",
       "<table border=\"1\" class=\"dataframe\">\n",
       "  <thead>\n",
       "    <tr style=\"text-align: right;\">\n",
       "      <th></th>\n",
       "      <th>rank</th>\n",
       "      <th>Class</th>\n",
       "      <th>feature_importance</th>\n",
       "    </tr>\n",
       "  </thead>\n",
       "  <tbody>\n",
       "    <tr>\n",
       "      <td>0</td>\n",
       "      <td>0</td>\n",
       "      <td>Class 1</td>\n",
       "      <td>0.111136</td>\n",
       "    </tr>\n",
       "    <tr>\n",
       "      <td>1</td>\n",
       "      <td>1</td>\n",
       "      <td>Class 1</td>\n",
       "      <td>0.091930</td>\n",
       "    </tr>\n",
       "    <tr>\n",
       "      <td>2</td>\n",
       "      <td>2</td>\n",
       "      <td>Class 1</td>\n",
       "      <td>0.075371</td>\n",
       "    </tr>\n",
       "    <tr>\n",
       "      <td>3</td>\n",
       "      <td>3</td>\n",
       "      <td>Class 1</td>\n",
       "      <td>0.070978</td>\n",
       "    </tr>\n",
       "    <tr>\n",
       "      <td>4</td>\n",
       "      <td>4</td>\n",
       "      <td>Class 1</td>\n",
       "      <td>0.068950</td>\n",
       "    </tr>\n",
       "  </tbody>\n",
       "</table>\n",
       "</div>"
      ],
      "text/plain": [
       "   rank    Class  feature_importance\n",
       "0     0  Class 1            0.111136\n",
       "1     1  Class 1            0.091930\n",
       "2     2  Class 1            0.075371\n",
       "3     3  Class 1            0.070978\n",
       "4     4  Class 1            0.068950"
      ]
     },
     "execution_count": 43,
     "metadata": {},
     "output_type": "execute_result"
    }
   ],
   "source": [
    "#Create a df with the features for each class ranked and melt it to enable ggplotting\n",
    "feature_importances_ranked = pd.DataFrame({'rank': range(feature_importances.shape[0])})\n",
    "feature_importances_ranked[class_names] = feature_importances[class_names].apply(lambda col: col.sort_values(ascending=False).values, axis=0)\n",
    "feature_importances_ranked = feature_importances_ranked.melt(id_vars = 'rank', value_name='feature_importance', var_name='Class')\n",
    "feature_importances_ranked.head()"
   ]
  },
  {
   "cell_type": "code",
   "execution_count": 60,
   "metadata": {
    "ExecuteTime": {
     "end_time": "2020-04-22T16:30:56.020045Z",
     "start_time": "2020-04-22T16:30:55.573427Z"
    }
   },
   "outputs": [
    {
     "data": {
      "image/png": "[encoded data removed]",
      "text/plain": [
       "<Figure size 1000x300 with 1 Axes>"
      ]
     },
     "metadata": {},
     "output_type": "display_data"
    },
    {
     "data": {
      "text/plain": [
       "<ggplot: (141448964956)>"
      ]
     },
     "execution_count": 60,
     "metadata": {},
     "output_type": "execute_result"
    }
   ],
   "source": [
    "(ggplot(feature_importances_ranked, aes(x='rank', y='feature_importance', color='Class'))\n",
    "+geom_line(size=1.0)\n",
    "+theme_light()\n",
    "+theme(figure_size=(10,3))\n",
    "+scale_x_continuous(breaks=list(range(0,451, 50)))\n",
    "+xlab('Rank')\n",
    "+ylab('Feature Importance')\n",
    "+scale_color_brewer(type='qual', palette='Set1'))"
   ]
  },
  {
   "cell_type": "markdown",
   "metadata": {},
   "source": [
    "From the graph: If we extract the top 75 features for each class and merge them, we will obtain a set of required features"
   ]
  },
  {
   "cell_type": "code",
   "execution_count": 45,
   "metadata": {
    "ExecuteTime": {
     "end_time": "2020-04-22T16:20:16.375460Z",
     "start_time": "2020-04-22T16:20:16.365076Z"
    }
   },
   "outputs": [],
   "source": [
    "def extract_useful_features(col, n):\n",
    "    largest = col.nlargest(n)\n",
    "    largest = largest[largest!=0]\n",
    "    return largest.index.to_list()    "
   ]
  },
  {
   "cell_type": "code",
   "execution_count": 46,
   "metadata": {
    "ExecuteTime": {
     "end_time": "2020-04-22T16:20:17.723636Z",
     "start_time": "2020-04-22T16:20:17.679642Z"
    }
   },
   "outputs": [
    {
     "name": "stdout",
     "output_type": "stream",
     "text": [
      "Number of features in the minimum feature set: 227\n"
     ]
    }
   ],
   "source": [
    "feature_importances = feature_importances.set_index('Strain')\n",
    "minimal_features = list(set(feature_importances[class_names].apply(extract_useful_features, args=(75,)).sum()))\n",
    "print(f\"Number of features in the minimum feature set: {len(minimal_features)}\")"
   ]
  },
  {
   "cell_type": "markdown",
   "metadata": {},
   "source": [
    "Within the minimal set, what is the distribution of feature importances?"
   ]
  },
  {
   "cell_type": "code",
   "execution_count": 47,
   "metadata": {
    "ExecuteTime": {
     "end_time": "2020-04-22T16:20:25.119252Z",
     "start_time": "2020-04-22T16:20:25.098263Z"
    }
   },
   "outputs": [],
   "source": [
    "#create df with minimal_features and sum the importances across classes\n",
    "feature_importances = feature_importances.reset_index()\n",
    "feature_importances_filt = feature_importances[feature_importances['Strain'].isin(minimal_features)]\n",
    "feature_importances_filt['total_importance'] = feature_importances_filt[class_names].sum(axis=1)"
   ]
  },
  {
   "cell_type": "code",
   "execution_count": 89,
   "metadata": {
    "ExecuteTime": {
     "end_time": "2020-04-22T18:28:51.415226Z",
     "start_time": "2020-04-22T18:28:51.397230Z"
    }
   },
   "outputs": [],
   "source": [
    "def plot_importances(df:pd.DataFrame, strain_col:str, imp_col:str)->ggplot:\n",
    "    \"\"\"\n",
    "    Takes in a DataFrame with columns corresponding to strain and importances.\n",
    "    Displays a column plot with indicated x and y co-ordinates for the top 50 strains\n",
    "    \"\"\"\n",
    "    #make 'Strain' a categorical column for ggplotting\n",
    "    strains_sorted = df.sort_values(by=imp_col, ascending=False)[strain_col].values\n",
    "    df[strain_col] = pd.Categorical(df[strain_col], strains_sorted, ordered=True)\n",
    "    \n",
    "    return (ggplot(df.iloc[1:50], aes(x=strain_col, y=imp_col, fill=imp_col))\n",
    "    +geom_col()\n",
    "    +theme_light()\n",
    "    +theme(figure_size=(10,3), axis_text_x=element_text(angle=90), legend_position='none')\n",
    "    +ylab(\"Feature importance\") \n",
    "    +xlab(\"\")\n",
    "    +scale_fill_cmap(name='plasma')\n",
    "    )\n",
    "    "
   ]
  },
  {
   "cell_type": "code",
   "execution_count": 90,
   "metadata": {
    "ExecuteTime": {
     "end_time": "2020-04-22T18:28:54.420235Z",
     "start_time": "2020-04-22T18:28:53.190234Z"
    }
   },
   "outputs": [
    {
     "data": {
      "image/png": "[encoded data removed]",
      "text/plain": [
       "<Figure size 1000x300 with 1 Axes>"
      ]
     },
     "metadata": {},
     "output_type": "display_data"
    },
    {
     "data": {
      "text/plain": [
       "<ggplot: (-9223371895405515411)>"
      ]
     },
     "execution_count": 90,
     "metadata": {},
     "output_type": "execute_result"
    }
   ],
   "source": [
    "plot_importances(feature_importances_filt, 'Strain', 'total_importance')"
   ]
  },
  {
   "cell_type": "markdown",
   "metadata": {
    "ExecuteTime": {
     "end_time": "2020-04-22T16:27:10.075805Z",
     "start_time": "2020-04-22T16:27:10.062807Z"
    }
   },
   "source": [
    "Strain.110 is disproportionately important!"
   ]
  },
  {
   "cell_type": "markdown",
   "metadata": {},
   "source": [
    "## Random Forest"
   ]
  },
  {
   "cell_type": "markdown",
   "metadata": {},
   "source": [
    "Since logistic regression only models linear relationships, I decided to also fit the model to a Random Forest estimator that can use non-linear relationships between the data for prediction"
   ]
  },
  {
   "cell_type": "markdown",
   "metadata": {},
   "source": [
    "### Select hyperparameters"
   ]
  },
  {
   "cell_type": "markdown",
   "metadata": {},
   "source": [
    "I decided to focus on two hyperparameters, n_estimators and max_depth"
   ]
  },
  {
   "cell_type": "code",
   "execution_count": 452,
   "metadata": {
    "ExecuteTime": {
     "end_time": "2020-04-22T15:51:11.221820Z",
     "start_time": "2020-04-22T15:51:11.202812Z"
    }
   },
   "outputs": [],
   "source": [
    "def random_forest_vanilla(df: pd.DataFrame, n_estimators: int, max_depth: int) -> int:\n",
    "    \"\"\"\n",
    "    Fits a random forest with the specified n_estimators and max_depth. \n",
    "    Uses LOGO for CV and SMOTE for correcting class imbalances. \n",
    "    Returns the cross-entropy loss.\n",
    "    \"\"\"\n",
    "    X = df.filter(regex=('\\.')).values\n",
    "    y = df['Class'].values\n",
    "    groups = df['Drug'].values\n",
    "    n_classes = df['Class'].nunique()\n",
    "    logo = LeaveOneGroupOut()\n",
    "    predictions = np.full([len(y), n_classes], np.nan)\n",
    "    for train_ind, test_ind in logo.split(X, y, groups):\n",
    "        X_train, y_train= SMOTE().fit_sample(X[train_ind], y[train_ind])\n",
    "        X_test, y_test = X[test_ind], y[test_ind]   \n",
    "        model = RandomForestClassifier(n_estimators=n_estimators, max_depth=max_depth)\n",
    "        model.fit(X_train, y_train)\n",
    "        predictions[test_ind] = model.predict_proba(X_test)    \n",
    "    ce = log_loss(y, predictions)\n",
    "    return ce\n",
    "    "
   ]
  },
  {
   "cell_type": "code",
   "execution_count": 368,
   "metadata": {
    "ExecuteTime": {
     "end_time": "2020-04-20T21:06:12.654870Z",
     "start_time": "2020-04-20T20:53:30.849135Z"
    },
    "deletable": false,
    "editable": false
   },
   "outputs": [
    {
     "name": "stdout",
     "output_type": "stream",
     "text": [
      "n_estimators: 5, max_depth: 5, cross-entropy-loss: 1.7722560290498246\n",
      "n_estimators: 5, max_depth: 10, cross-entropy-loss: 3.498907229429203\n",
      "n_estimators: 5, max_depth: 20, cross-entropy-loss: 6.470737181711466\n",
      "n_estimators: 10, max_depth: 5, cross-entropy-loss: 1.5031186031691626\n",
      "n_estimators: 10, max_depth: 10, cross-entropy-loss: 1.8925465201445033\n",
      "n_estimators: 10, max_depth: 20, cross-entropy-loss: 3.324013160437168\n",
      "n_estimators: 25, max_depth: 5, cross-entropy-loss: 1.3997813348738954\n",
      "n_estimators: 25, max_depth: 10, cross-entropy-loss: 1.2908506512001783\n",
      "n_estimators: 25, max_depth: 20, cross-entropy-loss: 1.7138841040204775\n",
      "n_estimators: 50, max_depth: 5, cross-entropy-loss: 1.3830235292899293\n",
      "n_estimators: 50, max_depth: 10, cross-entropy-loss: 1.1874792738568833\n",
      "n_estimators: 50, max_depth: 20, cross-entropy-loss: 1.420956505898267\n"
     ]
    }
   ],
   "source": [
    "for n_estimators in [5, 10, 25, 50]:\n",
    "    for max_depth in [5, 10, 20]:\n",
    "        print (f\"n_estimators: {n_estimators}, max_depth: {max_depth}, cross-entropy-loss: {random_forest_vanilla(df, n_estimators, max_depth)}\")"
   ]
  },
  {
   "cell_type": "markdown",
   "metadata": {},
   "source": [
    "n_estimators = 50 and max_depth = 10 gives the lowest loss"
   ]
  },
  {
   "cell_type": "markdown",
   "metadata": {},
   "source": [
    "### Fit model on selected hyperparameters "
   ]
  },
  {
   "cell_type": "code",
   "execution_count": 94,
   "metadata": {
    "ExecuteTime": {
     "end_time": "2020-04-22T18:32:28.690125Z",
     "start_time": "2020-04-22T18:32:28.666124Z"
    }
   },
   "outputs": [],
   "source": [
    "def random_forest(df: pd.DataFrame, n_estimators: int, max_depth: int) -> (int, pd.DataFrame, pd.DataFrame):\n",
    "    \"\"\"\n",
    "    Adapts random_forest_vanilla to output cross entropy loss, predictions and feature importances. \n",
    "    The importances are averaged over each LOGO iteration.\n",
    "    \"\"\"\n",
    "    X = df.filter(regex=('\\.')).values\n",
    "    y = df['Class'].values\n",
    "    groups = df['Drug'].values\n",
    "    n_classes = df['Class'].nunique()\n",
    "    predictions = np.full([len(y), n_classes], np.nan)\n",
    "    logo = LeaveOneGroupOut()\n",
    "    feature_importances  = np.zeros(X.shape[1])\n",
    "    for train_ind, test_ind in logo.split(X, y, groups):\n",
    "        X_train, y_train= SMOTE().fit_sample(X[train_ind], y[train_ind])\n",
    "        X_test, y_test = X[test_ind], y[test_ind]   \n",
    "        model = RandomForestClassifier(n_estimators=n_estimators, max_depth=max_depth)\n",
    "        model.fit(X_train, y_train)\n",
    "        predictions[test_ind] = model.predict_proba(X_test)\n",
    "        feature_importances += model.feature_importances_\n",
    "        \n",
    "    #format predictions and feature importances before output\n",
    "    loss = log_loss(y, predictions)\n",
    "    predictions = pd.DataFrame(predictions, columns= model.classes_)\n",
    "    predictions = predictions.merge(df[['Drug', 'Class']], left_index=True, right_index=True)\n",
    "    feature_importances = feature_importances/len(groups)\n",
    "    feature_importances = pd.Series(feature_importances, index=df.filter(regex=('\\.')).columns)\n",
    "    return loss, predictions, feature_importances\n",
    "    "
   ]
  },
  {
   "cell_type": "code",
   "execution_count": 95,
   "metadata": {
    "ExecuteTime": {
     "end_time": "2020-04-22T18:35:28.624298Z",
     "start_time": "2020-04-22T18:32:30.005125Z"
    }
   },
   "outputs": [],
   "source": [
    "rf_log_loss, rf_predictions, rf_feature_importances = random_forest(df, n_estimators=50, max_depth=10)"
   ]
  },
  {
   "cell_type": "code",
   "execution_count": 96,
   "metadata": {
    "ExecuteTime": {
     "end_time": "2020-04-22T18:35:30.649508Z",
     "start_time": "2020-04-22T18:35:30.387506Z"
    }
   },
   "outputs": [
    {
     "data": {
      "image/png": "[encoded data removed]",
      "text/plain": [
       "<Figure size 360x360 with 1 Axes>"
      ]
     },
     "metadata": {},
     "output_type": "display_data"
    }
   ],
   "source": [
    "plot_confusion_matrix(rf_predictions)"
   ]
  },
  {
   "cell_type": "markdown",
   "metadata": {},
   "source": [
    "- Compared to logistic regression, the Random Forest model performs worse. \n",
    "- There appears to be substantial bias towards Class 1 in spite of correcting class imbalancing with SMOTE. \n",
    "- Neither models can accurately classify Class 2"
   ]
  },
  {
   "cell_type": "markdown",
   "metadata": {},
   "source": [
    "### Find important features"
   ]
  },
  {
   "cell_type": "code",
   "execution_count": 101,
   "metadata": {
    "ExecuteTime": {
     "end_time": "2020-04-22T18:36:13.145366Z",
     "start_time": "2020-04-22T18:36:12.305370Z"
    }
   },
   "outputs": [
    {
     "data": {
      "image/png": "[encoded data removed]",
      "text/plain": [
       "<Figure size 1000x300 with 1 Axes>"
      ]
     },
     "metadata": {},
     "output_type": "display_data"
    },
    {
     "data": {
      "text/plain": [
       "<ggplot: (141448460008)>"
      ]
     },
     "execution_count": 101,
     "metadata": {},
     "output_type": "execute_result"
    }
   ],
   "source": [
    "rf_feature_importances_df = pd.DataFrame(rf_feature_importances).reset_index()\n",
    "rf_feature_importances_df.columns=['Strain', 'importances']\n",
    "plot_importances(rf_feature_importances_df, 'Strain', 'importances')"
   ]
  },
  {
   "cell_type": "markdown",
   "metadata": {},
   "source": [
    "Strain 110 is the most useful feature, similar to logistic regression. The second and subsequent most important features differ between logistic regression and random forest"
   ]
  },
  {
   "cell_type": "markdown",
   "metadata": {},
   "source": [
    "While the distribution of feature importances informs us about which are the top n features, it's difficult to assess how big the subset of features selected for the next experiment should be. For example, should one use the top 20 features? The top 100?\n",
    "\n",
    "One way to answer this is by recursive feature elimination where you iterate through and fit datasets with an increasingly smaller number of features and estimate loss"
   ]
  },
  {
   "cell_type": "code",
   "execution_count": 102,
   "metadata": {
    "ExecuteTime": {
     "end_time": "2020-04-22T19:03:53.150342Z",
     "start_time": "2020-04-22T19:03:53.141341Z"
    }
   },
   "outputs": [],
   "source": [
    "def RFE_rf(df: pd.DataFrame, n_estimators:int, max_depth:int)->(list, list):\n",
    "    \"\"\"\n",
    "    Takes in the chemical genomics dataframe and subjects it to recursive feature elimination by fitting the data \n",
    "    to a random forest with the specified n_estimators and max_depth. \n",
    "    Returns a list of the least important features and the cross entropy loss at each step\n",
    "    \"\"\"\n",
    "    features_to_remove=[]\n",
    "    log_losses = []\n",
    "    all_features = df.filter(regex='\\.').columns\n",
    "    while len(all_features)-len(features_to_remove)>1:\n",
    "        if len(features_to_remove)%50==0:\n",
    "            print (f\"{len(features_to_remove)} features removed\")\n",
    "        df_dropped = df.drop(columns=features_to_remove)\n",
    "        log_loss, _, feature_importances = random_forest(df_dropped, n_estimators, max_depth)\n",
    "        log_losses.append(log_loss)\n",
    "        features_to_remove.append(feature_importances.idxmin())\n",
    "    return features_to_remove[:-1], log_losses                         "
   ]
  },
  {
   "cell_type": "code",
   "execution_count": 404,
   "metadata": {
    "ExecuteTime": {
     "end_time": "2020-04-22T09:45:32.894135Z",
     "start_time": "2020-04-21T21:58:49.374571Z"
    },
    "deletable": false,
    "editable": false
   },
   "outputs": [
    {
     "name": "stdout",
     "output_type": "stream",
     "text": [
      "0 features removed\n",
      "50 features removed\n",
      "100 features removed\n",
      "150 features removed\n",
      "200 features removed\n",
      "250 features removed\n",
      "300 features removed\n",
      "350 features removed\n",
      "400 features removed\n"
     ]
    }
   ],
   "source": [
    "features_to_remove, log_losses = RFE_rf(df, n_estimators=50, max_depth=10)"
   ]
  },
  {
   "cell_type": "code",
   "execution_count": 405,
   "metadata": {
    "ExecuteTime": {
     "end_time": "2020-04-22T13:20:27.987004Z",
     "start_time": "2020-04-22T13:20:27.967997Z"
    },
    "deletable": false,
    "editable": false
   },
   "outputs": [],
   "source": [
    "#save files\n",
    "with open('Model_outputs/features_RFE.pkl', 'wb') as f:\n",
    "    pickle.dump(features_to_remove, f)\n",
    "with open('Model_outputs/log_loss_RFE.pkl', 'wb') as f:\n",
    "    pickle.dump(log_losses, f)"
   ]
  },
  {
   "cell_type": "code",
   "execution_count": 104,
   "metadata": {
    "ExecuteTime": {
     "end_time": "2020-04-22T19:05:38.527003Z",
     "start_time": "2020-04-22T19:05:38.516966Z"
    }
   },
   "outputs": [],
   "source": [
    "#read files\n",
    "with open('Model_outputs/features_RFE.pkl', 'rb') as f:\n",
    "    features_to_remove = pickle.load(f)\n",
    "with open('Model_outputs/log_loss_RFE.pkl', 'rb') as f:\n",
    "    log_losses = pickle.load(f)"
   ]
  },
  {
   "cell_type": "code",
   "execution_count": 121,
   "metadata": {
    "ExecuteTime": {
     "end_time": "2020-04-22T19:16:28.994284Z",
     "start_time": "2020-04-22T19:16:28.987592Z"
    }
   },
   "outputs": [],
   "source": [
    "loss_df = pd.DataFrame({'Number_of_features_removed': range(len(log_losses)), 'cross_entropy_loss': log_losses})"
   ]
  },
  {
   "cell_type": "code",
   "execution_count": 112,
   "metadata": {
    "ExecuteTime": {
     "end_time": "2020-04-22T19:12:15.344385Z",
     "start_time": "2020-04-22T19:12:14.851386Z"
    }
   },
   "outputs": [
    {
     "data": {
      "image/png": "[encoded data removed]",
      "text/plain": [
       "<Figure size 1000x300 with 1 Axes>"
      ]
     },
     "metadata": {},
     "output_type": "display_data"
    },
    {
     "data": {
      "text/plain": [
       "<ggplot: (141452079708)>"
      ]
     },
     "execution_count": 112,
     "metadata": {},
     "output_type": "execute_result"
    }
   ],
   "source": [
    "(ggplot(loss_df, aes(x='Number_of_features_removed', y='cross_entropy_loss', color='cross_entropy_loss'))\n",
    "+geom_point()\n",
    "+theme_light()\n",
    "+theme(figure_size=(10,3), legend_position='none')\n",
    "+scale_color_cmap(name='plasma_r')\n",
    "+scale_x_continuous(breaks=list(range(0,430,25)))\n",
    "+xlab(\"Number of features removed\")\n",
    "+ylab(\"Cross-entropy loss\")\n",
    ")"
   ]
  },
  {
   "cell_type": "markdown",
   "metadata": {
    "ExecuteTime": {
     "end_time": "2020-04-22T21:36:54.512718Z",
     "start_time": "2020-04-22T21:36:54.504719Z"
    }
   },
   "source": [
    "- The loss decreases as features are removed, upto ~400 features, after which we see an increase in the loss.\n",
    "- A subset of the top ~25 features likely provides the best predictions"
   ]
  },
  {
   "cell_type": "markdown",
   "metadata": {},
   "source": [
    "If we remove the lowest 400 features, what are the features that remain? How much of a difference in the loss is incurred by removing each?"
   ]
  },
  {
   "cell_type": "code",
   "execution_count": 152,
   "metadata": {
    "ExecuteTime": {
     "end_time": "2020-04-22T21:17:50.094819Z",
     "start_time": "2020-04-22T21:17:50.078821Z"
    }
   },
   "outputs": [
    {
     "name": "stdout",
     "output_type": "stream",
     "text": [
      "['strain.110', 'strain.416', 'strain.393', 'strain.425', 'strain.331', 'strain.433', 'strain.232', 'strain.428', 'strain.46', 'strain.63', 'strain.44', 'strain.17', 'strain.240', 'strain.61', 'strain.170', 'strain.424', 'strain.420', 'strain.23', 'strain.418', 'strain.236', 'strain.233', 'strain.244', 'strain.415', 'strain.303', 'strain.148']\n"
     ]
    }
   ],
   "source": [
    "all_features = df.filter(regex='\\.').columns\n",
    "minimal_features_rf = list(set(all_features) - set(features_to_remove[:400]))\n",
    "print(minimal_features_rf)"
   ]
  },
  {
   "cell_type": "code",
   "execution_count": 157,
   "metadata": {
    "ExecuteTime": {
     "end_time": "2020-04-22T21:20:57.841313Z",
     "start_time": "2020-04-22T21:20:57.832307Z"
    }
   },
   "outputs": [
    {
     "name": "stdout",
     "output_type": "stream",
     "text": [
      "Strains identified as important by RF but not by LR: {'strain.425', 'strain.420', 'strain.148', 'strain.393'}\n"
     ]
    }
   ],
   "source": [
    "print(f\"Strains identified as important by RF but not by LR: {set(minimal_features_rf).difference(set(minimal_features))}\")"
   ]
  },
  {
   "cell_type": "markdown",
   "metadata": {
    "heading_collapsed": true
   },
   "source": [
    "## Overall conclusions"
   ]
  },
  {
   "cell_type": "markdown",
   "metadata": {
    "hidden": true
   },
   "source": [
    "- In spite of losing 30% of data due to QC issues, we are able to predict drug classes based on strain sensitivity profiles\n",
    "- Logistic Regression works better than Random Forest\n",
    "- Prediction is strongest for data from class 1 (Accuracy: 70%), but lower for other classes\n",
    "- Class 2 has a very poor prediction accuracy. More data for drugs from this class would likely help improve predictions\n",
    "\n",
    "\n",
    "- Drug susceptibility of Strain.110 is a very strong predictor of drug class\n",
    "- The number of features required for accurate prediction might be between ~25-250. Since we have not covered all possible drug classes in this data, it would be prudent to keep ~250 strains in the next experiment, since they may be useful predictors for unseen drug classes"
   ]
  }
 ],
 "metadata": {
  "kernelspec": {
   "display_name": "Python 3",
   "language": "python",
   "name": "python3"
  },
  "language_info": {
   "codemirror_mode": {
    "name": "ipython",
    "version": 3
   },
   "file_extension": ".py",
   "mimetype": "text/x-python",
   "name": "python",
   "nbconvert_exporter": "python",
   "pygments_lexer": "ipython3",
   "version": "3.7.3"
  },
  "toc": {
   "base_numbering": 1,
   "nav_menu": {},
   "number_sections": true,
   "sideBar": true,
   "skip_h1_title": false,
   "title_cell": "Table of Contents",
   "title_sidebar": "Contents",
   "toc_cell": false,
   "toc_position": {},
   "toc_section_display": true,
   "toc_window_display": false
  },
  "varInspector": {
   "cols": {
    "lenName": 16,
    "lenType": 16,
    "lenVar": 40
   },
   "kernels_config": {
    "python": {
     "delete_cmd_postfix": "",
     "delete_cmd_prefix": "del ",
     "library": "var_list.py",
     "varRefreshCmd": "print(var_dic_list())"
    },
    "r": {
     "delete_cmd_postfix": ") ",
     "delete_cmd_prefix": "rm(",
     "library": "var_list.r",
     "varRefreshCmd": "cat(var_dic_list()) "
    }
   },
   "types_to_exclude": [
    "module",
    "function",
    "builtin_function_or_method",
    "instance",
    "_Feature"
   ],
   "window_display": false
  }
 },
 "nbformat": 4,
 "nbformat_minor": 2
}
