{
 "cells": [
  {
   "cell_type": "markdown",
   "metadata": {},
   "source": [
    "After excluding the bad PCRs, is the remaining data sufficient to predict drug classes?"
   ]
  },
  {
   "cell_type": "code",
   "execution_count": 202,
   "metadata": {
    "ExecuteTime": {
     "end_time": "2020-04-20T15:27:11.119668Z",
     "start_time": "2020-04-20T15:27:11.100115Z"
    }
   },
   "outputs": [],
   "source": [
    "import pandas as pd\n",
    "pd.set_option('mode.chained_assignment', None)\n",
    "import pathlib\n",
    "from plotnine import *\n",
    "\n",
    "from sklearn.metrics import log_loss\n",
    "from sklearn.model_selection import LeaveOneGroupOut\n",
    "from sklearn.linear_model import LogisticRegression\n",
    "\n",
    "from imblearn.over_sampling import SMOTE\n",
    "\n",
    "from tqdm import tqdm"
   ]
  },
  {
   "cell_type": "code",
   "execution_count": 57,
   "metadata": {
    "ExecuteTime": {
     "end_time": "2020-04-20T14:20:52.512650Z",
     "start_time": "2020-04-20T14:20:52.219109Z"
    }
   },
   "outputs": [],
   "source": [
    "df = pd.read_csv(pathlib.Path.cwd().joinpath('Analysis','8-Clean_for_ML', 'HypoIII_for_ML_encoded.csv'))"
   ]
  },
  {
   "cell_type": "code",
   "execution_count": 58,
   "metadata": {
    "ExecuteTime": {
     "end_time": "2020-04-20T14:20:52.544637Z",
     "start_time": "2020-04-20T14:20:52.514636Z"
    }
   },
   "outputs": [
    {
     "data": {
      "text/html": [
       "<div>\n",
       "<style scoped>\n",
       "    .dataframe tbody tr th:only-of-type {\n",
       "        vertical-align: middle;\n",
       "    }\n",
       "\n",
       "    .dataframe tbody tr th {\n",
       "        vertical-align: top;\n",
       "    }\n",
       "\n",
       "    .dataframe thead th {\n",
       "        text-align: right;\n",
       "    }\n",
       "</style>\n",
       "<table border=\"1\" class=\"dataframe\">\n",
       "  <thead>\n",
       "    <tr style=\"text-align: right;\">\n",
       "      <th></th>\n",
       "      <th>Drug</th>\n",
       "      <th>Conc</th>\n",
       "      <th>Replicate</th>\n",
       "      <th>strain.0</th>\n",
       "      <th>strain.1</th>\n",
       "      <th>strain.10</th>\n",
       "      <th>strain.100</th>\n",
       "      <th>strain.101</th>\n",
       "      <th>strain.102</th>\n",
       "      <th>strain.103</th>\n",
       "      <th>...</th>\n",
       "      <th>strain.91</th>\n",
       "      <th>strain.92</th>\n",
       "      <th>strain.93</th>\n",
       "      <th>strain.94</th>\n",
       "      <th>strain.95</th>\n",
       "      <th>strain.96</th>\n",
       "      <th>strain.97</th>\n",
       "      <th>strain.98</th>\n",
       "      <th>strain.99</th>\n",
       "      <th>Class</th>\n",
       "    </tr>\n",
       "  </thead>\n",
       "  <tbody>\n",
       "    <tr>\n",
       "      <td>0</td>\n",
       "      <td>drug_0</td>\n",
       "      <td>2xMIC</td>\n",
       "      <td>1</td>\n",
       "      <td>0.359612</td>\n",
       "      <td>-0.911401</td>\n",
       "      <td>1.554297</td>\n",
       "      <td>0.069421</td>\n",
       "      <td>-2.972960</td>\n",
       "      <td>1.185445</td>\n",
       "      <td>0.421721</td>\n",
       "      <td>...</td>\n",
       "      <td>0.176432</td>\n",
       "      <td>0.449538</td>\n",
       "      <td>0.131855</td>\n",
       "      <td>-0.794105</td>\n",
       "      <td>1.381503</td>\n",
       "      <td>-0.938048</td>\n",
       "      <td>-2.939168</td>\n",
       "      <td>1.492050</td>\n",
       "      <td>-0.387570</td>\n",
       "      <td>Class 4</td>\n",
       "    </tr>\n",
       "    <tr>\n",
       "      <td>1</td>\n",
       "      <td>drug_0</td>\n",
       "      <td>2xMIC</td>\n",
       "      <td>2</td>\n",
       "      <td>0.922680</td>\n",
       "      <td>0.156397</td>\n",
       "      <td>1.587909</td>\n",
       "      <td>0.587814</td>\n",
       "      <td>0.183369</td>\n",
       "      <td>0.565838</td>\n",
       "      <td>1.133654</td>\n",
       "      <td>...</td>\n",
       "      <td>0.702362</td>\n",
       "      <td>0.783339</td>\n",
       "      <td>0.747126</td>\n",
       "      <td>0.113741</td>\n",
       "      <td>1.673887</td>\n",
       "      <td>-0.256643</td>\n",
       "      <td>-0.483839</td>\n",
       "      <td>1.684535</td>\n",
       "      <td>1.228144</td>\n",
       "      <td>Class 4</td>\n",
       "    </tr>\n",
       "    <tr>\n",
       "      <td>2</td>\n",
       "      <td>drug_0</td>\n",
       "      <td>2xMIC</td>\n",
       "      <td>3</td>\n",
       "      <td>1.003276</td>\n",
       "      <td>0.171781</td>\n",
       "      <td>1.870643</td>\n",
       "      <td>0.381407</td>\n",
       "      <td>-0.678374</td>\n",
       "      <td>1.030591</td>\n",
       "      <td>1.469478</td>\n",
       "      <td>...</td>\n",
       "      <td>0.911449</td>\n",
       "      <td>0.944320</td>\n",
       "      <td>0.480790</td>\n",
       "      <td>-0.326351</td>\n",
       "      <td>1.691710</td>\n",
       "      <td>0.168192</td>\n",
       "      <td>-0.834700</td>\n",
       "      <td>1.609109</td>\n",
       "      <td>1.397204</td>\n",
       "      <td>Class 4</td>\n",
       "    </tr>\n",
       "    <tr>\n",
       "      <td>3</td>\n",
       "      <td>drug_0</td>\n",
       "      <td>2xMIC</td>\n",
       "      <td>4</td>\n",
       "      <td>1.825450</td>\n",
       "      <td>0.914839</td>\n",
       "      <td>1.976140</td>\n",
       "      <td>1.693167</td>\n",
       "      <td>0.974058</td>\n",
       "      <td>2.142402</td>\n",
       "      <td>2.025873</td>\n",
       "      <td>...</td>\n",
       "      <td>1.264043</td>\n",
       "      <td>1.414149</td>\n",
       "      <td>1.483434</td>\n",
       "      <td>0.833600</td>\n",
       "      <td>2.156906</td>\n",
       "      <td>1.275261</td>\n",
       "      <td>1.326924</td>\n",
       "      <td>2.090184</td>\n",
       "      <td>1.211598</td>\n",
       "      <td>Class 4</td>\n",
       "    </tr>\n",
       "    <tr>\n",
       "      <td>4</td>\n",
       "      <td>drug_0</td>\n",
       "      <td>2xMIC</td>\n",
       "      <td>5</td>\n",
       "      <td>1.862371</td>\n",
       "      <td>0.871132</td>\n",
       "      <td>1.937450</td>\n",
       "      <td>1.371979</td>\n",
       "      <td>0.936343</td>\n",
       "      <td>1.996058</td>\n",
       "      <td>2.160803</td>\n",
       "      <td>...</td>\n",
       "      <td>1.460437</td>\n",
       "      <td>1.147487</td>\n",
       "      <td>1.533885</td>\n",
       "      <td>1.618346</td>\n",
       "      <td>2.086125</td>\n",
       "      <td>0.782927</td>\n",
       "      <td>0.709278</td>\n",
       "      <td>2.169011</td>\n",
       "      <td>1.499092</td>\n",
       "      <td>Class 4</td>\n",
       "    </tr>\n",
       "  </tbody>\n",
       "</table>\n",
       "<p>5 rows × 429 columns</p>\n",
       "</div>"
      ],
      "text/plain": [
       "     Drug   Conc  Replicate  strain.0  strain.1  strain.10  strain.100  \\\n",
       "0  drug_0  2xMIC          1  0.359612 -0.911401   1.554297    0.069421   \n",
       "1  drug_0  2xMIC          2  0.922680  0.156397   1.587909    0.587814   \n",
       "2  drug_0  2xMIC          3  1.003276  0.171781   1.870643    0.381407   \n",
       "3  drug_0  2xMIC          4  1.825450  0.914839   1.976140    1.693167   \n",
       "4  drug_0  2xMIC          5  1.862371  0.871132   1.937450    1.371979   \n",
       "\n",
       "   strain.101  strain.102  strain.103  ...  strain.91  strain.92  strain.93  \\\n",
       "0   -2.972960    1.185445    0.421721  ...   0.176432   0.449538   0.131855   \n",
       "1    0.183369    0.565838    1.133654  ...   0.702362   0.783339   0.747126   \n",
       "2   -0.678374    1.030591    1.469478  ...   0.911449   0.944320   0.480790   \n",
       "3    0.974058    2.142402    2.025873  ...   1.264043   1.414149   1.483434   \n",
       "4    0.936343    1.996058    2.160803  ...   1.460437   1.147487   1.533885   \n",
       "\n",
       "   strain.94  strain.95  strain.96  strain.97  strain.98  strain.99    Class  \n",
       "0  -0.794105   1.381503  -0.938048  -2.939168   1.492050  -0.387570  Class 4  \n",
       "1   0.113741   1.673887  -0.256643  -0.483839   1.684535   1.228144  Class 4  \n",
       "2  -0.326351   1.691710   0.168192  -0.834700   1.609109   1.397204  Class 4  \n",
       "3   0.833600   2.156906   1.275261   1.326924   2.090184   1.211598  Class 4  \n",
       "4   1.618346   2.086125   0.782927   0.709278   2.169011   1.499092  Class 4  \n",
       "\n",
       "[5 rows x 429 columns]"
      ]
     },
     "execution_count": 58,
     "metadata": {},
     "output_type": "execute_result"
    }
   ],
   "source": [
    "df.head()"
   ]
  },
  {
   "cell_type": "code",
   "execution_count": 139,
   "metadata": {
    "ExecuteTime": {
     "end_time": "2020-04-20T15:03:47.434204Z",
     "start_time": "2020-04-20T15:03:46.846209Z"
    }
   },
   "outputs": [
    {
     "data": {
      "image/png": "[encoded data removed]",
      "text/plain": [
       "<Figure size 400x400 with 1 Axes>"
      ]
     },
     "metadata": {
      "needs_background": "light"
     },
     "output_type": "display_data"
    },
    {
     "data": {
      "text/plain": [
       "<ggplot: (-9223371915744484678)>"
      ]
     },
     "execution_count": 139,
     "metadata": {},
     "output_type": "execute_result"
    }
   ],
   "source": [
    "(ggplot(df, aes(x='Class', fill='Class'))\n",
    " +geom_bar()\n",
    " +theme_minimal()\n",
    " +theme(figure_size=(4,4))\n",
    " +scale_fill_brewer(type='qual', palette='Set1'))"
   ]
  },
  {
   "cell_type": "code",
   "execution_count": 60,
   "metadata": {
    "ExecuteTime": {
     "end_time": "2020-04-20T14:20:53.108271Z",
     "start_time": "2020-04-20T14:20:53.080173Z"
    }
   },
   "outputs": [],
   "source": [
    "df = df[~df['Class'].isna()]\n",
    "df = df.sort_values(by=['Class', 'Drug']).reset_index()"
   ]
  },
  {
   "cell_type": "code",
   "execution_count": 61,
   "metadata": {
    "ExecuteTime": {
     "end_time": "2020-04-20T14:20:53.155298Z",
     "start_time": "2020-04-20T14:20:53.117275Z"
    }
   },
   "outputs": [
    {
     "data": {
      "text/html": [
       "<div>\n",
       "<style scoped>\n",
       "    .dataframe tbody tr th:only-of-type {\n",
       "        vertical-align: middle;\n",
       "    }\n",
       "\n",
       "    .dataframe tbody tr th {\n",
       "        vertical-align: top;\n",
       "    }\n",
       "\n",
       "    .dataframe thead th {\n",
       "        text-align: right;\n",
       "    }\n",
       "</style>\n",
       "<table border=\"1\" class=\"dataframe\">\n",
       "  <thead>\n",
       "    <tr style=\"text-align: right;\">\n",
       "      <th></th>\n",
       "      <th>Drug</th>\n",
       "      <th>Class</th>\n",
       "    </tr>\n",
       "  </thead>\n",
       "  <tbody>\n",
       "    <tr>\n",
       "      <td>0</td>\n",
       "      <td>drug_12</td>\n",
       "      <td>Class 1</td>\n",
       "    </tr>\n",
       "    <tr>\n",
       "      <td>17</td>\n",
       "      <td>drug_13</td>\n",
       "      <td>Class 1</td>\n",
       "    </tr>\n",
       "    <tr>\n",
       "      <td>21</td>\n",
       "      <td>drug_14</td>\n",
       "      <td>Class 1</td>\n",
       "    </tr>\n",
       "    <tr>\n",
       "      <td>32</td>\n",
       "      <td>drug_2</td>\n",
       "      <td>Class 1</td>\n",
       "    </tr>\n",
       "    <tr>\n",
       "      <td>46</td>\n",
       "      <td>drug_20</td>\n",
       "      <td>Class 1</td>\n",
       "    </tr>\n",
       "  </tbody>\n",
       "</table>\n",
       "</div>"
      ],
      "text/plain": [
       "       Drug    Class\n",
       "0   drug_12  Class 1\n",
       "17  drug_13  Class 1\n",
       "21  drug_14  Class 1\n",
       "32   drug_2  Class 1\n",
       "46  drug_20  Class 1"
      ]
     },
     "execution_count": 61,
     "metadata": {},
     "output_type": "execute_result"
    }
   ],
   "source": [
    "#df of drugs with their class\n",
    "drug_class = df[['Drug', 'Class']].drop_duplicates()\n",
    "drug_class.head()"
   ]
  },
  {
   "cell_type": "markdown",
   "metadata": {},
   "source": [
    "### Logistic Regression"
   ]
  },
  {
   "cell_type": "markdown",
   "metadata": {},
   "source": [
    "First we will implement a logistic regression model with a lasso coefficient. Other changes we make are:\n",
    "- Split data into training and validation using LeaveOneGroupOut. Each group is a drug. This allows us to mimic a test situation where we obtain a drug with an unknown mechanism of action    \n",
    "- Use lasso regularization\n",
    "- Use SMOTE (Synthetic Minority Over-sampling TEchnique) to correct for class imbalance"
   ]
  },
  {
   "cell_type": "markdown",
   "metadata": {},
   "source": [
    "First we will iterate over a number of regularization strengths"
   ]
  },
  {
   "cell_type": "code",
   "execution_count": 8,
   "metadata": {
    "ExecuteTime": {
     "end_time": "2020-04-20T13:56:45.331274Z",
     "start_time": "2020-04-20T13:56:45.288753Z"
    }
   },
   "outputs": [],
   "source": [
    "def logistic_reg_vanilla(df: pd.DataFrame, C: float) -> float:\n",
    "    \"\"\"\n",
    "    Fits a logistic regression model using leave out group out for validation and SMOTE for oversampling. Returns cross entropy loss\n",
    "    \"\"\"\n",
    "    X = df.filter(regex=('\\.')).values\n",
    "    y = df['Class'].values\n",
    "    groups = df['Drug'].values\n",
    "    n_classes = df['Class'].nunique()\n",
    "    predictions = np.full([len(y), n_classes], np.nan)\n",
    "    logo = LeaveOneGroupOut()\n",
    "    for train_ind, test_ind in logo.split(X, y, groups):\n",
    "        X_train, y_train= SMOTE().fit_sample(X[train_ind], y[train_ind])\n",
    "        X_test, y_test = X[test_ind], y[test_ind]   \n",
    "        model = LogisticRegression(penalty='l1', C=C, solver='liblinear', multi_class='ovr')\n",
    "        model.fit(X_train, y_train)\n",
    "        predictions[test_ind] = model.predict_proba(X_test)\n",
    "    ce = log_loss(y, predictions)\n",
    "    return ce\n",
    "        \n",
    "        "
   ]
  },
  {
   "cell_type": "code",
   "execution_count": 27,
   "metadata": {
    "ExecuteTime": {
     "end_time": "2020-04-09T14:52:08.619085Z",
     "start_time": "2020-04-09T14:37:35.574283Z"
    }
   },
   "outputs": [
    {
     "name": "stderr",
     "output_type": "stream",
     "text": [
      "\r",
      "  0%|                                                                                            | 0/5 [00:00<?, ?it/s]"
     ]
    },
    {
     "name": "stdout",
     "output_type": "stream",
     "text": [
      "C : 0.01, cross-entropy: 1.2805306723809062\n"
     ]
    },
    {
     "name": "stderr",
     "output_type": "stream",
     "text": [
      "\r",
      " 20%|████████████████▊                                                                   | 1/5 [01:39<06:36, 99.09s/it]"
     ]
    },
    {
     "name": "stdout",
     "output_type": "stream",
     "text": [
      "C : 0.1, cross-entropy: 0.8427116188611455\n"
     ]
    },
    {
     "name": "stderr",
     "output_type": "stream",
     "text": [
      "\r",
      " 40%|█████████████████████████████████▏                                                 | 2/5 [04:29<06:01, 120.54s/it]"
     ]
    },
    {
     "name": "stdout",
     "output_type": "stream",
     "text": [
      "C : 1, cross-entropy: 0.9831816082805978\n"
     ]
    },
    {
     "name": "stderr",
     "output_type": "stream",
     "text": [
      "\r",
      " 60%|█████████████████████████████████████████████████▊                                 | 3/5 [08:45<05:21, 160.98s/it]"
     ]
    },
    {
     "name": "stdout",
     "output_type": "stream",
     "text": [
      "C : 10, cross-entropy: 1.0055688717317086\n"
     ]
    },
    {
     "name": "stderr",
     "output_type": "stream",
     "text": [
      "\r",
      " 80%|██████████████████████████████████████████████████████████████████▍                | 4/5 [11:58<02:50, 170.87s/it]"
     ]
    },
    {
     "name": "stdout",
     "output_type": "stream",
     "text": [
      "C : 100, cross-entropy: 1.18687016395269\n"
     ]
    },
    {
     "name": "stderr",
     "output_type": "stream",
     "text": [
      "100%|███████████████████████████████████████████████████████████████████████████████████| 5/5 [14:33<00:00, 165.82s/it]\n"
     ]
    }
   ],
   "source": [
    "output_metrics = {}\n",
    "for C in [0.01, 0.1, 1, 10, 100]:\n",
    "    output_metrics[C] = logistic_reg_vanilla(df, C)\n",
    "    print(f'C : {C}, cross-entropy: {output_metrics[C]}')"
   ]
  },
  {
   "cell_type": "markdown",
   "metadata": {},
   "source": [
    "The C of 0.1 seems to give the best results, hence we will use it for the next step"
   ]
  },
  {
   "cell_type": "code",
   "execution_count": 158,
   "metadata": {
    "ExecuteTime": {
     "end_time": "2020-04-20T15:12:14.627905Z",
     "start_time": "2020-04-20T15:12:14.614697Z"
    }
   },
   "outputs": [],
   "source": [
    "def logistic_reg(df: pd.DataFrame, C: float):\n",
    "    \"\"\"\n",
    "    Adapts logisitic_reg_vanilla to output feature importances and predictions. The importances are averaged over each LOGO iteration.\n",
    "    \"\"\"\n",
    "    X = df.filter(regex=('\\.')).values\n",
    "    y = df['Class'].values\n",
    "    groups = df['Drug'].values\n",
    "    n_classes = df['Class'].nunique()\n",
    "    predictions = np.full([len(y), n_classes], np.nan)\n",
    "    logo = LeaveOneGroupOut()\n",
    "    feature_importances  = np.zeros([n_classes, X.shape[1]])\n",
    "    for train_ind, test_ind in logo.split(X, y, groups):\n",
    "        X_train, y_train= SMOTE().fit_sample(X[train_ind], y[train_ind])\n",
    "        X_test, y_test = X[test_ind], y[test_ind]   \n",
    "        model = LogisticRegression(penalty='l1', C=C, solver='liblinear', multi_class='ovr')\n",
    "        model.fit(X_train, y_train)\n",
    "        predictions[test_ind] = model.predict_proba(X_test)\n",
    "        feature_importances += model.coef_\n",
    "        \n",
    "    #format predictions and feature importances before output\n",
    "    predictions = pd.DataFrame(predictions, columns= model.classes_)\n",
    "    predictions = predictions.merge(df[['Drug', 'Class']], left_index=True, right_index=True)\n",
    "    feature_importances = np.abs(feature_importances.T)\n",
    "    feature_importances = feature_importances/len(groups)\n",
    "    feature_importances = pd.DataFrame(feature_importances, columns = model.classes_)\n",
    "    feature_importances['Strain'] = df.filter(regex=('\\.')).columns\n",
    "    feature_importances = feature_importances[['Strain']+list(model.classes_)]\n",
    "    return predictions, feature_importances\n",
    "    "
   ]
  },
  {
   "cell_type": "code",
   "execution_count": 192,
   "metadata": {
    "ExecuteTime": {
     "end_time": "2020-04-20T15:25:20.047865Z",
     "start_time": "2020-04-20T15:23:36.941073Z"
    }
   },
   "outputs": [],
   "source": [
    "predictions, feature_importances = logistic_reg(df, C=0.1)"
   ]
  },
  {
   "cell_type": "code",
   "execution_count": 193,
   "metadata": {
    "ExecuteTime": {
     "end_time": "2020-04-20T15:25:20.332764Z",
     "start_time": "2020-04-20T15:25:20.295760Z"
    }
   },
   "outputs": [
    {
     "data": {
      "text/html": [
       "<div>\n",
       "<style scoped>\n",
       "    .dataframe tbody tr th:only-of-type {\n",
       "        vertical-align: middle;\n",
       "    }\n",
       "\n",
       "    .dataframe tbody tr th {\n",
       "        vertical-align: top;\n",
       "    }\n",
       "\n",
       "    .dataframe thead th {\n",
       "        text-align: right;\n",
       "    }\n",
       "</style>\n",
       "<table border=\"1\" class=\"dataframe\">\n",
       "  <thead>\n",
       "    <tr style=\"text-align: right;\">\n",
       "      <th></th>\n",
       "      <th>Strain</th>\n",
       "      <th>Class 1</th>\n",
       "      <th>Class 2</th>\n",
       "      <th>Class 3</th>\n",
       "      <th>Class 4</th>\n",
       "      <th>Class 5</th>\n",
       "      <th>Class 6</th>\n",
       "    </tr>\n",
       "  </thead>\n",
       "  <tbody>\n",
       "    <tr>\n",
       "      <td>0</td>\n",
       "      <td>strain.0</td>\n",
       "      <td>0.006511</td>\n",
       "      <td>0.0</td>\n",
       "      <td>0.000000</td>\n",
       "      <td>0.0</td>\n",
       "      <td>0.0</td>\n",
       "      <td>0.000000</td>\n",
       "    </tr>\n",
       "    <tr>\n",
       "      <td>1</td>\n",
       "      <td>strain.1</td>\n",
       "      <td>0.000000</td>\n",
       "      <td>0.0</td>\n",
       "      <td>0.000000</td>\n",
       "      <td>0.0</td>\n",
       "      <td>0.0</td>\n",
       "      <td>0.000000</td>\n",
       "    </tr>\n",
       "    <tr>\n",
       "      <td>2</td>\n",
       "      <td>strain.10</td>\n",
       "      <td>0.000000</td>\n",
       "      <td>0.0</td>\n",
       "      <td>0.000000</td>\n",
       "      <td>0.0</td>\n",
       "      <td>0.0</td>\n",
       "      <td>0.019763</td>\n",
       "    </tr>\n",
       "    <tr>\n",
       "      <td>3</td>\n",
       "      <td>strain.100</td>\n",
       "      <td>0.000000</td>\n",
       "      <td>0.0</td>\n",
       "      <td>0.000000</td>\n",
       "      <td>0.0</td>\n",
       "      <td>0.0</td>\n",
       "      <td>0.000000</td>\n",
       "    </tr>\n",
       "    <tr>\n",
       "      <td>4</td>\n",
       "      <td>strain.101</td>\n",
       "      <td>0.000000</td>\n",
       "      <td>0.0</td>\n",
       "      <td>0.000003</td>\n",
       "      <td>0.0</td>\n",
       "      <td>0.0</td>\n",
       "      <td>0.022455</td>\n",
       "    </tr>\n",
       "  </tbody>\n",
       "</table>\n",
       "</div>"
      ],
      "text/plain": [
       "       Strain   Class 1  Class 2   Class 3  Class 4  Class 5   Class 6\n",
       "0    strain.0  0.006511      0.0  0.000000      0.0      0.0  0.000000\n",
       "1    strain.1  0.000000      0.0  0.000000      0.0      0.0  0.000000\n",
       "2   strain.10  0.000000      0.0  0.000000      0.0      0.0  0.019763\n",
       "3  strain.100  0.000000      0.0  0.000000      0.0      0.0  0.000000\n",
       "4  strain.101  0.000000      0.0  0.000003      0.0      0.0  0.022455"
      ]
     },
     "execution_count": 193,
     "metadata": {},
     "output_type": "execute_result"
    }
   ],
   "source": [
    "feature_importances.head()"
   ]
  },
  {
   "cell_type": "code",
   "execution_count": 194,
   "metadata": {
    "ExecuteTime": {
     "end_time": "2020-04-20T15:25:20.769756Z",
     "start_time": "2020-04-20T15:25:20.709758Z"
    }
   },
   "outputs": [
    {
     "data": {
      "text/html": [
       "<div>\n",
       "<style scoped>\n",
       "    .dataframe tbody tr th:only-of-type {\n",
       "        vertical-align: middle;\n",
       "    }\n",
       "\n",
       "    .dataframe tbody tr th {\n",
       "        vertical-align: top;\n",
       "    }\n",
       "\n",
       "    .dataframe thead th {\n",
       "        text-align: right;\n",
       "    }\n",
       "</style>\n",
       "<table border=\"1\" class=\"dataframe\">\n",
       "  <thead>\n",
       "    <tr style=\"text-align: right;\">\n",
       "      <th></th>\n",
       "      <th>rank</th>\n",
       "      <th>Class</th>\n",
       "      <th>feature_importance</th>\n",
       "    </tr>\n",
       "  </thead>\n",
       "  <tbody>\n",
       "    <tr>\n",
       "      <td>0</td>\n",
       "      <td>0</td>\n",
       "      <td>Class 1</td>\n",
       "      <td>0.110939</td>\n",
       "    </tr>\n",
       "    <tr>\n",
       "      <td>1</td>\n",
       "      <td>1</td>\n",
       "      <td>Class 1</td>\n",
       "      <td>0.090653</td>\n",
       "    </tr>\n",
       "    <tr>\n",
       "      <td>2</td>\n",
       "      <td>2</td>\n",
       "      <td>Class 1</td>\n",
       "      <td>0.075488</td>\n",
       "    </tr>\n",
       "    <tr>\n",
       "      <td>3</td>\n",
       "      <td>3</td>\n",
       "      <td>Class 1</td>\n",
       "      <td>0.070808</td>\n",
       "    </tr>\n",
       "    <tr>\n",
       "      <td>4</td>\n",
       "      <td>4</td>\n",
       "      <td>Class 1</td>\n",
       "      <td>0.069415</td>\n",
       "    </tr>\n",
       "  </tbody>\n",
       "</table>\n",
       "</div>"
      ],
      "text/plain": [
       "   rank    Class  feature_importance\n",
       "0     0  Class 1            0.110939\n",
       "1     1  Class 1            0.090653\n",
       "2     2  Class 1            0.075488\n",
       "3     3  Class 1            0.070808\n",
       "4     4  Class 1            0.069415"
      ]
     },
     "execution_count": 194,
     "metadata": {},
     "output_type": "execute_result"
    }
   ],
   "source": [
    "feature_importances_ranked = pd.DataFrame({'rank': range(feature_importances.shape[0])})\n",
    "feature_importances_ranked[class_names] = feature_importances[class_names].apply(lambda col: col.sort_values(ascending=False).values, axis=0)\n",
    "feature_importances_ranked = feature_importances_ranked.melt(id_vars = 'rank', value_name='feature_importance', var_name='Class')\n",
    "feature_importances_ranked.head()"
   ]
  },
  {
   "cell_type": "code",
   "execution_count": 195,
   "metadata": {
    "ExecuteTime": {
     "end_time": "2020-04-20T15:25:21.708276Z",
     "start_time": "2020-04-20T15:25:21.010760Z"
    }
   },
   "outputs": [
    {
     "data": {
      "image/png": "[encoded data removed]",
      "text/plain": [
       "<Figure size 1000x300 with 1 Axes>"
      ]
     },
     "metadata": {},
     "output_type": "display_data"
    },
    {
     "data": {
      "text/plain": [
       "<ggplot: (121113511751)>"
      ]
     },
     "execution_count": 195,
     "metadata": {},
     "output_type": "execute_result"
    }
   ],
   "source": [
    "(ggplot(feature_importances_ranked, aes(x='rank', y='feature_importance', color='Class'))\n",
    "+geom_line(size=1.0)\n",
    "+theme_light()\n",
    "+theme(figure_size=(10,3))\n",
    "+scale_x_continuous(breaks=list(range(0,451, 50)))\n",
    "+scale_color_brewer(type='qual', palette='Set1'))"
   ]
  },
  {
   "cell_type": "code",
   "execution_count": 196,
   "metadata": {
    "ExecuteTime": {
     "end_time": "2020-04-20T15:25:22.020874Z",
     "start_time": "2020-04-20T15:25:22.008275Z"
    }
   },
   "outputs": [],
   "source": [
    "def extract_useful_features(col, n):\n",
    "    largest = col.nlargest(n)\n",
    "    largest = largest[largest!=0]\n",
    "    return largest.index.to_list()    "
   ]
  },
  {
   "cell_type": "code",
   "execution_count": 197,
   "metadata": {
    "ExecuteTime": {
     "end_time": "2020-04-20T15:25:22.335925Z",
     "start_time": "2020-04-20T15:25:22.295910Z"
    }
   },
   "outputs": [
    {
     "data": {
      "text/plain": [
       "227"
      ]
     },
     "execution_count": 197,
     "metadata": {},
     "output_type": "execute_result"
    }
   ],
   "source": [
    "feature_importances = feature_importances.set_index('Strain')\n",
    "minimal_features = list(set(feature_importances[class_names].apply(extract_useful_features, args=(75,)).sum()))\n",
    "print(len(minimal_features))"
   ]
  },
  {
   "cell_type": "code",
   "execution_count": 199,
   "metadata": {
    "ExecuteTime": {
     "end_time": "2020-04-20T15:26:03.703674Z",
     "start_time": "2020-04-20T15:26:03.685672Z"
    }
   },
   "outputs": [],
   "source": [
    "#create df with minimal_features\n",
    "feature_importances = feature_importances.reset_index()\n",
    "feature_importances_filt = feature_importances[feature_importances['Strain'].isin(minimal_features)]\n",
    "feature_importances_filt['total_importance'] = feature_importances_filt[class_names].sum(axis=1)"
   ]
  },
  {
   "cell_type": "code",
   "execution_count": 220,
   "metadata": {
    "ExecuteTime": {
     "end_time": "2020-04-20T15:35:18.988843Z",
     "start_time": "2020-04-20T15:35:18.968310Z"
    }
   },
   "outputs": [],
   "source": [
    "#make 'Strain' a categorical column for ggplot\n",
    "strains_sorted = feature_importances_filt.sort_values(by='total_importance', ascending=False)['Strain'].values\n",
    "feature_importances_filt['Strain'] = pd.Categorical(feature_importances_filt['Strain'], strains_sorted, ordered=True)"
   ]
  },
  {
   "cell_type": "code",
   "execution_count": 229,
   "metadata": {
    "ExecuteTime": {
     "end_time": "2020-04-20T15:40:06.035164Z",
     "start_time": "2020-04-20T15:40:04.996008Z"
    }
   },
   "outputs": [
    {
     "data": {
      "image/png": "[encoded data removed]",
      "text/plain": [
       "<Figure size 1000x300 with 1 Axes>"
      ]
     },
     "metadata": {},
     "output_type": "display_data"
    },
    {
     "data": {
      "text/plain": [
       "<ggplot: (121115314671)>"
      ]
     },
     "execution_count": 229,
     "metadata": {},
     "output_type": "execute_result"
    }
   ],
   "source": [
    "(ggplot(feature_importances_filt.iloc[1:50, :], aes(x='Strain', y='total_importance', fill='total_importance'))\n",
    "+geom_col()\n",
    "+theme_light()\n",
    "+theme(figure_size=(10,3), axis_text_x=element_text(angle=90))\n",
    "+scale_fill_cmap(name='plasma')\n",
    ")"
   ]
  }
 ],
 "metadata": {
  "kernelspec": {
   "display_name": "Python 3",
   "language": "python",
   "name": "python3"
  },
  "language_info": {
   "codemirror_mode": {
    "name": "ipython",
    "version": 3
   },
   "file_extension": ".py",
   "mimetype": "text/x-python",
   "name": "python",
   "nbconvert_exporter": "python",
   "pygments_lexer": "ipython3",
   "version": "3.7.3"
  },
  "toc": {
   "base_numbering": 1,
   "nav_menu": {},
   "number_sections": true,
   "sideBar": true,
   "skip_h1_title": false,
   "title_cell": "Table of Contents",
   "title_sidebar": "Contents",
   "toc_cell": false,
   "toc_position": {},
   "toc_section_display": true,
   "toc_window_display": false
  },
  "varInspector": {
   "cols": {
    "lenName": 16,
    "lenType": 16,
    "lenVar": 40
   },
   "kernels_config": {
    "python": {
     "delete_cmd_postfix": "",
     "delete_cmd_prefix": "del ",
     "library": "var_list.py",
     "varRefreshCmd": "print(var_dic_list())"
    },
    "r": {
     "delete_cmd_postfix": ") ",
     "delete_cmd_prefix": "rm(",
     "library": "var_list.r",
     "varRefreshCmd": "cat(var_dic_list()) "
    }
   },
   "types_to_exclude": [
    "module",
    "function",
    "builtin_function_or_method",
    "instance",
    "_Feature"
   ],
   "window_display": false
  }
 },
 "nbformat": 4,
 "nbformat_minor": 2
}
